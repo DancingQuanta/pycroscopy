{
 "cells": [
  {
   "cell_type": "markdown",
   "metadata": {},
   "source": [
    "# Dynamic atomic force microscopy simulations over a viscoelastic material"
   ]
  },
  {
   "cell_type": "markdown",
   "metadata": {},
   "source": [
    "This notebook contains atomic force microscopy (AFM) dynamic simulations for the case of a tapping mode simulation. In this example only the 1st eigenmode is excited, but you can easily modify it to excite up to three eigenmodes. The cantilever dynamics are assumed to be contained in the first three eigenmodes.\n",
    "\n",
    "The simulation corresponds to the case of an AFM spherical tip interacting with a viscoelastic surface. The viscoelastic model is a generalized Maxwell model (Wiechert model) containing a large number of characteristic times. The contact mechanics have been implemented with respect to the classical theory of Lee and Radok: Lee, E. Ho, and Jens Rainer Maria Radok. \"The contact problem for viscoelastic bodies.\" Journal of Applied Mechanics 27.3 (1960): 438-444."
   ]
  },
  {
   "cell_type": "markdown",
   "metadata": {},
   "source": [
    "### Let's first start by importing some useful libraries"
   ]
  },
  {
   "cell_type": "code",
   "execution_count": 1,
   "metadata": {
    "collapsed": true
   },
   "outputs": [],
   "source": [
    "from AFM_lib import GenMaxwell_LR\n",
    "from AFM_calculations import Amp_Phase, Ediss_Tamayo, virial_Lozano, E_diss, V_ts\n",
    "import numpy as np\n",
    "import matplotlib.pyplot as plt\n",
    "from numba import jit\n",
    "import pandas as pd\n",
    "import os\n",
    "%matplotlib inline\n",
    "\n",
    "path = os.getcwd()"
   ]
  },
  {
   "cell_type": "markdown",
   "metadata": {},
   "source": [
    "### Inserting simulation parameters"
   ]
  },
  {
   "cell_type": "code",
   "execution_count": 2,
   "metadata": {},
   "outputs": [],
   "source": [
    "fo1, fo2, fo3 = 45.0e3, 280.0e3, 17.6*45.0e3 #eigenmodes' resonance frequencies\n",
    "k_m1, k_m2, k_m3 = 5.80, 210.0, 5.80*(fo3/fo1) #1st eigenmode cantilever stiffness\n",
    "A1, A2, A3 = 350.0e-9, 0.0, 0.0  #target oscillating free amplitude of the 1st three eigenmodes\n",
    "Q1, Q2, Q3 = 167.0,340.0, 500.0 #quality factor of the\n",
    "          \n",
    "R = 10.0e-9 #tip radius\n",
    "\n",
    "period1, period2 = 1.0/fo1, 1.0/fo2 #oscillating period of first two eigenmodes\n",
    "\n",
    "dt = period1/10.0e3 #simulation timestep\n",
    "startprint = 5.0*Q1*period1 #starting point when results will start to get printed\n",
    "simultime = startprint + 10.0*period1 #total simulation time\n",
    "printstep = period1/1.0e3 #how often the results will be stored"
   ]
  },
  {
   "cell_type": "markdown",
   "metadata": {},
   "source": [
    "### Pulling sample parameters corresponding to Polyisobutylene (data obtained from: Brinson, Hal F., and L. Catherine Brinson. \"Polymer engineering science and viscoelasticity.\" An Introduction (2008).)"
   ]
  },
  {
   "cell_type": "code",
   "execution_count": 3,
   "metadata": {
    "collapsed": true
   },
   "outputs": [],
   "source": [
    "#Sample parameters for polyisobutylene\n",
    "df_G = pd.read_csv('PIB.txt', delimiter='\\t', header=None)\n",
    "tau = df_G.iloc[:,0].values  #relaxation times of the generalized Maxwell model\n",
    "G = df_G.iloc[:,1].values #moduli of the springs in the Maxwell arms \n",
    "Ge = 0.0 #equilibrium modulus (rubbery modulus)\n",
    "H = 2.0e-19 #Hammaker constant"
   ]
  },
  {
   "cell_type": "markdown",
   "metadata": {},
   "source": [
    "## Main portion of the simulation"
   ]
  },
  {
   "cell_type": "markdown",
   "metadata": {},
   "source": [
    "The simulations described correspond to dynamic AFM spectroscopy simulations. Here, the cantilever will be brought towards the sample approaching with discrete steps and will be allowed to oscillate until achieving a quasi-steady state. From the tip trajectories and other information recoreded (e.g., tip-sample force, sample position) in the steady state it will be possible to retrieve common information recorded in a dynamic spectroscopy experiment (e.g., amplitude, phase curves)."
   ]
  },
  {
   "cell_type": "code",
   "execution_count": 4,
   "metadata": {},
   "outputs": [
    {
     "name": "stdout",
     "output_type": "stream",
     "text": [
      "Wall time: 19.2 s\n",
      "Wall time: 46.4 s\n",
      "Wall time: 41.8 s\n",
      "Wall time: 47.1 s\n",
      "Wall time: 54.5 s\n",
      "Wall time: 43.6 s\n",
      "Wall time: 39.6 s\n",
      "Wall time: 43.4 s\n",
      "Wall time: 36.6 s\n",
      "Wall time: 31.7 s\n",
      "Wall time: 45.7 s\n",
      "Wall time: 45.8 s\n",
      "Wall time: 46.7 s\n",
      "Wall time: 57.4 s\n",
      "Wall time: 41.1 s\n",
      "Wall time: 36.1 s\n",
      "Wall time: 53.3 s\n",
      "Wall time: 49.8 s\n",
      "Wall time: 39.1 s\n",
      "Wall time: 44.2 s\n",
      "Wall time: 35.4 s\n",
      "Wall time: 32.4 s\n",
      "Wall time: 43.6 s\n",
      "Wall time: 36.4 s\n",
      "Wall time: 42.7 s\n",
      "Wall time: 48 s\n",
      "Wall time: 44 s\n",
      "Wall time: 41.7 s\n",
      "Wall time: 46.9 s\n",
      "Wall time: 37.4 s\n",
      "Wall time: 44.9 s\n",
      "Wall time: 51.5 s\n",
      "Wall time: 46.2 s\n",
      "Wall time: 58.3 s\n",
      "Wall time: 50.2 s\n",
      "Wall time: 40.7 s\n",
      "Wall time: 43.6 s\n",
      "Wall time: 47.5 s\n",
      "Wall time: 35.1 s\n",
      "Wall time: 44.4 s\n",
      "Wall time: 41 s\n",
      "Wall time: 50.3 s\n",
      "Wall time: 51.6 s\n",
      "Wall time: 49.8 s\n",
      "Wall time: 55.1 s\n"
     ]
    }
   ],
   "source": [
    "zb = A1\n",
    "GenMaxwell_jit = jit()(GenMaxwell_LR)\n",
    "\n",
    "zeq = []\n",
    "peakF = []\n",
    "maxdepth = []\n",
    "amp = []\n",
    "phase = []\n",
    "Ediss = []\n",
    "Ediss_tamayo = []\n",
    "Vdiss_lozano = []\n",
    "Vdiss = []\n",
    "\n",
    "while zb > -100.0e-9:\n",
    "    %time t, tip, Fts, xb = GenMaxwell_jit(G, tau, R, dt, startprint, simultime, fo1, fo2, fo3, k_m1, k_m2,k_m3, A1, A2, A3, zb, printstep, Ge, Q1, Q2, Q3, H)\n",
    "    A,phi = Amp_Phase(t, tip, fo1)\n",
    "    Ets = E_diss(tip, Fts, dt, fo1)\n",
    "    fts_peak = Fts[np.argmax(Fts)]\n",
    "    tip_depth = xb[np.argmax(tip)] -xb[np.argmin(tip)]\n",
    "    Vts = V_ts(tip-zb, Fts, dt)\n",
    "    Ets_tamayo = Ediss_Tamayo(k_m1, Q1, A1, A, phi)\n",
    "    Vts_lozano = virial_Lozano(k_m1, Q1, A1, A, phi)\n",
    "    \n",
    "    #Attaching values to arrays\n",
    "    zeq.append(zb)\n",
    "    peakF.append(fts_peak)\n",
    "    maxdepth.append(tip_depth)\n",
    "    amp.append(A)\n",
    "    phase.append(phi)\n",
    "    Ediss.append(Ets)\n",
    "    Vdiss.append(Vts)\n",
    "    Vdiss_lozano.append(Vts_lozano)\n",
    "    Ediss_tamayo.append(Ets_tamayo)\n",
    "    \n",
    "    zb = zb - 10.0e-9\n",
    "\n",
    "zeq = np.array(zeq)\n",
    "peakF= np.array(peakF)\n",
    "maxdepth = np.array(maxdepth)\n",
    "amp = np.array(amp)\n",
    "phase = np.array(phase)\n",
    "Ediss = np.array(Ediss)\n",
    "Vdiss = np.array(Vdiss)\n",
    "Vdiss_lozano = np.array(Vdiss_lozano)\n",
    "Ediss_tamayo = np.array(Ediss_tamayo)"
   ]
  },
  {
   "cell_type": "markdown",
   "metadata": {},
   "source": [
    "### Plotting dynamic spectroscopy curves (Amplitude, Phase approach curves)"
   ]
  },
  {
   "cell_type": "code",
   "execution_count": 6,
   "metadata": {},
   "outputs": [
    {
     "data": {
      "text/plain": [
       "<matplotlib.text.Text at 0x97bbef0>"
      ]
     },
     "execution_count": 6,
     "metadata": {},
     "output_type": "execute_result"
    },
    {
     "data": {
      "image/png": "[encoded data removed]",
      "text/plain": [
       "<matplotlib.figure.Figure at 0x9799828>"
      ]
     },
     "metadata": {},
     "output_type": "display_data"
    }
   ],
   "source": [
    "plt.plot(amp/A1, phase, '*')\n",
    "plt.xlabel('$A_0/A_1$', fontsize =15)\n",
    "plt.ylabel('Phase, deg', fontsize=15)"
   ]
  },
  {
   "cell_type": "code",
   "execution_count": 7,
   "metadata": {},
   "outputs": [
    {
     "data": {
      "text/plain": [
       "<matplotlib.text.Text at 0xc0327b8>"
      ]
     },
     "execution_count": 7,
     "metadata": {},
     "output_type": "execute_result"
    },
    {
     "data": {
      "image/png": "[encoded data removed]",
      "text/plain": [
       "<matplotlib.figure.Figure at 0xc016ef0>"
      ]
     },
     "metadata": {},
     "output_type": "display_data"
    }
   ],
   "source": [
    "plt.plot(zeq, amp, '*')\n",
    "plt.xlabel('$A_0/A_1$', fontsize =15)\n",
    "plt.ylabel('Phase, deg', fontsize=15)"
   ]
  },
  {
   "cell_type": "markdown",
   "metadata": {},
   "source": [
    "## Plotting more results"
   ]
  },
  {
   "cell_type": "code",
   "execution_count": 8,
   "metadata": {},
   "outputs": [
    {
     "data": {
      "image/png": "[encoded data removed]",
      "text/plain": [
       "<matplotlib.figure.Figure at 0xc032358>"
      ]
     },
     "metadata": {},
     "output_type": "display_data"
    },
    {
     "data": {
      "image/png": "[encoded data removed]",
      "text/plain": [
       "<matplotlib.figure.Figure at 0xb93d0b8>"
      ]
     },
     "metadata": {},
     "output_type": "display_data"
    }
   ],
   "source": [
    "plt.figure(1)\n",
    "plt.plot(amp/A1, -maxdepth*1.0e9, '*')\n",
    "plt.xlabel('$A_0/A_1$', fontsize =15)\n",
    "plt.ylabel('Maximum Penetration, nm', fontsize=15)\n",
    "plt.savefig('Max_penetration.png', bbox_inches='tight')\n",
    "\n",
    "plt.figure(2)\n",
    "plt.plot(amp/A1, peakF*1.0e9, '*')\n",
    "plt.xlabel('$A_0/A_1$', fontsize =15)\n",
    "plt.ylabel('Peak Force, nN', fontsize=15)\n",
    "plt.savefig('Max_Force.png', bbox_inches='tight')"
   ]
  },
  {
   "cell_type": "code",
   "execution_count": null,
   "metadata": {
    "collapsed": true
   },
   "outputs": [],
   "source": []
  }
 ],
 "metadata": {
  "kernelspec": {
   "display_name": "Python 2",
   "language": "python",
   "name": "python2"
  },
  "language_info": {
   "codemirror_mode": {
    "name": "ipython",
    "version": 2
   },
   "file_extension": ".py",
   "mimetype": "text/x-python",
   "name": "python",
   "nbconvert_exporter": "python",
   "pygments_lexer": "ipython2",
   "version": "2.7.13"
  }
 },
 "nbformat": 4,
 "nbformat_minor": 2
}
