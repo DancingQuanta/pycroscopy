{
 "cells": [
  {
   "cell_type": "markdown",
   "metadata": {},
   "source": [
    "# Band Excitation data procesing using pycroscopy\n",
    "### Suhas Somnath, Chris R. Smith, Stephen Jesse\n",
    "The Center for Nanophase Materials Science and The Institute for Functional Imaging for Materials <br>\n",
    "Oak Ridge National Laboratory<br>\n",
    "2/10/2017"
   ]
  },
  {
   "cell_type": "markdown",
   "metadata": {},
   "source": [
    "## Configure the notebook"
   ]
  },
  {
   "cell_type": "code",
   "execution_count": null,
   "metadata": {
    "collapsed": false
   },
   "outputs": [],
   "source": [
    "# set up notebook to show plots within the notebook\n",
    "% matplotlib inline\n",
    "\n",
    "# Import necessary libraries:\n",
    "# General utilities:\n",
    "import sys\n",
    "import os\n",
    "\n",
    "# Computation:\n",
    "import numpy as np\n",
    "import h5py\n",
    "\n",
    "# Visualization:\n",
    "import matplotlib.pyplot as plt\n",
    "from IPython.display import display\n",
    "\n",
    "# Finally, pycroscopy itself\n",
    "import pycroscopy as px"
   ]
  },
  {
   "cell_type": "markdown",
   "metadata": {},
   "source": [
    "## Set some basic parameters for computation\n",
    "This notebook performs some functional fitting whose duration can be substantially decreased by using more memory and CPU cores. We have provided default values below but you may choose to change them if necessary."
   ]
  },
  {
   "cell_type": "code",
   "execution_count": null,
   "metadata": {
    "collapsed": true
   },
   "outputs": [],
   "source": [
    "max_mem         = 1024*8  # Maximum memory to use, in Mbs. Default = 1024\n",
    "max_cores       = None    # Number of logical cores to use in fitting.  None uses all but 2 available cores."
   ]
  },
  {
   "cell_type": "markdown",
   "metadata": {},
   "source": [
    "## Make the data pycroscopy compatible\n",
    "Converting the raw data into a pycroscopy compatible hierarchical data format (HDF or .h5) file gives you access to the fast fitting algorithms and powerful analysis functions within pycroscopy\n",
    "\n",
    "#### H5 files:\n",
    "* are like smart containers that can store matrices with data, folders to organize these datasets, images, metadata like experimental parameters, links or shortcuts to datasets, etc.\n",
    "* are readily compatible with high-performance computing facilities\n",
    "* scale very efficiently from few kilobytes to several terabytes\n",
    "* can be read and modified using any language including Python, Matlab, C/C++, Java, Fortran, Igor Pro, etc.\n",
    "\n",
    "#### You can load either of the following:\n",
    "* Any .mat or .txt parameter file from the original experiment\n",
    "* A .h5 file generated from the raw data using pycroscopy - skips translation\n",
    "\n",
    "You can select desired file type by choosing the second option in the pull down menu on the bottom right of the file window"
   ]
  },
  {
   "cell_type": "code",
   "execution_count": null,
   "metadata": {
    "collapsed": false
   },
   "outputs": [],
   "source": [
    "input_file_path = px.io_utils.uiGetFile(caption='Select translated .h5 file or raw experiment data',\n",
    "                                        filter='Parameters for raw BE data (*.txt *.mat);; Translated file (*.h5)')\n",
    "\n",
    "(data_dir, data_name) = os.path.split(input_file_path)\n",
    "\n",
    "if input_file_path.endswith('.h5'):\n",
    "    # No translation here\n",
    "    h5_path = input_file_path\n",
    "else:\n",
    "    # Set the data to be translated\n",
    "    data_path = input_file_path\n",
    "\n",
    "    (junk, base_name) = os.path.split(data_dir)\n",
    "\n",
    "    # Check if the data is in the new or old format.  Initialize the correct translator for the format.\n",
    "    if base_name == 'newdataformat':\n",
    "        (junk, base_name) = os.path.split(junk)\n",
    "        # translator = tl.BEPSndfTranslator.BEPSndfTranslator(max_mem_mb=max_mem)\n",
    "        translator = px.BEPSndfTranslator(max_mem_mb=max_mem)\n",
    "    else:\n",
    "        # translator = tl.BEodfTranslator.BEodfTranslator(max_mem_mb=max_mem)\n",
    "        translator = px.BEodfTranslator(max_mem_mb=max_mem)\n",
    "    if base_name.endswith('_d'):\n",
    "        base_name = base_name[:-2]\n",
    "    # Translate the data\n",
    "    h5_path = translator.translate(data_path, show_plots=True, save_plots=False)\n",
    "print('Working on:\\n' + h5_path)\n",
    "\n",
    "hdf = px.ioHDF5(h5_path)\n",
    "h5_main = px.hdf_utils.getDataSet(hdf.file, 'Raw_Data')[-1]"
   ]
  },
  {
   "cell_type": "markdown",
   "metadata": {},
   "source": [
    "##### Inspect the contents of this h5 data file\n",
    "The file contents are stored in a tree structure, just like files on a conventional computer.\n",
    "The data is stored as a 2D matrix (position, spectroscopic value) regardless of the dimensionality of the data. Thus, the positions will be arranged as row0-col0, row0-col1.... row0-colN, row1-col0.... and the data for each position is stored as it was chronologically collected  \n",
    "\n",
    "The main dataset is always accompanied by four ancillary datasets that explain the position and spectroscopic value of any given element in the dataset."
   ]
  },
  {
   "cell_type": "code",
   "execution_count": null,
   "metadata": {
    "collapsed": false
   },
   "outputs": [],
   "source": [
    "print('Datasets and datagroups within the file:\\n------------------------------------')\n",
    "px.io.hdf_utils.print_tree(hdf.file)\n",
    " \n",
    "print('\\nThe main dataset:\\n------------------------------------')\n",
    "print(h5_main)\n",
    "print('\\nThe ancillary datasets:\\n------------------------------------')\n",
    "print(hdf.file['/Measurement_000/Channel_000/Position_Indices'])\n",
    "print(hdf.file['/Measurement_000/Channel_000/Position_Values'])\n",
    "print(hdf.file['/Measurement_000/Channel_000/Spectroscopic_Indices'])\n",
    "print(hdf.file['/Measurement_000/Channel_000/Spectroscopic_Values'])\n",
    "\n",
    "print('\\nMetadata or attributes in a datagroup\\n------------------------------------')\n",
    "for key in hdf.file['/Measurement_000'].attrs:\n",
    "    print('{} : {}'.format(key, hdf.file['/Measurement_000'].attrs[key]))"
   ]
  },
  {
   "cell_type": "markdown",
   "metadata": {},
   "source": [
    "## Get some basic parameters from the H5 file\n",
    "This information will be vital for futher analysis and visualization of the data"
   ]
  },
  {
   "cell_type": "code",
   "execution_count": null,
   "metadata": {
    "collapsed": true
   },
   "outputs": [],
   "source": [
    "h5_pos_inds = px.hdf_utils.getAuxData(h5_main, auxDataName='Position_Indices')[-1]\n",
    "pos_sort = px.hdf_utils.get_sort_order(np.transpose(h5_pos_inds))\n",
    "pos_dims = px.hdf_utils.get_dimensionality(np.transpose(h5_pos_inds), pos_sort)\n",
    "pos_labels = np.array(h5_pos_inds.attrs['labels'])[pos_sort]"
   ]
  },
  {
   "cell_type": "markdown",
   "metadata": {},
   "source": [
    "## Visualize the raw data\n",
    "Use the sliders below to visualize spatial maps (2D only for now), and spectrograms.\n",
    "For simplicity, all the spectroscopic dimensions such as frequency, excitation bias, cycle, field, etc. have been collapsed to a single slider."
   ]
  },
  {
   "cell_type": "code",
   "execution_count": null,
   "metadata": {
    "collapsed": false
   },
   "outputs": [],
   "source": [
    "px.be_viz_utils.jupyter_visualize_be_spectrograms(h5_main)"
   ]
  },
  {
   "cell_type": "markdown",
   "metadata": {},
   "source": [
    "## Fit the Band Excitation (BE) spectra\n",
    "Fit each of the acquired spectra to a simple harmonic oscillator (SHO) model to extract the following information regarding the response:\n",
    "* Oscillation amplitude\n",
    "* Phase\n",
    "* Resonance frequency\n",
    "* Quality factor\n",
    "\n",
    "By default, the cell below will take any previous result instead of re-computing the SHO fit"
   ]
  },
  {
   "cell_type": "code",
   "execution_count": null,
   "metadata": {
    "collapsed": false
   },
   "outputs": [],
   "source": [
    "h5_sho_group = px.hdf_utils.findH5group(h5_main, 'SHO_Fit')\n",
    "if len(h5_sho_group) == 0:\n",
    "    print('No SHO fit found. Doing SHO Fitting now')\n",
    "    sho_fitter = px.BESHOmodel(h5_main, parallel=True)\n",
    "    h5_sho_guess = sho_fitter.do_guess(strategy='complex_gaussian', processors=max_cores)\n",
    "    h5_sho_fit = sho_fitter.do_fit(processors=max_cores)\n",
    "else:\n",
    "    print('Taking previous SHO results already present in file')\n",
    "    h5_sho_guess = h5_sho_group[-1]['Guess']\n",
    "    h5_sho_fit = h5_sho_group[-1]['Fit']"
   ]
  },
  {
   "cell_type": "markdown",
   "metadata": {},
   "source": [
    "## Visualize the SHO results\n",
    "Here, we visualize the parameters for the SHO fits. BE-line (3D) data is visualized via simple spatial maps of the SHO parameters while more complex BEPS datasets (4+ dimensions) can be visualized using a simple interactive visualizer below. \n",
    "\n",
    "You can choose to visualize the guesses for SHO function or the final fit values from the first line of the cell below.\n",
    "\n",
    "Use the sliders below to inspect the BE response at any given location. "
   ]
  },
  {
   "cell_type": "code",
   "execution_count": null,
   "metadata": {
    "collapsed": false
   },
   "outputs": [],
   "source": [
    "use_sho_guess = False\n",
    "use_static_viz_func = False\n",
    "\n",
    "if use_sho_guess:\n",
    "    sho_dset = h5_sho_guess\n",
    "else:\n",
    "    sho_dset = h5_sho_fit\n",
    "\n",
    "if hdf.file.attrs['data_type'] == 'BELineData' or len(pos_dims) != 2:\n",
    "    use_static_viz_func = True\n",
    "else:\n",
    "    if h5_main.parent.parent.attrs['VS_mode'] not in ['AC modulation mode with time reversal', \n",
    "                                                      'DC modulation mode']:\n",
    "        use_static_viz_func = True\n",
    "    else:\n",
    "        if h5_main.parent.parent.attrs['VS_mode'] == 'DC modulation mode':\n",
    "            step_chan = 'DC_Offset'\n",
    "        else:\n",
    "            step_chan = 'AC_Amplitude'\n",
    "if use_static_viz_func:\n",
    "    # show plots of SHO results vs. applied bias\n",
    "    px.be_viz_utils.visualize_sho_results(sho_dset, show_plots=True, \n",
    "                                        save_plots=False)\n",
    "else:\n",
    "    # use interactive visualization\n",
    "    px.be_viz_utils.jupyter_visualize_beps_sho(sho_dset, step_chan)"
   ]
  },
  {
   "cell_type": "markdown",
   "metadata": {},
   "source": [
    "## Fit loops to a function\n",
    "This is applicable only to DC voltage spectroscopy datasets from BEPS. The PFM hysteresis loops in this dataset will be projected to maximize the loop area and then fitted to a function.\n",
    "\n",
    "Note: This computation generally takes a while for reasonably sized datasets."
   ]
  },
  {
   "cell_type": "code",
   "execution_count": null,
   "metadata": {
    "collapsed": false,
    "scrolled": false
   },
   "outputs": [],
   "source": [
    "# Do the Loop Fitting on the SHO Fit dataset\n",
    "loop_success = False\n",
    "h5_loop_group = px.hdf_utils.findH5group(h5_sho_fit, 'Loop_Fit')\n",
    "if len(h5_loop_group) == 0:\n",
    "    try:\n",
    "        loop_fitter = px.BELoopModel(h5_sho_fit, parallel=True)\n",
    "        print('No loop fits found. Fitting now....')\n",
    "        h5_loop_guess = loop_fitter.do_guess(processors=max_cores, max_mem=max_mem)\n",
    "        h5_loop_fit = loop_fitter.do_fit(processors=max_cores, max_mem=max_mem)\n",
    "        loop_success = True\n",
    "    except ValueError:\n",
    "        print('Loop fitting is applicable only to DC spectroscopy datasets!')\n",
    "else:\n",
    "    loop_success = True\n",
    "    print('Taking previously computed loop fits')\n",
    "    h5_loop_guess = h5_loop_group[-1]['Guess']\n",
    "    h5_loop_fit = h5_loop_group[-1]['Fit']"
   ]
  },
  {
   "cell_type": "markdown",
   "metadata": {},
   "source": [
    "## Prepare datasets for visualization"
   ]
  },
  {
   "cell_type": "code",
   "execution_count": null,
   "metadata": {
    "collapsed": true
   },
   "outputs": [],
   "source": [
    "# Prepare some variables for plotting loops fits and guesses\n",
    "# Plot the Loop Guess and Fit Results\n",
    "if loop_success:\n",
    "    h5_projected_loops = h5_loop_guess.parent['Projected_Loops']\n",
    "    h5_proj_spec_inds = px.hdf_utils.getAuxData(h5_projected_loops, \n",
    "                                                auxDataName='Spectroscopic_Indices')[-1]\n",
    "    h5_proj_spec_vals = px.hdf_utils.getAuxData(h5_projected_loops, \n",
    "                                                auxDataName='Spectroscopic_Values')[-1]\n",
    "\n",
    "    # reshape the vdc_vec into DC_step by Loop\n",
    "    sort_order = px.hdf_utils.get_sort_order(h5_proj_spec_inds)\n",
    "    dims = px.hdf_utils.get_dimensionality(h5_proj_spec_inds[()], \n",
    "                                           sort_order[::-1])\n",
    "    vdc_vec = np.reshape(h5_proj_spec_vals[h5_proj_spec_vals.attrs['DC_Offset']], dims).T\n",
    "\n",
    "    #Also reshape the projected loops to Positions-DC_Step-Loop\n",
    "    # Also reshape the projected loops to Positions-DC_Step-Loop\n",
    "    proj_nd, _ = px.hdf_utils.reshape_to_Ndims(h5_projected_loops)\n",
    "    proj_3d = np.reshape(proj_nd, [h5_projected_loops.shape[0], \n",
    "                                   proj_nd.shape[2], -1])"
   ]
  },
  {
   "cell_type": "markdown",
   "metadata": {},
   "source": [
    "## Visualize Loop fits"
   ]
  },
  {
   "cell_type": "code",
   "execution_count": null,
   "metadata": {
    "collapsed": false
   },
   "outputs": [],
   "source": [
    "# Plot the loops - Still Need work\n",
    "if loop_success:\n",
    "    for iloop in range(h5_loop_guess.shape[1]):\n",
    "        fig, ax = px.be_viz_utils.plot_loop_guess_fit(vdc_vec[:, iloop], proj_3d[:, :, iloop], \n",
    "                                                      h5_loop_guess[:, iloop], h5_loop_fit[:, iloop],\n",
    "                                                      title='Loop {} - All Positions'.format(iloop))"
   ]
  },
  {
   "cell_type": "code",
   "execution_count": null,
   "metadata": {
    "collapsed": false
   },
   "outputs": [],
   "source": [
    "projected_loops = h5_projected_loops\n",
    "guess_loops = h5_loop_guess\n",
    "fit_loops = h5_loop_fit\n",
    "\n",
    "px.be_viz_utils.jupyter_visualize_beps_loops(projected_loops, guess_loops, fit_loops)"
   ]
  },
  {
   "cell_type": "markdown",
   "metadata": {},
   "source": [
    "## Save and close\n",
    "* Save the .h5 file that we are working on by closing it. <br>\n",
    "* Also, consider exporting this notebook as a notebook or an html file. <br> To do this, go to File >> Download as >> HTML\n",
    "* Finally consider saving this notebook if necessary"
   ]
  },
  {
   "cell_type": "code",
   "execution_count": null,
   "metadata": {
    "collapsed": true
   },
   "outputs": [],
   "source": [
    "hdf.close()"
   ]
  },
  {
   "cell_type": "code",
   "execution_count": null,
   "metadata": {
    "collapsed": true
   },
   "outputs": [],
   "source": []
  }
 ],
 "metadata": {
  "anaconda-cloud": {},
  "kernelspec": {
   "display_name": "Python [conda root]",
   "language": "python",
   "name": "conda-root-py"
  },
  "language_info": {
   "codemirror_mode": {
    "name": "ipython",
    "version": 2
   },
   "file_extension": ".py",
   "mimetype": "text/x-python",
   "name": "python",
   "nbconvert_exporter": "python",
   "pygments_lexer": "ipython2",
   "version": "2.7.12"
  }
 },
 "nbformat": 4,
 "nbformat_minor": 0
}
