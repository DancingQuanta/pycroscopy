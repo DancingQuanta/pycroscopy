{
 "cells": [
  {
   "cell_type": "markdown",
   "metadata": {},
   "source": [
    "# Notes to self:\n",
    "* Need to explain that underline = group"
   ]
  },
  {
   "cell_type": "markdown",
   "metadata": {},
   "source": [
    "# HDF Utils Tutorial\n",
    "\n",
    "The h5py python package provides great functions to create and manage data in HDF5 files. In pycroscopy.hdf_utils, we have added functions that facilitate scientifically relevant, or pycroscopy specific functionality such as easy creation of Pycroscopy Main datasets, creation of automatically indexed groups to hold results of an analysis, etc. The following guide provides examples of how, and more importantly when, to use functions in pycroscopy.hdf_utils for various scenarios starting from recording data from instruments to storing analysis data.\n",
    "\n",
    "## Functions organized by purpose:\n",
    "\n",
    "* Other:\n",
    "    * print_tree <-- done\n",
    "* Searching / Lookup:\n",
    "    * find_dataset\n",
    "    * find_results_groups\n",
    "    * get_all_main\n",
    "    * get_auxillary_datasets\n",
    "    * get_group_refs\n",
    "    * get_h5_obj_refs\n",
    "    * get_source_dataset\n",
    "    * check_for_matching_attrs\n",
    "    * check_for_old\n",
    "* Main related:\n",
    "    * check_if_main <-- done\n",
    "    * get_data_descriptor <-- done\n",
    "    * reshape_to_n_dims\n",
    "    * reshape_to_2d\n",
    "* Ancillary datasets related:\n",
    "    * get_formatted_labels\n",
    "    * get_dimensionality\n",
    "    * get_sort_order\n",
    "    * get_unit_values\n",
    "* Attributes - Read <------- DONE\n",
    "    * get_attr <-- done\n",
    "    * get_attributes <-- done\n",
    "    \n",
    "\n",
    "* Attributes - Write\n",
    "    * write_simple_attrs <-- done\n",
    "    * write_book_keeping_attrs\n",
    "    * copy_attributes\n",
    "    * copy_main_attributes\n",
    "* Creating main datasets\n",
    "    * write_main_dataset <--- DONE\n",
    "    * create_empty_dataset\n",
    "* Automated writing of ancillary matrices\n",
    "    * write_ind_val_dsets\n",
    "    * write_reduced_spec_dsets\n",
    "* Low-end functions\n",
    "    * is_editable_h5\n",
    "* Group creation:\n",
    "    * assign_group_index\n",
    "    * create_indexed_group\n",
    "    * create_results_group\n",
    "* Linking\n",
    "    * link_as_main\n",
    "    * link_h5_objects_as_attrs <-- DONE\n",
    "    * link_h5_obj_as_alias <-- DONE\n",
    "    * check_and_link_ancillary\n",
    "    \n",
    "    \n",
    "* Region references (ADVANCED section)\n",
    "    * create_region_reference\n",
    "    * copy_region_refs\n",
    "    * copy_reg_ref_reduced_dim\n",
    "    * simple_region_ref_copy\n",
    "    * attempt_reg_ref_build\n",
    "    * clean_reg_ref\n",
    "    * get_region <-- Should be incorporated into existing tutorial\n",
    "    * write_region_references\n",
    "    * get_indices_for_region_ref\n",
    "\n",
    "## Storyboard:\n",
    "This storyboard must be reflective of actual problems / tasks faced by users - starting from translation to analysis\n",
    "\n",
    "* create indexed group\n",
    "    * write simple attributes\n",
    "* create main dataset as empty dataset\n",
    "    * Fill in with random values\n",
    "    * write simple attributes\n",
    "* create new unindexed group manually\n",
    "    * write basic attributes to this group\n",
    "    * Link it to main - link_h5_objects_as_attrs\n",
    "* create some other dataset\n",
    "    * Link it to this misc group - link_h5_obj_as_alias\n",
    "* Ceate\n",
    "* create results\n",
    "    * create results group\n",
    "    * create main dataset with data but reuse only one set of ancillary datasets from source\n",
    "        * write simple attributes\n",
    "* create a new results group but this time use assign group name and show that results are the same\n",
    "    * copy dataset from main - empty\n",
    "    * fill in the data\n",
    "    * copy attributes from other results\n",
    "* Show that is_editable is True\n",
    "* close the file\n",
    "    * is_editable should be False here\n",
    "* Reopen in read-only\n",
    "    * is_editable should be False again"
   ]
  },
  {
   "cell_type": "code",
   "execution_count": 1,
   "metadata": {},
   "outputs": [
    {
     "name": "stderr",
     "output_type": "stream",
     "text": [
      "//anaconda/lib/python3.5/site-packages/h5py/__init__.py:36: FutureWarning: Conversion of the second argument of issubdtype from `float` to `np.floating` is deprecated. In future, it will be treated as `np.float64 == np.dtype(float).type`.\n",
      "  from ._conv import register_converters as _register_converters\n",
      "../../pycroscopy/pycroscopy/__init__.py:25: UserWarning: You are using the unity_dev branch, which is aimed at a 1.0 release for pycroscopy. Be advised - this branch changes very significantly and frequently. It is therefore not meant for usage. Use the master or dev branches for regular purposes.\n",
      "  warn('You are using the unity_dev branch, which is aimed at a 1.0 release for pycroscopy. '\n"
     ]
    }
   ],
   "source": [
    "import sys\n",
    "import numpy as np\n",
    "sys.path.append('../../pycroscopy/')\n",
    "import h5py\n",
    "import matplotlib.pyplot as plt \n",
    "%matplotlib inline\n",
    "\n",
    "import pycroscopy as px"
   ]
  },
  {
   "cell_type": "markdown",
   "metadata": {},
   "source": [
    "## Create an HDF5 file using h5py"
   ]
  },
  {
   "cell_type": "code",
   "execution_count": 2,
   "metadata": {
    "collapsed": true
   },
   "outputs": [],
   "source": [
    "h5_file = h5py.File('test.h5')"
   ]
  },
  {
   "cell_type": "markdown",
   "metadata": {},
   "source": [
    "## Create an ordinary group\n",
    "\n",
    "We can always use the h5py functionality to create a HDF5 group:"
   ]
  },
  {
   "cell_type": "code",
   "execution_count": 3,
   "metadata": {
    "collapsed": true
   },
   "outputs": [],
   "source": [
    "h5_some_group = h5_file.create_group('Some_Group')"
   ]
  },
  {
   "cell_type": "markdown",
   "metadata": {},
   "source": [
    "## Create a dataset\n",
    "Similarly, we can create ordinary HDF5 datasets using h5py functionality:"
   ]
  },
  {
   "cell_type": "code",
   "execution_count": 4,
   "metadata": {
    "collapsed": true
   },
   "outputs": [],
   "source": [
    "h5_some_dataset = h5_some_group.create_dataset('Some_Dataset', np.arange(5))"
   ]
  },
  {
   "cell_type": "markdown",
   "metadata": {},
   "source": [
    "## Create an indexed group\n",
    "Let us first create a HDF5 group to store some data recorded from an instrument. The below function will automatically create a group with an index as a suffix and write certain book-keeping attributes to the group. We will see how this and similar functions handle situations when similarly named groups already exist."
   ]
  },
  {
   "cell_type": "code",
   "execution_count": 5,
   "metadata": {
    "collapsed": true
   },
   "outputs": [],
   "source": [
    "h5_meas_group = px.hdf_utils.create_indexed_group(h5_file, 'Measurement')"
   ]
  },
  {
   "cell_type": "markdown",
   "metadata": {},
   "source": [
    "## Look at datasets and data groups in the created file\n",
    "The print_tree() function is great for looking at the datasets and datagroups contained in a file. "
   ]
  },
  {
   "cell_type": "code",
   "execution_count": 6,
   "metadata": {},
   "outputs": [
    {
     "name": "stdout",
     "output_type": "stream",
     "text": [
      "Contents within the file so far:\n",
      "/\n",
      "├ Measurement_000\n",
      "  ---------------\n",
      "├ Some_Group\n",
      "  ----------\n",
      "  ├ Some_Dataset\n"
     ]
    }
   ],
   "source": [
    "print('Contents within the file so far:')\n",
    "px.hdf_utils.print_tree(h5_file)"
   ]
  },
  {
   "cell_type": "markdown",
   "metadata": {},
   "source": [
    "Clearly, all we have right now is a single group - Measurement_000 (hence the the underline). \n",
    "\n",
    "## Getting all attributes\n",
    "\n",
    "Here's a look at the self-explanatory, default attribtues that will be written to the group for traceability and posterity."
   ]
  },
  {
   "cell_type": "code",
   "execution_count": 7,
   "metadata": {},
   "outputs": [
    {
     "name": "stdout",
     "output_type": "stream",
     "text": [
      "Attributes contained within <HDF5 group \"/Measurement_000\" (0 members)>\n",
      "timestamp : 2018_04_20-08_53_11\n",
      "pycroscopy_version : 0.59.7\n",
      "machine_id : mac109728.ornl.gov\n"
     ]
    }
   ],
   "source": [
    "print('Attributes contained within {}'.format(h5_meas_group))\n",
    "for key, val in px.hdf_utils.get_attributes(h5_meas_group).items():\n",
    "    print('%s : %s' % (key, val))"
   ]
  },
  {
   "cell_type": "markdown",
   "metadata": {},
   "source": [
    "We could use the write_simple_attrs() function to add / modify additional attributes to the group:"
   ]
  },
  {
   "cell_type": "code",
   "execution_count": 8,
   "metadata": {
    "collapsed": true
   },
   "outputs": [],
   "source": [
    "px.hdf_utils.write_simple_attrs(h5_meas_group, {'Instrument': 'Atomic Force Microscope',\n",
    "                                                'User': 'Joe Smith',\n",
    "                                                'Room Temperature [C]': 23})"
   ]
  },
  {
   "cell_type": "markdown",
   "metadata": {},
   "source": [
    "Individual attributes can be extracted using the similar get_attr() function as shown below:"
   ]
  },
  {
   "cell_type": "code",
   "execution_count": 9,
   "metadata": {},
   "outputs": [
    {
     "name": "stdout",
     "output_type": "stream",
     "text": [
      "Joe Smith\n"
     ]
    }
   ],
   "source": [
    "print(px.hdf_utils.get_attr(h5_meas_group, 'User'))"
   ]
  },
  {
   "cell_type": "markdown",
   "metadata": {},
   "source": [
    "## Set up a toy dataset\n",
    "\n",
    "Next, let's set up a toy four-dimensional dataset that has:\n",
    "* two position dimensions:\n",
    "    * X\n",
    "    * Y\n",
    "* and two spectroscopic dimensions:\n",
    "    * (sinusoidal) probing bias waveform\n",
    "    * cycles over which this bias waveform is repeated\n",
    "    \n",
    "For simplicity, we will keep the size of each dimension small. "
   ]
  },
  {
   "cell_type": "code",
   "execution_count": 10,
   "metadata": {
    "collapsed": true
   },
   "outputs": [],
   "source": [
    "num_rows = 3\n",
    "num_cols = 5\n",
    "num_cycles = 2\n",
    "bias_pts = 7\n",
    "\n",
    "source_main_data = np.random.rand(num_rows * num_cols, bias_pts * num_cycles)"
   ]
  },
  {
   "cell_type": "markdown",
   "metadata": {},
   "source": [
    "## Specify position and spectroscopic dimensions\n",
    "\n",
    "Next, let us determine how each of the position and spectroscopic dimensions are varied"
   ]
  },
  {
   "cell_type": "code",
   "execution_count": 11,
   "metadata": {
    "collapsed": true
   },
   "outputs": [],
   "source": [
    "rows_vals = np.arange(-0.1, 0.15, 0.1)\n",
    "cols_vals = np.arange(400, 900, 100)\n",
    "bias_vals = 2.5 * np.sin(np.linspace(0, 2*np.pi, bias_pts, endpoint=False))\n",
    "cycle_vals = np.arange(num_cycles)"
   ]
  },
  {
   "cell_type": "markdown",
   "metadata": {},
   "source": [
    "For better understanding of this dataset, let us take a look at the different values these dimensions can take"
   ]
  },
  {
   "cell_type": "code",
   "execution_count": 12,
   "metadata": {},
   "outputs": [
    {
     "data": {
      "image/png": "[encoded data removed]",
      "text/plain": [
       "<Figure size 576x576 with 4 Axes>"
      ]
     },
     "metadata": {},
     "output_type": "display_data"
    }
   ],
   "source": [
    "fig, axes = plt.subplots(ncols=2, nrows=2, figsize=(8, 8))\n",
    "for axis, vals, dim_name in zip(axes.flat, [rows_vals, cols_vals, bias_vals, cycle_vals], \n",
    "                                ['Rows', 'Cols', 'Bias', 'Cycle']):\n",
    "    axis.set_title(dim_name, fontsize=15)\n",
    "    axis.plot(vals, 'o-')\n",
    "fig.tight_layout()"
   ]
  },
  {
   "cell_type": "markdown",
   "metadata": {},
   "source": [
    "In pycroscopy, position and spectrosocpic dimensions are defined using some basic information that will be incorporated in Dimension objects that contain three vial pieces of information:\n",
    "* Name of the dimension\n",
    "* units for the dimension\n",
    "* values:\n",
    "    * These can be the actual values over which the dimension was varied\n",
    "    * or number of steps in case of linearly varying dimensions such as 'Cycle' below "
   ]
  },
  {
   "cell_type": "code",
   "execution_count": 13,
   "metadata": {
    "collapsed": true
   },
   "outputs": [],
   "source": [
    "pos_dims = [px.write_utils.Dimension('Rows', 'um', rows_vals), \n",
    "            px.write_utils.Dimension('Cols', 'nm', cols_vals)]\n",
    "spec_dims = [px.write_utils.Dimension('Bias', 'V', bias_vals), \n",
    "            px.write_utils.Dimension('Cycle', '', num_cycles)]"
   ]
  },
  {
   "cell_type": "markdown",
   "metadata": {},
   "source": [
    "## Create and write a Main dataset to HDF5:\n",
    "\n",
    "Often, data is is recorded (from instruments) or generated (as a result of some analysis) in chunks (for example - one position at a time). Therefore, it makes sense to first create an empty dataset and then fill in the data as it is generated / recorded. \n",
    "\n",
    "Even though we already have the data prepared in *source_main*, we will only create an empty dataset first by specifying how large the dataset should be. Later, we will go over examples where the whole data is available when creating the HDF5 dataset. The *write_main_dataset* is one of the most important and popularly used functions in hdf_utils since it handles:\n",
    "* thorough validation of all inputs\n",
    "* the creation of the central dataset\n",
    "* the creation of the ancillary datasets (if necessary)\n",
    "* linking the ancillary datasets such that the central dataset becomes a *Main* dataset\n",
    "* writing attributes\n",
    "\n",
    "We could use the write_simple_attrs() function to write attributes to Raw_Data at a later stage but we can always pass these attributes to be written at the time of dataset creation if they are already known"
   ]
  },
  {
   "cell_type": "code",
   "execution_count": 14,
   "metadata": {},
   "outputs": [
    {
     "name": "stdout",
     "output_type": "stream",
     "text": [
      "<HDF5 dataset \"Raw_Data\": shape (15, 14), type \"<f4\">\n",
      "located at: \n",
      "/Measurement_000/Raw_Data \n",
      "Data contains: \n",
      "Current (nA) \n",
      "Data dimensions and original shape: \n",
      "Position Dimensions: \n",
      "Rows - size: 3 \n",
      "Cols - size: 5 \n",
      "Spectroscopic Dimensions: \n",
      "Bias - size: 7 \n",
      "Cycle - size: 2\n"
     ]
    }
   ],
   "source": [
    "h5_raw = px.hdf_utils.write_main_dataset(h5_meas_group, source_main_data.shape, 'Raw_Data', 'Current', 'nA', \n",
    "                                         pos_dims, spec_dims, \n",
    "                                         main_dset_attrs={'IO_rate': 4E+6, 'Amplifier_Gain': 9})\n",
    "print(h5_raw)"
   ]
  },
  {
   "cell_type": "markdown",
   "metadata": {},
   "source": [
    "Let us take a look at the contents of the file again using the print_tree() functon. What we see is that five new datasets have been created: \n",
    "* **Raw_Data** was created to contain the 4D measurement we are interested in storing. \n",
    "* **Spectrocopic_Indices** and **Spectrocopic_Values** contain the information about the spectroscopic dimensions\n",
    "* **Position_Indices** and **Position_Values** contain the position related information\n",
    "\n",
    "The underline below **Measurement_000** indicates that this is a HDF5 Group"
   ]
  },
  {
   "cell_type": "code",
   "execution_count": 15,
   "metadata": {},
   "outputs": [
    {
     "name": "stdout",
     "output_type": "stream",
     "text": [
      "/\n",
      "├ Measurement_000\n",
      "  ---------------\n",
      "  ├ Position_Indices\n",
      "  ├ Position_Values\n",
      "  ├ Raw_Data\n",
      "  ├ Spectroscopic_Indices\n",
      "  ├ Spectroscopic_Values\n",
      "├ Some_Group\n",
      "  ----------\n",
      "  ├ Some_Dataset\n"
     ]
    }
   ],
   "source": [
    "px.hdf_utils.print_tree(h5_file)"
   ]
  },
  {
   "cell_type": "markdown",
   "metadata": {},
   "source": [
    "As mentioned in our document about the data_format, the four supporting datasets (Position and Spectroscopic Indices and Values) help provide meaning to each element in Raw_Data such as dimensionality, etc. \n",
    "\n",
    "Only the Raw_Data dataset is a Pycroscopy Main dataset while all other datasets are just supporting datasets. We can verify whether a dataset is a Main dataset or not using the check_if_main() function: "
   ]
  },
  {
   "cell_type": "code",
   "execution_count": 16,
   "metadata": {},
   "outputs": [
    {
     "name": "stdout",
     "output_type": "stream",
     "text": [
      "Is /Measurement_000/Raw_Data is a Main dataset?: True\n",
      "Is /Measurement_000/Spectroscopic_Indices is a Main dataset?: False\n",
      "Is /Measurement_000/Position_Values is a Main dataset?: False\n"
     ]
    }
   ],
   "source": [
    "for dset in [h5_raw, h5_raw.h5_spec_inds, h5_raw.h5_pos_vals]:\n",
    "    print('Is {} is a Main dataset?: {}'.format(dset.name, px.hdf_utils.check_if_main(dset)))"
   ]
  },
  {
   "cell_type": "markdown",
   "metadata": {},
   "source": [
    "One handy function that is useful to understand the contents of Main datasets is get_data_descriptor(). It essentially concatenates the quantity and units attributes of a Main dataset:"
   ]
  },
  {
   "cell_type": "code",
   "execution_count": 17,
   "metadata": {},
   "outputs": [
    {
     "data": {
      "text/plain": [
       "'Current (nA)'"
      ]
     },
     "execution_count": 17,
     "metadata": {},
     "output_type": "execute_result"
    }
   ],
   "source": [
    "px.hdf_utils.get_data_descriptor(h5_raw)"
   ]
  },
  {
   "cell_type": "markdown",
   "metadata": {},
   "source": [
    "## Populating the Dataset:\n",
    "\n",
    "Note that h5_main still does not contain the values we are interested in filling it in with:"
   ]
  },
  {
   "cell_type": "code",
   "execution_count": 18,
   "metadata": {},
   "outputs": [
    {
     "data": {
      "text/plain": [
       "array([0., 0., 0., 0., 0., 0., 0., 0., 0., 0., 0., 0., 0., 0.],\n",
       "      dtype=float32)"
      ]
     },
     "execution_count": 18,
     "metadata": {},
     "output_type": "execute_result"
    }
   ],
   "source": [
    "h5_raw[5]"
   ]
  },
  {
   "cell_type": "markdown",
   "metadata": {},
   "source": [
    "Let us simulate a situation where we are recording the data a pixel at a time and writing it to the h5_main dataset:"
   ]
  },
  {
   "cell_type": "code",
   "execution_count": 19,
   "metadata": {
    "collapsed": true
   },
   "outputs": [],
   "source": [
    "for pixel_ind, pixel_data in enumerate(source_main_data):\n",
    "    h5_raw[pixel_ind] = pixel_data\n",
    "\n",
    "# Make sure to flush the file (write anything in the buffer into the file)\n",
    "h5_file.flush()"
   ]
  },
  {
   "cell_type": "markdown",
   "metadata": {},
   "source": [
    "Note that we were only simulating a (realistic) situation where all the data was not present at once to write into Raw_Data dataset. Let us check the contents at a particular position in the dataset now:"
   ]
  },
  {
   "cell_type": "code",
   "execution_count": 20,
   "metadata": {},
   "outputs": [
    {
     "data": {
      "text/plain": [
       "array([0.76854867, 0.25454953, 0.4329743 , 0.9786843 , 0.88994837,\n",
       "       0.119339  , 0.34586716, 0.65612423, 0.98471534, 0.42844138,\n",
       "       0.23466794, 0.6439775 , 0.85732377, 0.40549588], dtype=float32)"
      ]
     },
     "execution_count": 20,
     "metadata": {},
     "output_type": "execute_result"
    }
   ],
   "source": [
    "h5_raw[5]"
   ]
  },
  {
   "cell_type": "markdown",
   "metadata": {},
   "source": [
    "## Exploring attributes in Main datasets:\n",
    "\n",
    "Some of the main requirements for promoting a regular dataset to a Main dataset are some mandatory attributes attached to the dataset:\n",
    "* quantity - What the stored data contains - for example: current, temperature, voltage, strain etc.\n",
    "* units - the units for the quantity, such as Amperes, meters, etc.\n",
    "* links to each of the four ancillary datasets \n",
    "\n",
    "Again, we can use the get_attributes() function to see if and how these attributes are stored:"
   ]
  },
  {
   "cell_type": "code",
   "execution_count": 21,
   "metadata": {},
   "outputs": [
    {
     "data": {
      "text/plain": [
       "{'Amplifier_Gain': 9,\n",
       " 'IO_rate': 4000000.0,\n",
       " 'Position_Indices': <HDF5 object reference>,\n",
       " 'Position_Values': <HDF5 object reference>,\n",
       " 'Spectroscopic_Indices': <HDF5 object reference>,\n",
       " 'Spectroscopic_Values': <HDF5 object reference>,\n",
       " 'machine_id': 'mac109728.ornl.gov',\n",
       " 'pycroscopy_version': '0.59.7',\n",
       " 'quantity': 'Current',\n",
       " 'timestamp': '2018_04_20-08_53_16',\n",
       " 'units': 'nA'}"
      ]
     },
     "execution_count": 21,
     "metadata": {},
     "output_type": "execute_result"
    }
   ],
   "source": [
    "px.hdf_utils.get_attributes(h5_raw)"
   ]
  },
  {
   "cell_type": "markdown",
   "metadata": {},
   "source": [
    "While it is straightforward to read simple attributes like quantity or units, the values for Position_Values or Spectroscopic_Indices attributes seem cryptic. These are just references or links to other datasets. "
   ]
  },
  {
   "cell_type": "code",
   "execution_count": 22,
   "metadata": {},
   "outputs": [
    {
     "data": {
      "text/plain": [
       "<HDF5 object reference>"
      ]
     },
     "execution_count": 22,
     "metadata": {},
     "output_type": "execute_result"
    }
   ],
   "source": [
    "px.hdf_utils.get_attr(h5_raw, 'Position_Indices')"
   ]
  },
  {
   "cell_type": "markdown",
   "metadata": {},
   "source": [
    "## Reading Links\n",
    "\n",
    "We can get access to linked datasets using get_auxillary_datasets():"
   ]
  },
  {
   "cell_type": "code",
   "execution_count": 23,
   "metadata": {},
   "outputs": [
    {
     "data": {
      "text/plain": [
       "[<HDF5 dataset \"Position_Indices\": shape (15, 2), type \"<u4\">]"
      ]
     },
     "execution_count": 23,
     "metadata": {},
     "output_type": "execute_result"
    }
   ],
   "source": [
    "px.hdf_utils.get_auxillary_datasets(h5_raw, 'Position_Indices')"
   ]
  },
  {
   "cell_type": "markdown",
   "metadata": {},
   "source": [
    "Note that this function returns all datasets named 'Position_Indices' under a group or Dataset in a list. In this case, we know that the list should only have one value. Given that h5_raw is a Main dataset, and Position_Indices is one of the four essential components of a Main dataset, the Pycrodataset object makes it far easier to access the ancillary datasets without neededing to call a function as above. PycroDataset will be discussed in greater detail in a separate notebook."
   ]
  },
  {
   "cell_type": "markdown",
   "metadata": {},
   "source": [
    "## Creating links \n",
    "\n",
    "What do we do if we need to store some other supporting information regarding some measurement? If such supporting datasets do not need to be Pycroscopy Main datasets, we could simply use the basic functionality of h5py to create the dataset"
   ]
  },
  {
   "cell_type": "code",
   "execution_count": 24,
   "metadata": {
    "collapsed": true
   },
   "outputs": [],
   "source": [
    "h5_other = h5_meas_group.create_dataset('Other', np.random.rand(5))"
   ]
  },
  {
   "cell_type": "markdown",
   "metadata": {},
   "source": [
    "Pycroscopy files tend to have a fair number of datasets in them and the most important ones are Main datasets and users tend to \"walk\" or \"hop\" through the file by stepping only on the Main datasets. Thus, we often want to link supporting datasets to the relevant Main datasets. This way, such supporting datasets can be accessed via an attribute of the Main dataset instead of having to manually specify the path of the supporting dataset. \n",
    "\n",
    "link_h5_objects_as_attrs() makes it easy to link a dataset or group to any other dataset or group. In this example we will link the 'Other' dataset to the Main dataset:"
   ]
  },
  {
   "cell_type": "code",
   "execution_count": 25,
   "metadata": {},
   "outputs": [
    {
     "data": {
      "text/plain": [
       "{'Amplifier_Gain': 9,\n",
       " 'IO_rate': 4000000.0,\n",
       " 'Other': <HDF5 object reference>,\n",
       " 'Position_Indices': <HDF5 object reference>,\n",
       " 'Position_Values': <HDF5 object reference>,\n",
       " 'Spectroscopic_Indices': <HDF5 object reference>,\n",
       " 'Spectroscopic_Values': <HDF5 object reference>,\n",
       " 'machine_id': 'mac109728.ornl.gov',\n",
       " 'pycroscopy_version': '0.59.7',\n",
       " 'quantity': 'Current',\n",
       " 'timestamp': '2018_04_20-08_53_16',\n",
       " 'units': 'nA'}"
      ]
     },
     "execution_count": 25,
     "metadata": {},
     "output_type": "execute_result"
    }
   ],
   "source": [
    "px.hdf_utils.link_h5_objects_as_attrs(h5_raw, h5_other)\n",
    "px.hdf_utils.get_attributes(h5_raw)"
   ]
  },
  {
   "cell_type": "markdown",
   "metadata": {},
   "source": [
    "In the same way, we can even link a group to the Other dataset:"
   ]
  },
  {
   "cell_type": "code",
   "execution_count": 26,
   "metadata": {},
   "outputs": [
    {
     "data": {
      "text/plain": [
       "{'Some_Group': <HDF5 object reference>}"
      ]
     },
     "execution_count": 26,
     "metadata": {},
     "output_type": "execute_result"
    }
   ],
   "source": [
    "h5_some_group = h5_meas_group.create_group('Some_Group')\n",
    "px.hdf_utils.link_h5_objects_as_attrs(h5_other, h5_some_group)\n",
    "px.hdf_utils.get_attributes(h5_other)"
   ]
  },
  {
   "cell_type": "markdown",
   "metadata": {},
   "source": [
    "What we see above is that 'Other' is now an attribute of the 'Raw_Data' dataset. \n",
    "\n",
    "One common scenario in scientific workflows is the storage of multiple Main Datasets within the same group. The first Main dataset can be stored along with its four ancillary datasets without any problems. However, if the second Main dataset also requires the storage of Position and Spectroscopic datasets, these datasets would need to be named differently to avoid conflicts with existing datasets (associated with the first Main dataset). Moreover, these ancillary datasets would need to be linked to the second Main dataset with the standard 'Position_..' and 'Spectroscopic_..' names for the attributes. \n",
    "\n",
    "The link_h5_obj_as_alias() is handy in this scenario since it allows a dataset or group to be linked with a name different from its actual name. For example, we can link the 'Raw_Data' dataset to the 'Other' dataset with an alias:"
   ]
  },
  {
   "cell_type": "code",
   "execution_count": 27,
   "metadata": {},
   "outputs": [
    {
     "data": {
      "text/plain": [
       "{'Mysterious_Dataset': <HDF5 object reference>,\n",
       " 'Some_Group': <HDF5 object reference>}"
      ]
     },
     "execution_count": 27,
     "metadata": {},
     "output_type": "execute_result"
    }
   ],
   "source": [
    "px.hdf_utils.link_h5_obj_as_alias(h5_other, h5_raw, 'Mysterious_Dataset')\n",
    "\n",
    "px.hdf_utils.get_attributes(h5_other)"
   ]
  },
  {
   "cell_type": "markdown",
   "metadata": {},
   "source": [
    "The datased named 'Other' has a new attribute named 'Mysterious_Dataset'. Let us show that this dataset is none other than Raw_Data: "
   ]
  },
  {
   "cell_type": "code",
   "execution_count": 28,
   "metadata": {},
   "outputs": [
    {
     "name": "stdout",
     "output_type": "stream",
     "text": [
      "True\n"
     ]
    }
   ],
   "source": [
    "h5_myst_dset = px.hdf_utils.get_auxillary_datasets(h5_other, 'Mysterious_Dataset')[0]\n",
    "\n",
    "print(h5_myst_dset == h5_raw)"
   ]
  },
  {
   "cell_type": "markdown",
   "metadata": {},
   "source": [
    "# Performing some Processing\n",
    "Let us assume that we are normalizing the data in some way and we need to write the results back to the file. As far as the data shapes and dimensionality are concerned, let us assume that the data still remains a 4D dataset. Therefore, the new results datset can reuse the ancillary datasets from h5_raw. In this scenario we will demonstrate how one might write a Main dataset when having the complete processed (in this case some normalization) data is available before even creating the dataset.\n",
    "\n",
    "## Create results Group\n",
    "Let us first start off with creation of a HDF5 Group that will contain the results. If you recall, groups that contain the results of some processing / analysis on a source dataset are named as 'Source_Dataset_name-Process_Name_00x' where x is the index of the group. The create_results_group() function makes it very easy to create a group with such nomenclature and indexing:"
   ]
  },
  {
   "cell_type": "code",
   "execution_count": null,
   "metadata": {
    "collapsed": true
   },
   "outputs": [],
   "source": [
    "h5_results_group_1 = p"
   ]
  },
  {
   "cell_type": "markdown",
   "metadata": {},
   "source": []
  },
  {
   "cell_type": "markdown",
   "metadata": {},
   "source": []
  },
  {
   "cell_type": "code",
   "execution_count": null,
   "metadata": {},
   "outputs": [],
   "source": []
  },
  {
   "cell_type": "code",
   "execution_count": null,
   "metadata": {
    "collapsed": true
   },
   "outputs": [],
   "source": [
    "Just to show that the dataset was indeed created as a \n",
    "print('h5_main is of type: {}'.format(type(h5_main)))"
   ]
  },
  {
   "cell_type": "markdown",
   "metadata": {},
   "source": [
    "* create new unindexed group manually\n",
    "    * write basic attributes to this group\n",
    "* create results\n",
    "    * create results group\n",
    "    * create main dataset with data but reuse only one set of ancillary datasets from source\n",
    "        * write simple attributes\n",
    "* create a new results group but this time use assign group name and show that results are the same\n",
    "    * copy dataset from main - empty\n",
    "    * fill in the data\n",
    "    * copy attributes from other results\n",
    "* Show that is_editable is True\n",
    "* close the file\n",
    "    * is_editable should be False here\n",
    "* Reopen in read-only\n",
    "    * is_editable should be False again"
   ]
  },
  {
   "cell_type": "markdown",
   "metadata": {},
   "source": []
  },
  {
   "cell_type": "code",
   "execution_count": null,
   "metadata": {
    "collapsed": true
   },
   "outputs": [],
   "source": [
    "new_group_name = px.hdf_utils.assign_group_index(h5_file, 'Raw_Data-Normalization')\n",
    "print(new_group_name)"
   ]
  },
  {
   "cell_type": "code",
   "execution_count": null,
   "metadata": {
    "collapsed": true
   },
   "outputs": [],
   "source": [
    "h5_new_group = h5_file.create_group(new_group_name)"
   ]
  },
  {
   "cell_type": "code",
   "execution_count": null,
   "metadata": {
    "collapsed": true
   },
   "outputs": [],
   "source": [
    "norm_data = np.random.rand(num_rows * num_cols, bias_pts * num_cycles)"
   ]
  },
  {
   "cell_type": "markdown",
   "metadata": {},
   "source": [
    "### Reusing existing ancillary datasets + writing empty data"
   ]
  },
  {
   "cell_type": "code",
   "execution_count": null,
   "metadata": {
    "collapsed": true
   },
   "outputs": [],
   "source": [
    "h5_norm = px.hdf_utils.write_main_dataset(h5_new_group, source_main_data.shape, 'Raw_Data', 'Current', 'nA', \n",
    "                                          None, spec_dims, \n",
    "                                          h5_pos_inds=h5_main.h5_pos_inds, h5_pos_vals=h5_main.h5_pos_vals)\n",
    "\n",
    "print(h5_norm)"
   ]
  },
  {
   "cell_type": "code",
   "execution_count": null,
   "metadata": {
    "collapsed": true
   },
   "outputs": [],
   "source": [
    "# Let's figure out the parent group under which h5_norm sits:\n",
    "h5_norm_parent = h5_norm.parent\n",
    "print(h5_norm_parent)"
   ]
  },
  {
   "cell_type": "code",
   "execution_count": null,
   "metadata": {
    "collapsed": true
   },
   "outputs": [],
   "source": [
    "# What if we needed to add more (auxillary) datases for normalization:\n",
    "h5_other_dset = h5_norm_parent.create_dataset('Other', np.random.rand(15))"
   ]
  },
  {
   "cell_type": "code",
   "execution_count": null,
   "metadata": {
    "collapsed": true
   },
   "outputs": [],
   "source": [
    "# Let's look at the attributes of h5_norm to see what attributes have been written:\n",
    "px.hdf_utils.get_attributes(h5_norm)"
   ]
  },
  {
   "cell_type": "code",
   "execution_count": null,
   "metadata": {
    "collapsed": true
   },
   "outputs": [],
   "source": [
    "# What if we want to link this to the main dataset for some reason?\n",
    "px.hdf_utils.link_h5_objects_as_attrs(h5_norm, h5_other_dset)"
   ]
  },
  {
   "cell_type": "code",
   "execution_count": null,
   "metadata": {
    "collapsed": true
   },
   "outputs": [],
   "source": [
    "# Let's look at the attributes of h5_norm to see if the new dataset has been linked as an attribute:\n",
    "px.hdf_utils.get_attributes(h5_norm)"
   ]
  },
  {
   "cell_type": "code",
   "execution_count": null,
   "metadata": {
    "collapsed": true
   },
   "outputs": [],
   "source": [
    "# What if we needed to add yet another (auxillary) dataset for normalization:\n",
    "h5_some_other = h5_norm_parent.create_dataset('Some_Other', np.random.rand(5))"
   ]
  },
  {
   "cell_type": "code",
   "execution_count": null,
   "metadata": {
    "collapsed": true
   },
   "outputs": [],
   "source": [
    "px.hdf_utils.link_h5_obj_as_alias(h5_norm, h5_some_other, 'Blah_Blah')\n",
    "\n",
    "# Let's look at the attributes of h5_norm to see if the new dataset has been linked as an attribute:\n",
    "px.hdf_utils.get_attributes(h5_norm)"
   ]
  },
  {
   "cell_type": "code",
   "execution_count": null,
   "metadata": {
    "collapsed": true
   },
   "outputs": [],
   "source": [
    "# Just to prove that this is indeed hte same dataset, let's get the linked dataset:\n",
    "matches = px.hdf_utils.get_auxillary_datasets(h5_norm, 'Blah_Blah')\n",
    "print(matches)"
   ]
  },
  {
   "cell_type": "code",
   "execution_count": null,
   "metadata": {
    "collapsed": true
   },
   "outputs": [],
   "source": [
    "print(matches[0] == h5_some_other)"
   ]
  },
  {
   "cell_type": "markdown",
   "metadata": {},
   "source": [
    "### Oh no! we forgot to write attributes"
   ]
  },
  {
   "cell_type": "code",
   "execution_count": null,
   "metadata": {
    "collapsed": true
   },
   "outputs": [],
   "source": [
    "new_group_name = px.hdf_utils.assign_group_index(h5_file, 'Raw_Data-Normalization')\n",
    "print(new_group_name)"
   ]
  },
  {
   "cell_type": "code",
   "execution_count": null,
   "metadata": {
    "collapsed": true
   },
   "outputs": [],
   "source": [
    "px.hdf_utils.is_editable_h5(h5_file)"
   ]
  },
  {
   "cell_type": "code",
   "execution_count": null,
   "metadata": {
    "collapsed": true
   },
   "outputs": [],
   "source": [
    "# close the file and try:\n",
    "px.hdf_utils.is_editable_h5(h5_file)"
   ]
  },
  {
   "cell_type": "code",
   "execution_count": null,
   "metadata": {
    "collapsed": true
   },
   "outputs": [],
   "source": [
    "# Open the file again in r mode:\n",
    "px.hdf_utils.is_editable_h5(h5_file)"
   ]
  },
  {
   "cell_type": "code",
   "execution_count": null,
   "metadata": {
    "collapsed": true
   },
   "outputs": [],
   "source": [
    "spec_desc = Dimension('Bias', 'V', np.arange(self.num_x_steps))\n",
    "        ds_spec_inds, ds_spec_vals = build_ind_val_dsets(spec_desc, is_spectral=True, verbose=self.verbose)\n",
    "\n",
    "        cap_shape = (num_pos, 1)\n",
    "        ds_cap = VirtualDataset('Capacitance', data=None, maxshape=cap_shape, dtype=cap_dtype, chunking=cap_shape,\n",
    "                                compression='gzip')\n",
    "        ds_cap.attrs = {'quantity': 'Capacitance', 'units': 'pF'}\n",
    "        cap_spec_desc = Dimension('Direction', '', [1])\n",
    "        ds_cap_spec_inds, ds_cap_spec_vals = build_ind_val_dsets(cap_spec_desc, is_spectral=True, verbose=self.verbose)\n",
    "        # the names of these datasets will clash with the ones created above. Change names manually:\n",
    "        ds_cap_spec_inds.name = 'Spectroscopic_Indices_Cap'\n",
    "        ds_cap_spec_vals.name = 'Spectroscopic_Values_Cap'\n",
    "\n",
    "        ds_r_var = VirtualDataset('R_variance', data=None, maxshape=(num_pos, self.num_x_steps), dtype=np.float32,\n",
    "                                  chunking=(1, self.num_x_steps), compression='gzip')\n",
    "        ds_r_var.attrs = {'quantity': 'Resistance', 'units': 'GOhms'}\n",
    "        ds_res = VirtualDataset('Resistance', data=None, maxshape=(num_pos, self.num_x_steps), dtype=np.float32,\n",
    "                                chunking=(1, self.num_x_steps), compression='gzip')\n",
    "        ds_res.attrs = {'quantity': 'Resistance', 'units': 'GOhms'}\n",
    "        ds_i_corr = VirtualDataset('Corrected_Current', data=None, maxshape=(num_pos, self.single_ao.size),\n",
    "                                   dtype=np.float32,\n",
    "                                   chunking=(1, self.single_ao.size), compression='gzip')\n",
    "        # don't bother adding any other attributes, all this will be taken from h5_main\n",
    "\n",
    "        bayes_grp = VirtualGroup(self.h5_main.name.split('/')[-1] + '-' + self.process_name + '_',\n",
    "                                 parent=self.h5_main.parent.name)\n",
    "        bayes_grp.add_children([ds_spec_inds, ds_spec_vals, ds_cap, ds_r_var, ds_res, ds_i_corr,\n",
    "                                ds_cap_spec_inds, ds_cap_spec_vals])\n",
    "        bayes_grp.attrs = {'algorithm_author': 'Kody J. Law', 'last_pixel': 0}\n",
    "        bayes_grp.attrs.update(self.parms_dict)\n",
    "\n",
    "        if self.verbose:\n",
    "            bayes_grp.show_tree()\n",
    "\n",
    "        self.hdf = HDFwriter(self.h5_main.file)\n",
    "        h5_refs = self.hdf.write(bayes_grp, print_log=self.verbose)\n",
    "\n",
    "        self.h5_new_spec_vals = get_h5_obj_refs(['Spectroscopic_Values'], h5_refs)[0]\n",
    "        h5_new_spec_inds = get_h5_obj_refs(['Spectroscopic_Indices'], h5_refs)[0]\n",
    "        h5_cap_spec_vals = get_h5_obj_refs(['Spectroscopic_Values_Cap'], h5_refs)[0]\n",
    "        h5_cap_spec_inds = get_h5_obj_refs(['Spectroscopic_Indices_Cap'], h5_refs)[0]\n",
    "        self.h5_cap = get_h5_obj_refs(['Capacitance'], h5_refs)[0]\n",
    "        self.h5_variance = get_h5_obj_refs(['R_variance'], h5_refs)[0]\n",
    "        self.h5_resistance = get_h5_obj_refs(['Resistance'], h5_refs)[0]\n",
    "        self.h5_i_corrected = get_h5_obj_refs(['Corrected_Current'], h5_refs)[0]\n",
    "        self.h5_results_grp = self.h5_cap.parent\n",
    "\n",
    "        if self.verbose:\n",
    "            print('Finished making room for the datasets. Now linking them')\n",
    "\n",
    "        # Now link the datasets appropriately so that they become hubs:\n",
    "        h5_pos_vals = get_auxillary_datasets(self.h5_main, aux_dset_name=['Position_Values'])[0]\n",
    "        h5_pos_inds = get_auxillary_datasets(self.h5_main, aux_dset_name=['Position_Indices'])[0]\n",
    "\n",
    "        # Capacitance main dataset:\n",
    "        link_as_main(self.h5_cap, h5_pos_inds, h5_pos_vals, h5_cap_spec_inds, h5_cap_spec_vals)\n",
    "\n",
    "        # the corrected current dataset is the same as the main dataset in every way\n",
    "        copy_attributes(self.h5_main, self.h5_i_corrected, skip_refs=False)\n",
    "\n",
    "        # The resistance datasets get new spec datasets but reuse the old pos datasets:\n",
    "        for new_dset in [self.h5_resistance, self.h5_variance]:\n",
    "            link_as_main(new_dset, h5_pos_inds, h5_pos_vals, h5_new_spec_inds, self.h5_new_spec_vals)\n",
    "\n",
    "        if self.verbose:\n",
    "            print('Finished linking all datasets!')\n",
    "\n",
    "        self.hdf.flush()"
   ]
  }
 ],
 "metadata": {
  "kernelspec": {
   "display_name": "Python [default]",
   "language": "python",
   "name": "python3"
  },
  "language_info": {
   "codemirror_mode": {
    "name": "ipython",
    "version": 3
   },
   "file_extension": ".py",
   "mimetype": "text/x-python",
   "name": "python",
   "nbconvert_exporter": "python",
   "pygments_lexer": "ipython3",
   "version": "3.5.2"
  }
 },
 "nbformat": 4,
 "nbformat_minor": 1
}
