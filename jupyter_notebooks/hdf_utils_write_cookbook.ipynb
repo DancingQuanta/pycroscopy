{
 "cells": [
  {
   "cell_type": "code",
   "execution_count": null,
   "metadata": {
    "collapsed": true
   },
   "outputs": [],
   "source": [
    "%matplotlib inline"
   ]
  },
  {
   "cell_type": "markdown",
   "metadata": {},
   "source": [
    "Utilities for writing Pycroscopy HDF5 files\n",
    "============================================\n",
    "Suhas Somnath\n",
    "\n",
    "4/18/2018\n",
    "\n",
    "Introduction\n",
    "-------------\n",
    "Pycroscopy uses a data-centric approach to data analysis and processing meaning that results from all data analysis and processing are written to the same h5 file that contains the recorded measurements. The Hierarchical Data Format (HDF5) allows data, whether it is raw measured data or results of analysis, to be stored in multiple datasets within the same file in a tree-like manner. Certain rules and considerations have been made in pycroscopy to ensure consistent and easy access to any data. \n",
    "\n",
    "The h5py python package provides great functions to create, read, and manage data in HDF5 files. In pycroscopy.hdf_utils, we have added functions that facilitate scientifically relevant, or pycroscopy specific functionality such as easy creation of Pycroscopy Main datasets, creation of automatically indexed groups to hold results of an analysis, etc. Due to the wide breadth of the functions in hdf_utils, the guide for hdf_utils will be split in two parts - one that focuses on functions that facilitate reading and one that facilitate writing of data. The following guide provides examples of how, and more importantly when, to use functions in pycroscopy.hdf_utils for various scenarios starting from recording data from instruments to storing analysis data.\n",
    "\n",
    "Recommended pre-requisite reading\n",
    "---------------------------------\n",
    "* pycroscopy data format - https://pycroscopy.github.io/pycroscopy/data_format.html.\n",
    "* Crash course on HDF5 and h5py - \n",
    "\n",
    "Import all necessary packages\n",
    "-----------------------------\n",
    "Before we begin demonstrating the numerous functions in pycroscopy.hdf_utils, we need to import the necessary packages. Here are a list of packages besides pycroscopy that will be used in this example:\n",
    "* h5py - to open and close the file\n",
    "* numpy - for numerical operations on arrays in memory\n",
    "* matplotlib - basic visualization of data"
   ]
  },
  {
   "cell_type": "code",
   "execution_count": 1,
   "metadata": {},
   "outputs": [
    {
     "name": "stderr",
     "output_type": "stream",
     "text": [
      "C:\\Users\\Suhas\\PycharmProjects\\pycroscopy\\pycroscopy\\__init__.py:25: UserWarning: You are using the unity_dev branch, which is aimed at a 1.0 release for pycroscopy. Be advised - this branch changes very significantly and frequently. It is therefore not meant for usage. Use the master or dev branches for regular purposes.\n",
      "  warn('You are using the unity_dev branch, which is aimed at a 1.0 release for pycroscopy. '\n"
     ]
    }
   ],
   "source": [
    "from __future__ import print_function, division, unicode_literals\n",
    "import os\n",
    "# Warning package in case something goes wrong\n",
    "from warnings import warn\n",
    "import h5py\n",
    "import numpy as np\n",
    "import matplotlib.pyplot as plt\n",
    "# Finally import pycroscopy.\n",
    "try:\n",
    "    import pycroscopy as px\n",
    "except ImportError:\n",
    "    warn('pycroscopy not found.  Will install with pip.')\n",
    "    import pip\n",
    "    pip.main(['install', 'pycroscopy'])\n",
    "    import pycroscopy as px"
   ]
  },
  {
   "cell_type": "markdown",
   "metadata": {},
   "source": [
    "Create a HDF5 file \n",
    "==============================\n",
    "We will be using the h5py functionality to do basic operations on HDF5 files"
   ]
  },
  {
   "cell_type": "code",
   "execution_count": 2,
   "metadata": {
    "collapsed": true
   },
   "outputs": [],
   "source": [
    "h5_file = h5py.File('test.h5')"
   ]
  },
  {
   "cell_type": "markdown",
   "metadata": {},
   "source": [
    "HDF_Utils works with (and uses) h5py\n",
    "------------------------------------\n",
    "\n",
    "Pycroscopy and hdf_utils do not preclude the creation of groups and datasets using the h5py package. However, the many functions in hdf_utils are present to make it easier to handle the reading and writing of multidimensional scientific data formatted according to the Pycroscopy standard \n",
    "\n",
    "We can always use the h5py functionality to create a HDF5 group as shown below:"
   ]
  },
  {
   "cell_type": "code",
   "execution_count": 3,
   "metadata": {},
   "outputs": [
    {
     "name": "stdout",
     "output_type": "stream",
     "text": [
      "<HDF5 group \"/Some_Group\" (0 members)>\n"
     ]
    }
   ],
   "source": [
    "h5_some_group = h5_file.create_group('Some_Group')\n",
    "print(h5_some_group)"
   ]
  },
  {
   "cell_type": "markdown",
   "metadata": {},
   "source": [
    "In the same way, we can also continue to create datasets using h5py:"
   ]
  },
  {
   "cell_type": "code",
   "execution_count": 4,
   "metadata": {},
   "outputs": [
    {
     "name": "stdout",
     "output_type": "stream",
     "text": [
      "<HDF5 dataset \"Some_Dataset\": shape (0, 1, 2, 3, 4), type \"<f4\">\n"
     ]
    }
   ],
   "source": [
    "h5_some_dataset = h5_some_group.create_dataset('Some_Dataset', np.arange(5))\n",
    "print(h5_some_dataset)"
   ]
  },
  {
   "cell_type": "markdown",
   "metadata": {},
   "source": [
    "Create Groups\n",
    "=======================\n",
    "create_indexed_group()\n",
    "---------------------\n",
    "In order to accomodate the iterative nature of data recording (multiple sequential and related measurements) and analysis (same analysis performed with different parameters) we add an index as a suffix to HDF5 Group names. \n",
    "\n",
    "Let us first create a HDF5 group to store some data recorded from an instrument. The below function will automatically create a group with an index as a suffix and write certain book-keeping attributes to the group. We will see how this and similar functions handle situations when similarly named groups already exist."
   ]
  },
  {
   "cell_type": "code",
   "execution_count": 5,
   "metadata": {},
   "outputs": [
    {
     "name": "stdout",
     "output_type": "stream",
     "text": [
      "<HDF5 group \"/Measurement_000\" (0 members)>\n"
     ]
    }
   ],
   "source": [
    "h5_meas_group = px.hdf_utils.create_indexed_group(h5_file, 'Measurement')\n",
    "print(h5_meas_group)"
   ]
  },
  {
   "cell_type": "markdown",
   "metadata": {},
   "source": [
    "Since there were no other groups whose name started with 'Measurement', the function assigned the lowest index - 000 as a suffix to the requested group name. \n",
    "\n",
    "create_indexed_group() calls another handy function called assign_group_index() to get the suffix before creating a HDF5 group. Should we want to create another new indexed group called 'Measurement', assign_group_index() will notice that a group named 'Measurement_000' already exists and will assign the next index (001) to the new group - see below. Note that assign_group_index() does not create the group; it only assigns a non-conflicting string name for the group."
   ]
  },
  {
   "cell_type": "code",
   "execution_count": 6,
   "metadata": {},
   "outputs": [
    {
     "name": "stdout",
     "output_type": "stream",
     "text": [
      "Measurement_001\n"
     ]
    }
   ],
   "source": [
    "print(px.hdf_utils.assign_group_index(h5_file, 'Measurement'))"
   ]
  },
  {
   "cell_type": "markdown",
   "metadata": {},
   "source": [
    "Now lets look at datasets and groups in the created file:"
   ]
  },
  {
   "cell_type": "code",
   "execution_count": 7,
   "metadata": {},
   "outputs": [
    {
     "name": "stdout",
     "output_type": "stream",
     "text": [
      "Contents within the file so far:\n",
      "/\n",
      "├ Measurement_000\n",
      "  ---------------\n",
      "├ Some_Group\n",
      "  ----------\n",
      "  ├ Some_Dataset\n"
     ]
    }
   ],
   "source": [
    "print('Contents within the file so far:')\n",
    "px.hdf_utils.print_tree(h5_file)"
   ]
  },
  {
   "cell_type": "markdown",
   "metadata": {},
   "source": [
    "Clearly, we have the 'Measurement_000' Group at the same level as a group named 'Some_Group'. The group 'Some_Group' contains a dataset named 'Some_Dataset' under it. \n",
    "\n",
    "Both, 'Measurement_000' and 'Some_Group' have an underline below their name to indicate that they are groups unlike the 'Some_Dataset' Dataset\n",
    "\n",
    "Writing attributes\n",
    "======================\n",
    "HDF5 datasets and datagroups can also store metadata such as experimental parameters. These metadata can be text,\n",
    "numbers, small lists of numbers or text etc. These metadata can be very important for understanding the datasets\n",
    "and guide the analysis routines.\n",
    "\n",
    "While one could use the basic h5py functionality to write and access attributes, one would encounter a lot of problems when attempting to encode or decode attributes whose values were strings or lists of strings due to some issues in h5py. This problem has been demonstrated in our primer to HDF5. Instead of using the basic functionality of h5py, we recommend always using the functions in pycroscopy that reliably and consistently work for any kind of attribute for any version of python: \n",
    "\n",
    "Here's a look at the self-explanatory, default attribtues that will be written to the indexed group for traceability and posterity. Note that we are using pycrocsopy's get_attributes() function instead of the base h5py capability"
   ]
  },
  {
   "cell_type": "code",
   "execution_count": 8,
   "metadata": {},
   "outputs": [
    {
     "name": "stdout",
     "output_type": "stream",
     "text": [
      "Attributes contained within <HDF5 group \"/Measurement_000\" (0 members)>\n",
      "\tmachine_id : XPSOne.hsd1.tn.comcast.net.\n",
      "\ttimestamp : 2018_04_21-14_08_52\n",
      "\tpycroscopy_version : 0.59.7\n",
      "\tplatform : Windows-10-10.0.16299-SP0\n"
     ]
    }
   ],
   "source": [
    "print('Attributes contained within {}'.format(h5_meas_group))\n",
    "for key, val in px.hdf_utils.get_attributes(h5_meas_group).items():\n",
    "    print('\\t%s : %s' % (key, val))"
   ]
  },
  {
   "cell_type": "markdown",
   "metadata": {},
   "source": [
    "Note that these book-keeping attributes written by create_indexed_group() are not written when using h5py's create_group() function to create a regular group. "
   ]
  },
  {
   "cell_type": "code",
   "execution_count": 9,
   "metadata": {},
   "outputs": [
    {
     "name": "stdout",
     "output_type": "stream",
     "text": [
      "Attributes contained in the basic group created using h5py: <HDF5 group \"/Some_Group\" (1 members)>\n",
      "{}\n"
     ]
    }
   ],
   "source": [
    "print('Attributes contained in the basic group created using h5py: {}'.format(h5_some_group))\n",
    "print(px.hdf_utils.get_attributes(h5_some_group))"
   ]
  },
  {
   "cell_type": "markdown",
   "metadata": {},
   "source": [
    "write_book_keeping_attrs()\n",
    "--------------------------\n",
    "\n",
    "However, you can always manually add these basic attributes after creating the group using the write_book_keeping_attrs(). Note that we can add these basic attributes to Datasets as well using this function."
   ]
  },
  {
   "cell_type": "code",
   "execution_count": 10,
   "metadata": {},
   "outputs": [
    {
     "name": "stdout",
     "output_type": "stream",
     "text": [
      "Attributes contained in the basic group after calling write_book_keeping_attrs():\n",
      "\tmachine_id : XPSOne.hsd1.tn.comcast.net.\n",
      "\ttimestamp : 2018_04_21-14_08_52\n",
      "\tpycroscopy_version : 0.59.7\n",
      "\tplatform : Windows-10-10.0.16299-SP0\n"
     ]
    }
   ],
   "source": [
    "px.hdf_utils.write_book_keeping_attrs(h5_some_group)\n",
    "print('Attributes contained in the basic group after calling write_book_keeping_attrs():')\n",
    "for key, val in px.hdf_utils.get_attributes(h5_some_group).items():\n",
    "    print('\\t%s : %s' % (key, val))"
   ]
  },
  {
   "cell_type": "markdown",
   "metadata": {},
   "source": [
    "write_simple_attrs()\n",
    "-------------------\n",
    "Due to the problems in h5py, we use the write_simple_attrs() function to add / modify additional attributes to the group:"
   ]
  },
  {
   "cell_type": "code",
   "execution_count": 11,
   "metadata": {
    "collapsed": true
   },
   "outputs": [],
   "source": [
    "px.hdf_utils.write_simple_attrs(h5_meas_group, {'Instrument': 'Atomic Force Microscope',\n",
    "                                                'User': 'Joe Smith',\n",
    "                                                'Room Temperature [C]': 23})"
   ]
  },
  {
   "cell_type": "markdown",
   "metadata": {},
   "source": [
    "copy_attributes()\n",
    "------------------\n",
    "hdf_utils.copy_attributes() is another handy function that simplifies the process of copying attributes from one dataset to another. To illustrate, let us copy the attributes from h5_meas_group to h5_some_dataset:"
   ]
  },
  {
   "cell_type": "code",
   "execution_count": 13,
   "metadata": {},
   "outputs": [
    {
     "name": "stdout",
     "output_type": "stream",
     "text": [
      "Attributes in <HDF5 dataset \"Some_Dataset\": shape (0, 1, 2, 3, 4), type \"<f4\">:\n",
      "\ttimestamp : 2018_04_21-14_08_52\n",
      "\tpycroscopy_version : 0.59.7\n",
      "\tRoom Temperature [C] : 23\n",
      "\tmachine_id : XPSOne.hsd1.tn.comcast.net.\n",
      "\tInstrument : Atomic Force Microscope\n",
      "\tUser : Joe Smith\n",
      "\tplatform : Windows-10-10.0.16299-SP0\n"
     ]
    }
   ],
   "source": [
    "print('Attributes in {} before copying attributes:'.format(h5_some_dataset))\n",
    "for key, val in px.hdf_utils.get_attributes(h5_some_dataset).items():\n",
    "    print('\\t%s : %s' % (key, val))\n",
    "print('\\n------------- COPYING ATTRIBUTES ----------------------------\\n')\n",
    "px.hdf_utils.copy_attributes(h5_meas_group, h5_some_dataset)\n",
    "print('Attributes in {}:'.format(h5_some_dataset))\n",
    "for key, val in px.hdf_utils.get_attributes(h5_some_dataset).items():\n",
    "    print('\\t%s : %s' % (key, val))"
   ]
  },
  {
   "cell_type": "markdown",
   "metadata": {},
   "source": [
    "Writing Main datasets\n",
    "============\n",
    "\n",
    "Set up a toy problem\n",
    "--------------------\n",
    "Let's set up a toy four-dimensional dataset that has:\n",
    "* two position dimensions:\n",
    "    * X\n",
    "    * Y\n",
    "* and two spectroscopic dimensions:\n",
    "    * (sinusoidal) probing bias waveform\n",
    "    * cycles over which this bias waveform is repeated\n",
    "    \n",
    "For simplicity, we will keep the size of each dimension small. "
   ]
  },
  {
   "cell_type": "code",
   "execution_count": 14,
   "metadata": {
    "collapsed": true
   },
   "outputs": [],
   "source": [
    "num_rows = 3\n",
    "num_cols = 5\n",
    "num_cycles = 2\n",
    "bias_pts = 7"
   ]
  },
  {
   "cell_type": "markdown",
   "metadata": {},
   "source": [
    "## Specify position and spectroscopic dimensions\n",
    "\n",
    "Next, let us determine how each of the position and spectroscopic dimensions are varied"
   ]
  },
  {
   "cell_type": "code",
   "execution_count": 15,
   "metadata": {
    "collapsed": true
   },
   "outputs": [],
   "source": [
    "rows_vals = np.arange(-0.1, 0.15, 0.1)\n",
    "cols_vals = np.arange(400, 900, 100)\n",
    "bias_vals = 2.5 * np.sin(np.linspace(0, 2*np.pi, bias_pts, endpoint=False))\n",
    "cycle_vals = np.arange(num_cycles)"
   ]
  },
  {
   "cell_type": "markdown",
   "metadata": {},
   "source": [
    "For better understanding of this dataset, let us take a look at the different values these dimensions can take"
   ]
  },
  {
   "cell_type": "code",
   "execution_count": 16,
   "metadata": {},
   "outputs": [
    {
     "data": {
      "image/png": "[encoded data removed]",
      "text/plain": [
       "<matplotlib.figure.Figure at 0x248ce654f60>"
      ]
     },
     "metadata": {},
     "output_type": "display_data"
    }
   ],
   "source": [
    "fig, axes = plt.subplots(ncols=2, nrows=2, figsize=(7, 7))\n",
    "for axis, vals, dim_name in zip(axes.flat, [rows_vals, cols_vals, bias_vals, cycle_vals], \n",
    "                                ['Rows', 'Cols', 'Bias', 'Cycle']):\n",
    "    axis.set_title(dim_name, fontsize=15)\n",
    "    axis.plot(vals, 'o-')\n",
    "fig.tight_layout()"
   ]
  },
  {
   "cell_type": "markdown",
   "metadata": {},
   "source": [
    "In pycroscopy, position and spectrosocpic dimensions are defined using some basic information that will be incorporated in Dimension objects that contain three vial pieces of information:\n",
    "* Name of the dimension\n",
    "* units for the dimension\n",
    "* values:\n",
    "    * These can be the actual values over which the dimension was varied\n",
    "    * or number of steps in case of linearly varying dimensions such as 'Cycle' below \n",
    "    \n",
    "Note that the Dimension objects in the lists for Positions and Spectroscopic must be arranged from fastest varying to slowest varying to mimic how the data is actually arranged. For example, in this example, there are multiple bias points per cycle and multiple columns (X) per row (Y) of data. Thus, the bias changes faster than the cycle and the columns (X) change faster than the rows (Y). Therefore, the  Cols must come before the Rows and Bias must precede the Cycle dimension:"
   ]
  },
  {
   "cell_type": "code",
   "execution_count": 17,
   "metadata": {
    "collapsed": true
   },
   "outputs": [],
   "source": [
    "pos_dims = [px.write_utils.Dimension('Cols', 'nm', cols_vals), \n",
    "            px.write_utils.Dimension('Rows', 'um', rows_vals)]\n",
    "spec_dims = [px.write_utils.Dimension('Bias', 'V', bias_vals), \n",
    "            px.write_utils.Dimension('Cycle', '', num_cycles)]"
   ]
  },
  {
   "cell_type": "markdown",
   "metadata": {},
   "source": [
    "write_main_dataset()\n",
    "-------------------\n",
    "\n",
    "Often, data is is recorded (from instruments) or generated (as a result of some analysis) in chunks (for example - one position at a time). Therefore, it makes sense to first create an empty dataset and then fill in the data as it is generated / recorded. \n",
    "\n",
    "We will only create an empty dataset first by specifying how large the dataset should be and of what data type (specified using the dtype keyword argument). Later, we will go over examples where the whole data is available when creating the HDF5 dataset. The *write_main_dataset* is one of the most important and popularly used functions in hdf_utils since it handles:\n",
    "* thorough validation of all inputs\n",
    "* the creation of the central dataset\n",
    "* the creation of the ancillary datasets (if necessary)\n",
    "* linking the ancillary datasets such that the central dataset becomes a *Main* dataset\n",
    "* writing attributes\n",
    "\n",
    "We could use the write_simple_attrs() function to write attributes to Raw_Data at a later stage but we can always pass these attributes to be written at the time of dataset creation if they are already known"
   ]
  },
  {
   "cell_type": "code",
   "execution_count": 18,
   "metadata": {},
   "outputs": [
    {
     "name": "stdout",
     "output_type": "stream",
     "text": [
      "<HDF5 dataset \"Raw_Data\": shape (15, 14), type \"<f4\">\n",
      "located at: \n",
      "/Measurement_000/Raw_Data \n",
      "Data contains: \n",
      "Current (nA) \n",
      "Data dimensions and original shape: \n",
      "Position Dimensions: \n",
      "Rows - size: 3 \n",
      "Cols - size: 5 \n",
      "Spectroscopic Dimensions: \n",
      "Bias - size: 7 \n",
      "Cycle - size: 2\n"
     ]
    }
   ],
   "source": [
    "h5_raw = px.hdf_utils.write_main_dataset(h5_meas_group, (num_rows * num_cols, bias_pts * num_cycles), \n",
    "                                         'Raw_Data', 'Current', 'nA', pos_dims, spec_dims, dtype=np.float32,\n",
    "                                         main_dset_attrs={'IO_rate': 4E+6, 'Amplifier_Gain': 9})\n",
    "print(h5_raw)"
   ]
  },
  {
   "cell_type": "markdown",
   "metadata": {},
   "source": [
    "Let us take a look at the contents of the file again using the print_tree() functon. What we see is that five new datasets have been created: \n",
    "* **Raw_Data** was created to contain the 4D measurement we are interested in storing. \n",
    "* **Spectrocopic_Indices** and **Spectrocopic_Values** contain the information about the spectroscopic dimensions\n",
    "* **Position_Indices** and **Position_Values** contain the position related information\n",
    "\n",
    "The underline below **Measurement_000** indicates that this is a HDF5 Group"
   ]
  },
  {
   "cell_type": "code",
   "execution_count": 19,
   "metadata": {},
   "outputs": [
    {
     "name": "stdout",
     "output_type": "stream",
     "text": [
      "/\n",
      "├ Measurement_000\n",
      "  ---------------\n",
      "  ├ Position_Indices\n",
      "  ├ Position_Values\n",
      "  ├ Raw_Data\n",
      "  ├ Spectroscopic_Indices\n",
      "  ├ Spectroscopic_Values\n",
      "├ Some_Group\n",
      "  ----------\n",
      "  ├ Some_Dataset\n"
     ]
    }
   ],
   "source": [
    "px.hdf_utils.print_tree(h5_file)"
   ]
  },
  {
   "cell_type": "markdown",
   "metadata": {},
   "source": [
    "As mentioned in our document about the data_format, the four supporting datasets (Position and Spectroscopic Indices and Values) help provide meaning to each element in Raw_Data such as dimensionality, etc. \n",
    "\n",
    "Only the Raw_Data dataset is a Pycroscopy Main dataset while all other datasets are just supporting datasets. We can verify whether a dataset is a Main dataset or not using the check_if_main() function: "
   ]
  },
  {
   "cell_type": "code",
   "execution_count": 20,
   "metadata": {},
   "outputs": [
    {
     "name": "stdout",
     "output_type": "stream",
     "text": [
      "Is /Measurement_000/Raw_Data is a Main dataset?: True\n",
      "Is /Measurement_000/Spectroscopic_Indices is a Main dataset?: False\n",
      "Is /Measurement_000/Position_Values is a Main dataset?: False\n"
     ]
    }
   ],
   "source": [
    "for dset in [h5_raw, h5_raw.h5_spec_inds, h5_raw.h5_pos_vals]:\n",
    "    print('Is {} is a Main dataset?: {}'.format(dset.name, px.hdf_utils.check_if_main(dset)))"
   ]
  },
  {
   "cell_type": "markdown",
   "metadata": {},
   "source": [
    "Populating the Dataset:\n",
    "---------------------\n",
    "\n",
    "Note that h5_main still does not contain the values we are interested in filling it in with:"
   ]
  },
  {
   "cell_type": "code",
   "execution_count": 22,
   "metadata": {},
   "outputs": [
    {
     "data": {
      "text/plain": [
       "array([ 0.,  0.,  0.,  0.,  0.,  0.,  0.,  0.,  0.,  0.,  0.,  0.,  0.,  0.], dtype=float32)"
      ]
     },
     "execution_count": 22,
     "metadata": {},
     "output_type": "execute_result"
    }
   ],
   "source": [
    "h5_raw[5]"
   ]
  },
  {
   "cell_type": "markdown",
   "metadata": {},
   "source": [
    "Let us simulate a situation where we are recording the data a pixel at a time and writing it to the h5_main dataset:"
   ]
  },
  {
   "cell_type": "code",
   "execution_count": 23,
   "metadata": {
    "collapsed": true
   },
   "outputs": [],
   "source": [
    "source_main_data = np.random.rand(num_rows * num_cols, bias_pts * num_cycles)\n",
    "\n",
    "for pixel_ind, pixel_data in enumerate(source_main_data):\n",
    "    h5_raw[pixel_ind] = pixel_data\n",
    "\n",
    "# Make sure to flush the file (write anything in the buffer into the file)\n",
    "h5_file.flush()"
   ]
  },
  {
   "cell_type": "markdown",
   "metadata": {},
   "source": [
    "Note that we were only simulating a (realistic) situation where all the data was not present at once to write into Raw_Data dataset. Let us check the contents at a particular position in the dataset now:"
   ]
  },
  {
   "cell_type": "code",
   "execution_count": 24,
   "metadata": {},
   "outputs": [
    {
     "data": {
      "text/plain": [
       "array([ 1000.,  1001.,  1002.,  1003.,  1004.,  1005.,  1006.,  1010.,\n",
       "        1011.,  1012.,  1013.,  1014.,  1015.,  1016.], dtype=float32)"
      ]
     },
     "execution_count": 24,
     "metadata": {},
     "output_type": "execute_result"
    }
   ],
   "source": [
    "h5_raw[5]"
   ]
  },
  {
   "cell_type": "markdown",
   "metadata": {},
   "source": [
    "Exploring attributes in Main datasets:\n",
    "------------------------------------\n",
    "\n",
    "Some of the main requirements for promoting a regular dataset to a Main dataset are some mandatory attributes attached to the dataset:\n",
    "* quantity - What the stored data contains - for example: current, temperature, voltage, strain etc.\n",
    "* units - the units for the quantity, such as Amperes, meters, etc.\n",
    "* links to each of the four ancillary datasets \n",
    "\n",
    "Again, we can use the get_attributes() function to see if and how these attributes are stored:"
   ]
  },
  {
   "cell_type": "code",
   "execution_count": 25,
   "metadata": {},
   "outputs": [
    {
     "data": {
      "text/plain": [
       "{'Amplifier_Gain': 9,\n",
       " 'IO_rate': 4000000.0,\n",
       " 'Position_Indices': <HDF5 object reference>,\n",
       " 'Position_Values': <HDF5 object reference>,\n",
       " 'Spectroscopic_Indices': <HDF5 object reference>,\n",
       " 'Spectroscopic_Values': <HDF5 object reference>,\n",
       " 'machine_id': 'XPSOne.hsd1.tn.comcast.net.',\n",
       " 'platform': 'Windows-10-10.0.16299-SP0',\n",
       " 'pycroscopy_version': '0.59.7',\n",
       " 'quantity': 'Current',\n",
       " 'timestamp': '2018_04_21-14_08_53',\n",
       " 'units': 'nA'}"
      ]
     },
     "execution_count": 25,
     "metadata": {},
     "output_type": "execute_result"
    }
   ],
   "source": [
    "px.hdf_utils.get_attributes(h5_raw)"
   ]
  },
  {
   "cell_type": "markdown",
   "metadata": {},
   "source": [
    "While it is straightforward to read simple attributes like quantity or units, the values for Position_Values or Spectroscopic_Indices attributes seem cryptic. These are just references or links to other datasets. "
   ]
  },
  {
   "cell_type": "code",
   "execution_count": 26,
   "metadata": {},
   "outputs": [
    {
     "data": {
      "text/plain": [
       "<HDF5 object reference>"
      ]
     },
     "execution_count": 26,
     "metadata": {},
     "output_type": "execute_result"
    }
   ],
   "source": [
    "px.hdf_utils.get_attr(h5_raw, 'Position_Indices')"
   ]
  },
  {
   "cell_type": "markdown",
   "metadata": {},
   "source": [
    "Object references as attributes\n",
    "=================\n",
    "\n",
    "Reading linkages\n",
    "-----------------\n",
    "\n",
    "We can get access to linked datasets using get_auxillary_datasets():"
   ]
  },
  {
   "cell_type": "code",
   "execution_count": 27,
   "metadata": {},
   "outputs": [
    {
     "data": {
      "text/plain": [
       "[<HDF5 dataset \"Position_Indices\": shape (15, 2), type \"<u4\">]"
      ]
     },
     "execution_count": 27,
     "metadata": {},
     "output_type": "execute_result"
    }
   ],
   "source": [
    "px.hdf_utils.get_auxillary_datasets(h5_raw, 'Position_Indices')"
   ]
  },
  {
   "cell_type": "markdown",
   "metadata": {},
   "source": [
    "Note that this function returns all datasets named 'Position_Indices' under a group or Dataset in a list. In this case, we know that the list should only have one value. \n",
    "\n",
    "Given that h5_raw is a Main dataset, and Position_Indices is one of the four essential components of a Main dataset, the Pycrodataset object makes it far easier to access the ancillary datasets without neededing to call a function as above. PycroDataset will be discussed in greater detail in a separate notebook."
   ]
  },
  {
   "cell_type": "markdown",
   "metadata": {},
   "source": [
    "Creating linkages\n",
    "----------------\n",
    "\n",
    "What do we do if we need to store some other supporting information regarding some measurement? If such supporting datasets do not need to be Pycroscopy Main datasets, we could simply use the basic functionality of h5py to create the dataset"
   ]
  },
  {
   "cell_type": "code",
   "execution_count": 28,
   "metadata": {
    "collapsed": true
   },
   "outputs": [],
   "source": [
    "h5_other = h5_meas_group.create_dataset('Other', np.random.rand(5))"
   ]
  },
  {
   "cell_type": "markdown",
   "metadata": {},
   "source": [
    "Pycroscopy files tend to have a fair number of datasets in them and the most important ones are Main datasets and users tend to \"walk\" or \"hop\" through the file by stepping only on the Main datasets. Thus, we often want to link supporting datasets to the relevant Main datasets. This way, such supporting datasets can be accessed via an attribute of the Main dataset instead of having to manually specify the path of the supporting dataset.\n",
    "\n",
    "link_h5_objects_as_attrs()\n",
    "--------------------------\n",
    "\n",
    "link_h5_objects_as_attrs() makes it easy to link a dataset or group to any other dataset or group. In this example we will link the 'Other' dataset to the Main dataset:"
   ]
  },
  {
   "cell_type": "code",
   "execution_count": 29,
   "metadata": {},
   "outputs": [
    {
     "data": {
      "text/plain": [
       "{'Amplifier_Gain': 9,\n",
       " 'IO_rate': 4000000.0,\n",
       " 'Other': <HDF5 object reference>,\n",
       " 'Position_Indices': <HDF5 object reference>,\n",
       " 'Position_Values': <HDF5 object reference>,\n",
       " 'Spectroscopic_Indices': <HDF5 object reference>,\n",
       " 'Spectroscopic_Values': <HDF5 object reference>,\n",
       " 'machine_id': 'XPSOne.hsd1.tn.comcast.net.',\n",
       " 'platform': 'Windows-10-10.0.16299-SP0',\n",
       " 'pycroscopy_version': '0.59.7',\n",
       " 'quantity': 'Current',\n",
       " 'timestamp': '2018_04_21-14_08_53',\n",
       " 'units': 'nA'}"
      ]
     },
     "execution_count": 29,
     "metadata": {},
     "output_type": "execute_result"
    }
   ],
   "source": [
    "px.hdf_utils.link_h5_objects_as_attrs(h5_raw, h5_other)\n",
    "px.hdf_utils.get_attributes(h5_raw)"
   ]
  },
  {
   "cell_type": "markdown",
   "metadata": {},
   "source": [
    "In the same way, we can even link a group to the Other dataset:"
   ]
  },
  {
   "cell_type": "code",
   "execution_count": 30,
   "metadata": {},
   "outputs": [
    {
     "data": {
      "text/plain": [
       "{'Some_Group': <HDF5 object reference>}"
      ]
     },
     "execution_count": 30,
     "metadata": {},
     "output_type": "execute_result"
    }
   ],
   "source": [
    "px.hdf_utils.link_h5_objects_as_attrs(h5_other, h5_some_group)\n",
    "px.hdf_utils.get_attributes(h5_other)"
   ]
  },
  {
   "cell_type": "markdown",
   "metadata": {},
   "source": [
    "What we see above is that 'Other' is now an attribute of the 'Raw_Data' dataset. \n",
    "\n",
    "One common scenario in scientific workflows is the storage of multiple Main Datasets within the same group. The first Main dataset can be stored along with its four ancillary datasets without any problems. However, if the second Main dataset also requires the storage of Position and Spectroscopic datasets, these datasets would need to be named differently to avoid conflicts with existing datasets (associated with the first Main dataset). Moreover, these ancillary datasets would need to be linked to the second Main dataset with the standard 'Position_..' and 'Spectroscopic_..' names for the attributes. \n",
    "\n",
    "link_h5_obj_as_alias()\n",
    "----------------------\n",
    "The link_h5_obj_as_alias() is handy in this scenario since it allows a dataset or group to be linked with a name different from its actual name. For example, we can link the 'Raw_Data' dataset to the 'Other' dataset with an alias:"
   ]
  },
  {
   "cell_type": "code",
   "execution_count": 31,
   "metadata": {},
   "outputs": [
    {
     "data": {
      "text/plain": [
       "{'Mysterious_Dataset': <HDF5 object reference>,\n",
       " 'Some_Group': <HDF5 object reference>}"
      ]
     },
     "execution_count": 31,
     "metadata": {},
     "output_type": "execute_result"
    }
   ],
   "source": [
    "px.hdf_utils.link_h5_obj_as_alias(h5_other, h5_raw, 'Mysterious_Dataset')\n",
    "\n",
    "px.hdf_utils.get_attributes(h5_other)"
   ]
  },
  {
   "cell_type": "markdown",
   "metadata": {},
   "source": [
    "The datased named 'Other' has a new attribute named 'Mysterious_Dataset'. Let us show that this dataset is none other than Raw_Data: "
   ]
  },
  {
   "cell_type": "code",
   "execution_count": 32,
   "metadata": {},
   "outputs": [
    {
     "name": "stdout",
     "output_type": "stream",
     "text": [
      "True\n"
     ]
    }
   ],
   "source": [
    "h5_myst_dset = px.hdf_utils.get_auxillary_datasets(h5_other, 'Mysterious_Dataset')[0]\n",
    "print(h5_myst_dset == h5_raw)"
   ]
  },
  {
   "cell_type": "markdown",
   "metadata": {},
   "source": [
    "Processing on Datasets\n",
    "==============\n",
    "Let us assume that we are normalizing the data in some way and we need to write the results back to the file. As far as the data shapes and dimensionality are concerned, let us assume that the data still remains a 4D dataset. \n",
    "\n",
    "create_results_group()\n",
    "---------------------\n",
    "Let us first start off with creation of a HDF5 Group that will contain the results. If you recall, groups that contain the results of some processing / analysis on a source dataset are named as 'Source_Dataset_name-Process_Name_00x' where x is the index of the group. The create_results_group() function makes it very easy to create a group with such nomenclature and indexing:"
   ]
  },
  {
   "cell_type": "code",
   "execution_count": 33,
   "metadata": {},
   "outputs": [
    {
     "name": "stdout",
     "output_type": "stream",
     "text": [
      "<HDF5 group \"/Measurement_000/Raw_Data-Normalization_000\" (0 members)>\n"
     ]
    }
   ],
   "source": [
    "h5_results_group_1 = px.hdf_utils.create_results_group(h5_raw, 'Normalization')\n",
    "print(h5_results_group_1)"
   ]
  },
  {
   "cell_type": "markdown",
   "metadata": {},
   "source": [
    "Let us make up some data which is the result of some Normalization on the Raw_Data:"
   ]
  },
  {
   "cell_type": "code",
   "execution_count": 34,
   "metadata": {
    "collapsed": true
   },
   "outputs": [],
   "source": [
    "norm_data = np.random.rand(num_rows * num_cols, bias_pts * num_cycles)"
   ]
  },
  {
   "cell_type": "markdown",
   "metadata": {},
   "source": [
    "Writing a main dataset\n",
    "---------------------\n",
    "\n",
    "In this scenario we will demonstrate how one might write a Main dataset when having the complete processed (in this case some normalization) data is available before even creating the dataset.\n",
    "\n",
    "One more important point to remember here is that the normalized data is of the same shape and dimensionality as 'Raw_Data'. Therefore, we need not unnecessarily create ancillary datasets - we can simply refer to the ones that support 'Raw_Data'. During the creation of 'Raw_Data', we passed the pos_dims and spec_dims parameters for the creation of new Ancillary datasets. In this case, we will show how we can ask the write_main_dataset() to reuse existing ancillary datasets:"
   ]
  },
  {
   "cell_type": "code",
   "execution_count": 35,
   "metadata": {},
   "outputs": [
    {
     "name": "stdout",
     "output_type": "stream",
     "text": [
      "<HDF5 dataset \"Normalized_Data\": shape (15, 14), type \"<f8\">\n",
      "located at: \n",
      "/Measurement_000/Raw_Data-Normalization_000/Normalized_Data \n",
      "Data contains: \n",
      "Current (nA) \n",
      "Data dimensions and original shape: \n",
      "Position Dimensions: \n",
      "Rows - size: 3 \n",
      "Cols - size: 5 \n",
      "Spectroscopic Dimensions: \n",
      "Bias - size: 7 \n",
      "Cycle - size: 2\n"
     ]
    }
   ],
   "source": [
    "h5_norm = px.hdf_utils.write_main_dataset(h5_results_group_1, norm_data, 'Normalized_Data', 'Current', 'nA', \n",
    "                                          None, None, \n",
    "                                          h5_pos_inds=h5_raw.h5_pos_inds, h5_pos_vals=h5_raw.h5_pos_vals, \n",
    "                                          h5_spec_inds=h5_raw.h5_spec_inds, h5_spec_vals=h5_raw.h5_spec_vals)\n",
    "print(h5_norm)"
   ]
  },
  {
   "cell_type": "markdown",
   "metadata": {},
   "source": [
    "When we look at the contents of hte file again, what we see below is that the newly created group 'Raw_Data-Normalization_000' only contains the 'Normalized_Data' dataset and none of the supporting ancillary datasets since it is sharing the same ones created for 'Raw_Data' "
   ]
  },
  {
   "cell_type": "code",
   "execution_count": 36,
   "metadata": {},
   "outputs": [
    {
     "name": "stdout",
     "output_type": "stream",
     "text": [
      "/\n",
      "├ Measurement_000\n",
      "  ---------------\n",
      "  ├ Other\n",
      "  ├ Position_Indices\n",
      "  ├ Position_Values\n",
      "  ├ Raw_Data\n",
      "  ├ Raw_Data-Normalization_000\n",
      "    --------------------------\n",
      "    ├ Normalized_Data\n",
      "  ├ Spectroscopic_Indices\n",
      "  ├ Spectroscopic_Values\n",
      "├ Some_Group\n",
      "  ----------\n",
      "  ├ Some_Dataset\n"
     ]
    }
   ],
   "source": [
    "px.hdf_utils.print_tree(h5_file)"
   ]
  },
  {
   "cell_type": "markdown",
   "metadata": {},
   "source": [
    "Shared ancillary datasets\n",
    "---------------------------------\n",
    "Let us verify that 'Raw_Data' and 'Normalized_Data' share the same ancillary datasets:"
   ]
  },
  {
   "cell_type": "code",
   "execution_count": 37,
   "metadata": {},
   "outputs": [
    {
     "name": "stdout",
     "output_type": "stream",
     "text": [
      "Sharing Position_Indices: True\n",
      "Sharing Position_Values: True\n",
      "Sharing Spectroscopic_Indices: True\n",
      "Sharing Spectroscopic_Values: True\n"
     ]
    }
   ],
   "source": [
    "for anc_name in ['Position_Indices', 'Position_Values', 'Spectroscopic_Indices', 'Spectroscopic_Values']:\n",
    "    # get the handle to the ancillary dataset linked to 'Raw_Data'\n",
    "    raw_anc = px.hdf_utils.get_auxillary_datasets(h5_raw, anc_name)[0]\n",
    "    # get the handle to the ancillary dataset linked to 'Normalized_Data'\n",
    "    norm_anc = px.hdf_utils.get_auxillary_datasets(h5_norm, anc_name)[0]\n",
    "    # Show that these are indeed the same dataset\n",
    "    print('Sharing {}: {}'.format(anc_name, raw_anc == norm_anc)) "
   ]
  },
  {
   "cell_type": "markdown",
   "metadata": {},
   "source": [
    "Unlike last time with 'Raw_Data', we wrote the data to the file when creating 'Normalized_Data', so let us check to make sure that we did in fact write data to disk:"
   ]
  },
  {
   "cell_type": "code",
   "execution_count": 38,
   "metadata": {},
   "outputs": [
    {
     "name": "stdout",
     "output_type": "stream",
     "text": [
      "[ 0.04402251  0.9314648   0.62175054  0.2936163   0.25153665  0.95741689\n",
      "  0.60418902  0.6436971   0.02944552  0.47874527  0.85188949  0.10467687\n",
      "  0.96178644  0.06229508]\n"
     ]
    }
   ],
   "source": [
    "print(h5_norm[5])"
   ]
  },
  {
   "cell_type": "markdown",
   "metadata": {},
   "source": [
    "Duplicating Datasets\n",
    "=============\n",
    "\n",
    "create_empty_dataset()\n",
    "---------------------\n",
    "Let us say that we are interested in writing out another dataset that is again of the same shape and dimensionality as 'Raw_Data' or 'Normalized_Data'. There is another way to create an empty dataset identical to an existing dataset, and then fill it in. This approach is an alternative to the approach used for 'Normalized_Data':"
   ]
  },
  {
   "cell_type": "code",
   "execution_count": 39,
   "metadata": {},
   "outputs": [
    {
     "name": "stdout",
     "output_type": "stream",
     "text": [
      "<HDF5 dataset \"Offsets\": shape (15, 14), type \"<f4\">\n",
      "located at: \n",
      "/Measurement_000/Raw_Data-Normalization_000/Offsets \n",
      "Data contains: \n",
      "Current (nA) \n",
      "Data dimensions and original shape: \n",
      "Position Dimensions: \n",
      "Rows - size: 3 \n",
      "Cols - size: 5 \n",
      "Spectroscopic Dimensions: \n",
      "Bias - size: 7 \n",
      "Cycle - size: 2\n"
     ]
    }
   ],
   "source": [
    "h5_offsets = px.hdf_utils.create_empty_dataset(h5_norm, np.float32, 'Offsets')\n",
    "print(h5_offsets)"
   ]
  },
  {
   "cell_type": "markdown",
   "metadata": {},
   "source": [
    "In this very specific scenario, we duplicated practically all aspects of 'Normalized_Data', including its links to the ancillary datasets. Thus, this h5_offsets automatically also becomes a Main dataset. \n",
    "\n",
    "However, it is empty and needs to be populated"
   ]
  },
  {
   "cell_type": "code",
   "execution_count": 40,
   "metadata": {},
   "outputs": [
    {
     "name": "stdout",
     "output_type": "stream",
     "text": [
      "[ 0.  0.  0.  0.  0.  0.  0.  0.  0.  0.  0.  0.  0.  0.]\n"
     ]
    }
   ],
   "source": [
    "print(h5_offsets[6])"
   ]
  },
  {
   "cell_type": "markdown",
   "metadata": {},
   "source": [
    "Since this is an example, we will populate the dataset using same data prepare for norm_data"
   ]
  },
  {
   "cell_type": "code",
   "execution_count": 41,
   "metadata": {},
   "outputs": [
    {
     "name": "stdout",
     "output_type": "stream",
     "text": [
      "[ 0.91192567  0.23039342  0.29715368  0.90831453  0.89278263  0.65489841\n",
      "  0.0317811   0.34148139  0.46433461  0.70488864  0.28679696  0.69362658\n",
      "  0.01249913  0.98213148]\n"
     ]
    }
   ],
   "source": [
    "h5_offsets[()] = norm_data\n",
    "print(h5_offsets[6])"
   ]
  },
  {
   "cell_type": "markdown",
   "metadata": {},
   "source": [
    "Creating Ancillary datasets\n",
    "===============\n",
    "\n",
    "Often, certain processing of data involves the removal of one or more dimensions (typically Spectroscopic). This necessitates careful generation of indices and values datasets. In our example, we will remove the spectroscopic dimension - 'Bias' and leave the position dimensions as is. While we could simply regenerate the spectroscopic indices from scratch knowing that the only remaining spectroscopic dimension is 'Cycle', this is not feasible when writing robust code where we have minimal control or knowledge about the other dimensions. This is especially true when there are 3 or more spectroscopic dimensions and we do not know relationships between the spectroscopic dimensions or the rates of change in these spectroscopic dimensions. Fortunately, hdf_utils.write_reduced_spec_dsets() substantially simplifies this problem as shown below.\n",
    "\n",
    "First, we still need to create the results HDF5 group to hold the results:"
   ]
  },
  {
   "cell_type": "code",
   "execution_count": 42,
   "metadata": {
    "collapsed": true
   },
   "outputs": [],
   "source": [
    "h5_analysis_group = px.hdf_utils.create_results_group(h5_norm, 'Fitting')"
   ]
  },
  {
   "cell_type": "markdown",
   "metadata": {
    "collapsed": true
   },
   "source": [
    "Let us take a look at the contents of the HDF5 file again. Clearly, we do not have any new datasets underneath 'Normalized_Data-Fitting_000'"
   ]
  },
  {
   "cell_type": "code",
   "execution_count": 43,
   "metadata": {},
   "outputs": [
    {
     "name": "stdout",
     "output_type": "stream",
     "text": [
      "/\n",
      "├ Measurement_000\n",
      "  ---------------\n",
      "  ├ Other\n",
      "  ├ Position_Indices\n",
      "  ├ Position_Values\n",
      "  ├ Raw_Data\n",
      "  ├ Raw_Data-Normalization_000\n",
      "    --------------------------\n",
      "    ├ Normalized_Data\n",
      "    ├ Normalized_Data-Fitting_000\n",
      "      ---------------------------\n",
      "    ├ Offsets\n",
      "  ├ Spectroscopic_Indices\n",
      "  ├ Spectroscopic_Values\n",
      "├ Some_Group\n",
      "  ----------\n",
      "  ├ Some_Dataset\n"
     ]
    }
   ],
   "source": [
    "px.hdf_utils.print_tree(h5_file)"
   ]
  },
  {
   "cell_type": "markdown",
   "metadata": {},
   "source": [
    "write_reduced_spec_dsets()\n",
    "-------------------------\n",
    "Now we make the new spectroscopic indices and values datasets while removing the 'Bias' dimension"
   ]
  },
  {
   "cell_type": "code",
   "execution_count": 44,
   "metadata": {},
   "outputs": [
    {
     "name": "stdout",
     "output_type": "stream",
     "text": [
      "<HDF5 dataset \"Spectroscopic_Indices\": shape (1, 2), type \"<u4\">\n"
     ]
    }
   ],
   "source": [
    "h5_spec_inds, h5_spec_vals = px.hdf_utils.write_reduced_spec_dsets(h5_analysis_group, \n",
    "                                                                   h5_norm.h5_spec_inds, \n",
    "                                                                   h5_norm.h5_spec_vals, \n",
    "                                                                   'Bias')\n",
    "print(h5_spec_inds)"
   ]
  },
  {
   "cell_type": "markdown",
   "metadata": {},
   "source": [
    "Let us take a look at the contents only inside h5_analysis_group now. Clearly, we have created two new spectroscopic ancillary datasets."
   ]
  },
  {
   "cell_type": "code",
   "execution_count": 45,
   "metadata": {},
   "outputs": [
    {
     "name": "stdout",
     "output_type": "stream",
     "text": [
      "/Measurement_000/Raw_Data-Normalization_000/Normalized_Data-Fitting_000\n",
      "├ Spectroscopic_Indices\n",
      "├ Spectroscopic_Values\n"
     ]
    }
   ],
   "source": [
    "px.hdf_utils.print_tree(h5_analysis_group)"
   ]
  },
  {
   "cell_type": "markdown",
   "metadata": {},
   "source": [
    "write_ind_val_dsets()\n",
    "---------------------\n",
    "\n",
    "Similar to write_reduced_spec_dsets(), hdf_utils also has another function called write_ind_val_dsets() that is handy when one needs to create the ancillary datasets before write_main_dataset() is called. For example, consider a data processing algorithm that may or may not change the position dimensions. You may need to structure your code this way:\n",
    "\n",
    "```python\n",
    "if position dimensions are unchanged:\n",
    "    # get links to datasets from the source dataset\n",
    "    h5_pos_inds, h5_pos_vals = h5_source.h5_pos_inds, h5_source.h5_pos_vals\n",
    "else:\n",
    "    # Need to create fresh HDF5 datasets\n",
    "    h5_pos_inds, h5_pos_vals = write_ind_val_dsets()\n",
    "\n",
    "# At this point, it does not matter how we got h5_pos_inds, h5_pos_vals. We can simply link them when we create the main dataset\n",
    "h5_new_main = write_main_dataset(...., h5_pos_inds=h5_pos_inds, h5_pos_vals=h5_pos_vals)\n",
    "\n",
    "```\n",
    "\n",
    "Even though we already decided that we would not be changing the position dimensions for this particular example, we will demonstrate the usage of write_ind_val_dsets() to make position indices and values HDF5 datasets (that are identical to the ones already linked to h5_norm)"
   ]
  },
  {
   "cell_type": "code",
   "execution_count": 46,
   "metadata": {
    "collapsed": true
   },
   "outputs": [],
   "source": [
    "h5_pos_inds, h5_pos_vals = px.hdf_utils.write_ind_val_dsets(h5_analysis_group, pos_dims, is_spectral=False)"
   ]
  },
  {
   "cell_type": "markdown",
   "metadata": {},
   "source": [
    "Looking at the contents of Normalized_Data-Fitting_000 now reveals that we have added the Position datasets as well. However, we still do not have the main dataset."
   ]
  },
  {
   "cell_type": "code",
   "execution_count": 47,
   "metadata": {},
   "outputs": [
    {
     "name": "stdout",
     "output_type": "stream",
     "text": [
      "/Measurement_000/Raw_Data-Normalization_000/Normalized_Data-Fitting_000\n",
      "├ Position_Indices\n",
      "├ Position_Values\n",
      "├ Spectroscopic_Indices\n",
      "├ Spectroscopic_Values\n"
     ]
    }
   ],
   "source": [
    "px.hdf_utils.print_tree(h5_analysis_group)"
   ]
  },
  {
   "cell_type": "markdown",
   "metadata": {},
   "source": [
    "Finally, we can create and write a Main dataset with some results using the trusty write_main_dataset function. Since we have created both the Spectroscopic and Position HDF5 dataset pairs, we simply ask write_main_dataset() to re-use + link them."
   ]
  },
  {
   "cell_type": "code",
   "execution_count": 48,
   "metadata": {},
   "outputs": [
    {
     "name": "stdout",
     "output_type": "stream",
     "text": [
      "<HDF5 dataset \"Capacitance\": shape (15, 2), type \"<f8\">\n",
      "located at: \n",
      "/Measurement_000/Raw_Data-Normalization_000/Normalized_Data-Fitting_000/Capacitance \n",
      "Data contains: \n",
      "Capacitance (pF) \n",
      "Data dimensions and original shape: \n",
      "Position Dimensions: \n",
      "Rows - size: 3 \n",
      "Cols - size: 5 \n",
      "Spectroscopic Dimensions: \n",
      "Cycle - size: 2\n"
     ]
    }
   ],
   "source": [
    "reduced_main = np.random.rand(num_rows * num_cols, num_cycles)\n",
    "h5_cap_1 = px.hdf_utils.write_main_dataset(h5_analysis_group, reduced_main, 'Capacitance', 'Capacitance', 'pF', \n",
    "                                           None, None, h5_spec_inds=h5_spec_inds, h5_spec_vals=h5_spec_vals,\n",
    "                                           h5_pos_inds=h5_pos_inds, h5_pos_vals=h5_pos_vals)\n",
    "print(h5_cap_1)"
   ]
  },
  {
   "cell_type": "markdown",
   "metadata": {},
   "source": [
    "Multiple Main Datasets\n",
    "=============\n",
    "\n",
    "Let's say that we need to create a new Main dataset within the same folder as 'Capacitance' called 'Mean_Capacitance'. 'Mean_Capacitance' would just be a spatial map with average capacitance so it would not even have the 'Cycle' Spectroscopic dimension. This means that we can reuse the newly created Position ancillary datasets but we would need to create new Spectroscopic_Indices and Spectroscopic_Values datasets in the same folder to express the 0 dimensions in the spectroscopic axis for this new dataset. However, we already have datasets of this name that we created above using the write_reduced_spec_dsets() function. Recall, that the criterion for a Main dataset is that it should have attributes of name 'Spectroscopic_Indices' and 'Spectroscopic_Values'. It does not matter what the actual name of the linked datasets are. Coming back to the current example, we could simply ask write_main_dataset() to name the spectroscopic datasets with a different prefix - 'Empty_Spec' instead of 'Spectroscopic' via the 'aux_spec_prefix' keyword argument (last line). This allows the creation of the new Main Dataset without any name clashes with existing datasets:"
   ]
  },
  {
   "cell_type": "code",
   "execution_count": 49,
   "metadata": {},
   "outputs": [
    {
     "name": "stdout",
     "output_type": "stream",
     "text": [
      "<HDF5 dataset \"Mean_Capacitance\": shape (15, 1), type \"<f8\">\n",
      "located at: \n",
      "/Measurement_000/Raw_Data-Normalization_000/Normalized_Data-Fitting_000/Mean_Capacitance \n",
      "Data contains: \n",
      "Capacitance (pF) \n",
      "Data dimensions and original shape: \n",
      "Position Dimensions: \n",
      "Rows - size: 3 \n",
      "Cols - size: 5 \n",
      "Spectroscopic Dimensions: \n",
      "Capacitance - size: 1\n"
     ]
    }
   ],
   "source": [
    "h5_cap_2 = px.hdf_utils.write_main_dataset(h5_analysis_group, np.random.rand(num_rows * num_cols, 1), \n",
    "                                           'Mean_Capacitance', 'Capacitance', 'pF', \n",
    "                                           None, px.write_utils.Dimension('Capacitance', 'pF', 1), \n",
    "                                           h5_pos_inds=h5_pos_inds, h5_pos_vals=h5_pos_vals,\n",
    "                                           aux_spec_prefix='Empty_Spec')\n",
    "print(h5_cap_2)"
   ]
  },
  {
   "cell_type": "markdown",
   "metadata": {},
   "source": [
    "Clearly, 'Mean_Capacitance' and 'Capacitance' are two Main datasets that coexist in the same HDF5 group along with their necessary ancillary datasets. \n",
    "\n",
    "Now, let us look at the contents of the group: Normalized_Data-Fitting_000 to verify this:"
   ]
  },
  {
   "cell_type": "code",
   "execution_count": 50,
   "metadata": {},
   "outputs": [
    {
     "name": "stdout",
     "output_type": "stream",
     "text": [
      "/Measurement_000/Raw_Data-Normalization_000/Normalized_Data-Fitting_000\n",
      "├ Capacitance\n",
      "├ Empty_Spec_Indices\n",
      "├ Empty_Spec_Values\n",
      "├ Mean_Capacitance\n",
      "├ Position_Indices\n",
      "├ Position_Values\n",
      "├ Spectroscopic_Indices\n",
      "├ Spectroscopic_Values\n"
     ]
    }
   ],
   "source": [
    "px.hdf_utils.print_tree(h5_analysis_group)"
   ]
  },
  {
   "cell_type": "markdown",
   "metadata": {},
   "source": [
    "* create analysis results\n",
    "    * create main dataset with data but reuse only one set of ancillary datasets from source\n",
    "        * write simple attributes\n",
    "* create a new results group\n",
    "    * copy attributes from other results"
   ]
  },
  {
   "cell_type": "markdown",
   "metadata": {},
   "source": [
    "File status\n",
    "===========\n",
    "\n",
    "is_editable_h5()\n",
    "----------------\n",
    "When writing a class or a function that modifies or adds data to an existing HDF5 file, it is a good idea to check to make sure that it is indeed possible to write the new data to the file. is_editable_h5() is a handy function for this very purpose:"
   ]
  },
  {
   "cell_type": "code",
   "execution_count": 51,
   "metadata": {},
   "outputs": [
    {
     "name": "stdout",
     "output_type": "stream",
     "text": [
      "Is the file editable?: True\n"
     ]
    }
   ],
   "source": [
    "print('Is the file editable?: {}'.format(px.hdf_utils.is_editable_h5(h5_file)))"
   ]
  },
  {
   "cell_type": "markdown",
   "metadata": {},
   "source": [
    "If we close the file and try again we should expect runtime and Value errors. You can try this by yourself if you like."
   ]
  },
  {
   "cell_type": "code",
   "execution_count": 52,
   "metadata": {
    "collapsed": true
   },
   "outputs": [],
   "source": [
    "h5_file.close()\n",
    "# print('Is the file editable?: {}'.format(px.hdf_utils.is_editable_h5(h5_file)))"
   ]
  },
  {
   "cell_type": "markdown",
   "metadata": {},
   "source": [
    "Let us try again by opening this file in read-only mode:"
   ]
  },
  {
   "cell_type": "code",
   "execution_count": 53,
   "metadata": {},
   "outputs": [
    {
     "name": "stdout",
     "output_type": "stream",
     "text": [
      "Is the file editable?: False\n"
     ]
    }
   ],
   "source": [
    "# Open the file again in r mode:\n",
    "h5_file = h5py.File('test.h5', mode='r')\n",
    "print('Is the file editable?: {}'.format(px.hdf_utils.is_editable_h5(h5_file)))"
   ]
  },
  {
   "cell_type": "code",
   "execution_count": 54,
   "metadata": {
    "collapsed": true
   },
   "outputs": [],
   "source": [
    "h5_file.close()"
   ]
  },
  {
   "cell_type": "code",
   "execution_count": null,
   "metadata": {
    "collapsed": true
   },
   "outputs": [],
   "source": []
  }
 ],
 "metadata": {
  "anaconda-cloud": {},
  "kernelspec": {
   "display_name": "Python [default]",
   "language": "python",
   "name": "python3"
  },
  "language_info": {
   "codemirror_mode": {
    "name": "ipython",
    "version": 3
   },
   "file_extension": ".py",
   "mimetype": "text/x-python",
   "name": "python",
   "nbconvert_exporter": "python",
   "pygments_lexer": "ipython3",
   "version": "3.5.2"
  }
 },
 "nbformat": 4,
 "nbformat_minor": 1
}
