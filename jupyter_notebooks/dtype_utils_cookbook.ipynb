{
 "cells": [
  {
   "cell_type": "code",
   "execution_count": 1,
   "metadata": {},
   "outputs": [
    {
     "name": "stderr",
     "output_type": "stream",
     "text": [
      "//anaconda/lib/python3.5/site-packages/h5py/__init__.py:36: FutureWarning: Conversion of the second argument of issubdtype from `float` to `np.floating` is deprecated. In future, it will be treated as `np.float64 == np.dtype(float).type`.\n",
      "  from ._conv import register_converters as _register_converters\n"
     ]
    }
   ],
   "source": [
    "import sys\n",
    "sys.path.append('../../pycroscopy/')\n",
    "import pycroscopy as px\n",
    "import numpy as np"
   ]
  },
  {
   "cell_type": "code",
   "execution_count": 2,
   "metadata": {},
   "outputs": [
    {
     "data": {
      "text/plain": [
       "False"
      ]
     },
     "execution_count": 2,
     "metadata": {},
     "output_type": "execute_result"
    }
   ],
   "source": [
    "px.io_utils.check_ssh()"
   ]
  },
  {
   "cell_type": "code",
   "execution_count": 3,
   "metadata": {},
   "outputs": [
    {
     "data": {
      "text/plain": [
       "'2018_01_13-20_34_35'"
      ]
     },
     "execution_count": 3,
     "metadata": {},
     "output_type": "execute_result"
    }
   ],
   "source": [
    "px.io_utils.get_time_stamp()"
   ]
  },
  {
   "cell_type": "code",
   "execution_count": 4,
   "metadata": {},
   "outputs": [
    {
     "data": {
      "text/plain": [
       "7.464145660400391"
      ]
     },
     "execution_count": 4,
     "metadata": {},
     "output_type": "execute_result"
    }
   ],
   "source": [
    "px.io_utils.get_available_memory()/(1024**3)"
   ]
  },
  {
   "cell_type": "code",
   "execution_count": 5,
   "metadata": {},
   "outputs": [
    {
     "data": {
      "text/plain": [
       "3"
      ]
     },
     "execution_count": 5,
     "metadata": {},
     "output_type": "execute_result"
    }
   ],
   "source": [
    "px.io_utils.recommend_cpu_cores(1000, requested_cores=3, lengthy_computation=False)"
   ]
  },
  {
   "cell_type": "code",
   "execution_count": 6,
   "metadata": {},
   "outputs": [
    {
     "data": {
      "text/plain": [
       "1"
      ]
     },
     "execution_count": 6,
     "metadata": {},
     "output_type": "execute_result"
    }
   ],
   "source": [
    "px.io_utils.recommend_cpu_cores(5, requested_cores=3, lengthy_computation=False)"
   ]
  },
  {
   "cell_type": "code",
   "execution_count": 7,
   "metadata": {},
   "outputs": [
    {
     "data": {
      "text/plain": [
       "3"
      ]
     },
     "execution_count": 7,
     "metadata": {},
     "output_type": "execute_result"
    }
   ],
   "source": [
    "px.io_utils.recommend_cpu_cores(5, requested_cores=3, lengthy_computation=True)"
   ]
  },
  {
   "cell_type": "code",
   "execution_count": 10,
   "metadata": {},
   "outputs": [
    {
     "name": "stdout",
     "output_type": "stream",
     "text": [
      "[0.89410531+0.86786016j 0.38234165+0.30703404j 0.41421299+0.83045164j]\n"
     ]
    },
    {
     "data": {
      "text/plain": [
       "array([0.89410531, 0.38234165, 0.41421299, 0.86786016, 0.30703404,\n",
       "       0.83045164])"
      ]
     },
     "execution_count": 10,
     "metadata": {},
     "output_type": "execute_result"
    }
   ],
   "source": [
    "test = np.random.rand(3) + 1j*(np.random.rand(3))\n",
    "print(test)\n",
    "px.io_utils.complex_to_float(test)"
   ]
  },
  {
   "cell_type": "code",
   "execution_count": 13,
   "metadata": {},
   "outputs": [
    {
     "name": "stdout",
     "output_type": "stream",
     "text": [
      "[[0.64456319 0.72566938 0.2726904  0.71026383 0.13883276]\n",
      " [0.66229234 0.09473536 0.15640059 0.01308547 0.4596285 ]\n",
      " [0.31625451 0.77820136 0.20526171 0.83646334 0.87128052]]\n"
     ]
    },
    {
     "data": {
      "text/plain": [
       "array([(0.6445632 , 0.7256694 , 0.2726904 , 0.71026385, 0.13883276),\n",
       "       (0.66229236, 0.09473536, 0.15640059, 0.01308546, 0.4596285 ),\n",
       "       (0.3162545 , 0.77820134, 0.2052617 , 0.83646333, 0.8712805 )],\n",
       "      dtype=[('Amplitude [V]', '<f4'), ('Frequency [Hz]', '<f4'), ('Quality Factor', '<f4'), ('Phase [rad]', '<f4'), ('R2 Criterion', '<f4')])"
      ]
     },
     "execution_count": 13,
     "metadata": {},
     "output_type": "execute_result"
    }
   ],
   "source": [
    "field_names = ['Amplitude [V]', 'Frequency [Hz]', 'Quality Factor', 'Phase [rad]', 'R2 Criterion']\n",
    "sho32 = np.dtype({'names': field_names,\n",
    "                  'formats': [np.float32 for name in field_names]})\n",
    "\n",
    "test = np.random.rand(3, 5)\n",
    "print(test)\n",
    "comp_array = np.zeros(shape=(3), dtype=sho32)\n",
    "for ind, name in enumerate(field_names):\n",
    "    comp_array[name] = test[:, ind]\n",
    "comp_array"
   ]
  },
  {
   "cell_type": "code",
   "execution_count": 18,
   "metadata": {},
   "outputs": [
    {
     "name": "stdout",
     "output_type": "stream",
     "text": [
      "[[0.87047783 0.92668804 0.55813501 0.77277034 0.16650922]\n",
      " [0.26676649 0.98286069 0.48010953 0.97459925 0.31030535]\n",
      " [0.05966911 0.79285342 0.83370895 0.63145612 0.29228483]]\n"
     ]
    },
    {
     "data": {
      "text/plain": [
       "array([(0.87047786, '',  True, 0.77277034+0.j, 0),\n",
       "       (0.2667665 , '',  True, 0.97459925+0.j, 0),\n",
       "       (0.05966911, '',  True, 0.63145612+0.j, 0)],\n",
       "      dtype=[('Amplitude [V]', '<f4'), ('Frequency [Hz]', '<U'), ('Quality Factor', '?'), ('Phase [rad]', '<c16'), ('R2 Criterion', '<u8')])"
      ]
     },
     "execution_count": 18,
     "metadata": {},
     "output_type": "execute_result"
    }
   ],
   "source": [
    "field_names = ['Amplitude [V]', 'Frequency [Hz]', 'Quality Factor', 'Phase [rad]', 'R2 Criterion']\n",
    "sho32 = np.dtype({'names': field_names,\n",
    "                  'formats': [np.float32, np.str, bool, np.complex128, np.uint]})\n",
    "\n",
    "test = np.random.rand(3, 5)\n",
    "print(test)\n",
    "comp_array = np.zeros(shape=(3), dtype=sho32)\n",
    "for ind, name in enumerate(field_names):\n",
    "    comp_array[name] = test[:, ind]\n",
    "comp_array"
   ]
  },
  {
   "cell_type": "code",
   "execution_count": 29,
   "metadata": {},
   "outputs": [
    {
     "data": {
      "text/plain": [
       "dtype('float32')"
      ]
     },
     "execution_count": 29,
     "metadata": {},
     "output_type": "execute_result"
    }
   ],
   "source": [
    "sho32.fields['Amplitude [V]'][0]"
   ]
  },
  {
   "cell_type": "code",
   "execution_count": 38,
   "metadata": {},
   "outputs": [
    {
     "data": {
      "text/plain": [
       "mappingproxy({'Amplitude [V]': (dtype('float32'), 0),\n",
       "              'Frequency [Hz]': (dtype('<U'), 4),\n",
       "              'Phase [rad]': (dtype('complex128'), 5),\n",
       "              'Quality Factor': (dtype('bool'), 4),\n",
       "              'R2 Criterion': (dtype('uint64'), 21)})"
      ]
     },
     "execution_count": 38,
     "metadata": {},
     "output_type": "execute_result"
    }
   ],
   "source": [
    "sho32.fields"
   ]
  },
  {
   "cell_type": "code",
   "execution_count": null,
   "metadata": {
    "collapsed": true
   },
   "outputs": [],
   "source": []
  }
 ],
 "metadata": {
  "anaconda-cloud": {},
  "kernelspec": {
   "display_name": "Python [default]",
   "language": "python",
   "name": "python3"
  },
  "language_info": {
   "codemirror_mode": {
    "name": "ipython",
    "version": 3
   },
   "file_extension": ".py",
   "mimetype": "text/x-python",
   "name": "python",
   "nbconvert_exporter": "python",
   "pygments_lexer": "ipython3",
   "version": "3.5.2"
  }
 },
 "nbformat": 4,
 "nbformat_minor": 1
}
