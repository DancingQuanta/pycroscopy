{
 "cells": [
  {
   "cell_type": "markdown",
   "metadata": {},
   "source": [
    "# Tutorials for Developing Scientific Workflows in Pycroscopy - Part 2: Writing to pycroscopy H5 files\n",
    "\n",
    "#### Suhas Somnath\n",
    "8/8/2017\n",
    "\n",
    "This set of notebooks will serve as examples for developing end-to-end workflows for and using pycroscopy. \n",
    "\n",
    "While pycroscopy contains many popular data processing function, it may not have a function you need. Since pycroscopy is data-centric, it is preferable to write processing results back to the same file as well. \n",
    "\n",
    "__In this example, we will write the results of K-Means clustering (on a Scanning Tunnelling Spectroscopy (STS) dataset) back to the file.__\n",
    "\n",
    "K-Means clustering is a quick and simple method to determine the types of spectral responses present in the data and their spatial occurance."
   ]
  },
  {
   "cell_type": "markdown",
   "metadata": {},
   "source": [
    "## Introduction:\n",
    "\n",
    "### Data structuring and file format: \n",
    "\n",
    "__Before proceeding with this example, we highly recommend you read about the data formatting in pycroscopy as well as reading and writing to HDF5 files.__ We will summarize some key points below:\n",
    "\n",
    "* pycroscopy uses the __heirarchical data format (HDF5)__ files to store data\n",
    "* These HDF5 or H5 files contain datasets and datagroups\n",
    "* pycroscopy data files have two kinds of datasets:\n",
    "    * __`main`__ datasets: These must be of the form: `[instance, features]`. \n",
    "        * All imaging or measurement data satisfy this category, where positions form the instances and the spectral points form the features. Thus, even standard 2D images or a single spectra also satisfy this condition.\n",
    "        * A collection of `k` chosen spectra would still satisfy this condition. Some examples include:\n",
    "            * the cluster centers obtained from a clustering algorithm like `k-Means clustering`.\n",
    "            * The abundance maps obtained from decomposition algorithms like `Singular Value Decomposition (SVD)` or `Non-negetive matrix factorization (NMF)`\n",
    "    * __`ancillary`__ datasets: All other datasets fall into this category. These include the frequency vector or bias vector as a function of which the main dataset was collected.\n",
    "* pycroscopy stores all data in two dimensional matrices with all position dimensions collapsed to the first dimension and all other (spectroscopic) dimensions collapsed to the second dimension. \n",
    "* All these __`main`__ datasets are always accompanied by four ancillary datasets:\n",
    "    * Position Indices\n",
    "    * Position Values\n",
    "    * Spectroscopic Indices\n",
    "    * Spectroscopic Values\n",
    "* These ancillary datasets are always two dimensional.\n",
    "    * The Position datasets are NxM where N is the total number of positions and M is the number of position dimensions.\n",
    "    * The Spectroscopic datasets are MxN where M is the number of spectroscopic dimensions and N is the total number os specstroscopic steps.\n",
    "* All __`main`__ datasets always have two attributes that describe the measurement itself:\n",
    "    * `quantity`: The physical quantity contained in each cell of the dataset - such as voltage, current, force etc.\n",
    "    * `units`: The units for the physical quantity such as `V` for volts, `nA` for nano amperes, `pN` for pico newtons etc.\n",
    "* All __`main`__ datasets additionally have 4 attributes that provide the references or links to the 4 aforementions ancillary datasets\n",
    "    * Storing just the references allows us to re-use the same position / spectroscopic datasets without having to remake them\n",
    "* For more information see the data format documentation\n",
    "\n",
    "This bookkeeping is necesary for helping the code to understand the dimensionality and structure of the data. While these rules may seem tedious, there are several functions and a few classes that make these tasks much easier\n",
    "\n",
    "### Classes for writing files\n",
    "\n",
    "In order to deal with the numerous challenges in writing data in a consistent manner, especially during translation, in the pycroscopy format, we developed two main classes: __MicroData__ and __ioHDF5__. \n",
    "\n",
    "#### MicroData\n",
    "The abstract class MicroData is extended by __MicroDataset__ and __MicroDatagroup__ which are skeletal counterparts for the h5py.Dataset and h5py.Datagroup classes respectively. These classes allow programmers to quickly and simply set up the tree structure that needs to be written to H5 files without having to worry about the low-level HDF5 constructs or defensive programming strategies necessary for writing the H5 files. Besides facilitating the construction of a tree structure, each of the classes have a few features specific to pycroscopy to alleviate file writing. \n",
    "\n",
    "#### ioHDF5\n",
    "While we use __h5py__ to read from pycroscopy files, the ioHDF5 class is used to write data to H5 files. ioHDF5 translates the tree structure described by a MicroDataGroup object and writes the contents to H5 files in a standardized manner. As a wrapper around h5py, tt handles the low-level file I/O calls and includes defensive programming strategies to minimize issues with writing to H5 files. \n",
    "\n",
    "#### Why bother with Microdata and ioHDF5?\n",
    "* These classes simplify the process of writing to H5 files considerably. The programmer only needs to construct the tree structure with simple python objects such as dictionaries for parameters, numpy datasets for storing data, etc.\n",
    "* It is easy to corrupt H5 files. ioHDF5 uses defensive programming strategies to solve these problems.\n",
    "\n",
    "Translation can be challenging in many cases:\n",
    "* It may not be possible to read the entire data from the raw data file to memory as we did in the tutorial on Translation\n",
    "    * ioHDF5 allows the general tree structure and the attributes to be written before the data is populated. \n",
    "* Sometimes, the raw data files do not come with sufficient parameters that describe the size and shape of the data. This makes it challenging to prepare the H5 file.\n",
    "    * ioHDF5 allows dataets to be dataFile I/O is expensive and we don't want to read the same raw data files multiple times"
   ]
  },
  {
   "cell_type": "code",
   "execution_count": null,
   "metadata": {
    "collapsed": true
   },
   "outputs": [],
   "source": [
    "# downloading packages:\n",
    "!pip install -U wget numpy h5py matplotlib sklearn pycroscopy\n",
    "\n",
    "# Ensure python 3 compatibility:\n",
    "from __future__ import division, print_function, absolute_import, unicode_literals\n",
    "\n",
    "# In case some of these packages are not installed, install them\n",
    "#!pip install -U os wget numpy h5py matplotlib pycroscopy\n",
    "\n",
    "# The package for accessing files in directories, etc.:\n",
    "import os\n",
    "import wget\n",
    "\n",
    "# The mathematical computation package:\n",
    "import numpy as np\n",
    "\n",
    "# The package used for creating and manipulating HDF5 files:\n",
    "import h5py\n",
    "\n",
    "# Packages for plotting:\n",
    "import matplotlib.pyplot as plt\n",
    "\n",
    "# Package for performing k-Means clustering:\n",
    "from sklearn.cluster import KMeans\n",
    "\n",
    "# Finally import pycroscopy for certain scientific analysis:\n",
    "import pycroscopy as px\n",
    "from pycroscopy.io.translators.omicron_asc import AscTranslator\n",
    "\n",
    "# set up notebook to show plots within the notebook\n",
    "% matplotlib inline"
   ]
  },
  {
   "cell_type": "markdown",
   "metadata": {},
   "source": [
    "## Loading the dataset\n",
    "\n",
    "We wil start by downloading the raw data file as generated by the microscope and then translate the file to a pycroscopy H5 file. "
   ]
  },
  {
   "cell_type": "code",
   "execution_count": null,
   "metadata": {
    "collapsed": true
   },
   "outputs": [],
   "source": [
    "# download the raw data file from Github:\n",
    "data_file_path = 'temp.asc'\n",
    "url = 'https://raw.githubusercontent.com/pycroscopy/pycroscopy/master/data/STS.asc'\n",
    "if os.path.exists(data_file_path):\n",
    "    os.remove(data_file_path)\n",
    "_ = wget.download(url, data_file_path)\n",
    "\n",
    "# Translating from raw data to h5:\n",
    "tran = AscTranslator() \n",
    "h5_path = tran.translate(data_file_path)"
   ]
  },
  {
   "cell_type": "markdown",
   "metadata": {},
   "source": [
    "### Reading the H5 dataset\n",
    "\n",
    "This data is a Scanning Tunnelling Spectroscopy (STS) dataset wherein current was measured as a function of voltage on a two dimensional grid of points. Thus, the data has three dimensions (X, Y, Bias). Note, that in pycroscopy, all position dimensions are collapsed to the first dimension and all spectroscopic (only bias in this case) dimensions are collapsed to the second axis of a two dimensional matrix. So, the data is represented as (position, bias) instead. "
   ]
  },
  {
   "cell_type": "code",
   "execution_count": null,
   "metadata": {
    "collapsed": true
   },
   "outputs": [],
   "source": [
    "# opening the file:\n",
    "hdf = px.ioHDF5(h5_path)\n",
    "h5_file = hdf.file\n",
    "\n",
    "# Visualize the tree structure in the file\n",
    "print('Tree structure within the file:')\n",
    "px.hdf_utils.print_tree(h5_file)\n",
    "\n",
    "# Extracting some parameters that will be necessary later on:\n",
    "h5_meas_grp = h5_file['Measurement_000']\n",
    "num_cols = int(px.hdf_utils.get_attr(h5_meas_grp, 'x-pixels'))\n",
    "num_rows = int(px.hdf_utils.get_attr(h5_meas_grp, 'y-pixels'))\n",
    "\n",
    "# There are multiple ways of accessing the Raw_Data dataset. Here's one approach:\n",
    "h5_main = h5_meas_grp['Channel_000/Raw_Data']\n",
    "\n",
    "# Prepare the label for plots:\n",
    "y_label = px.hdf_utils.get_attr(h5_main, 'quantity') + ' [' + px.hdf_utils.get_attr(h5_main, 'units') + ']'\n",
    "\n",
    "# Get the voltage vector that this data was acquired as a function of:\n",
    "h5_spec_vals = px.hdf_utils.getAuxData(h5_main, 'Spectroscopic_Values')[0]\n",
    "volt_vec = np.squeeze(h5_spec_vals[()])\n",
    "\n",
    "# Get the descriptor for this \n",
    "x_label = px.hdf_utils.get_attr(h5_spec_vals, 'labels')[0] + ' [' + px.hdf_utils.get_attr(h5_spec_vals, 'units')[0] + ']'\n",
    "\n",
    "# Currently, the data is within the h5 dataset. We need to read this to memory:\n",
    "data_mat = h5_main[()]\n",
    "\n",
    "print('\\nData now loaded to memory and is of shape:', data_mat.shape)\n",
    "print('Data has', num_rows, 'rows and', num_cols, 'columns each having a', \n",
    "      data_mat.shape[1], 'long measurement of', y_label,'as a function of', x_label)"
   ]
  },
  {
   "cell_type": "markdown",
   "metadata": {},
   "source": [
    "## Performing k-Means Clustering:\n",
    "\n",
    "Now that the data is loaded to memory, we can perform k-Means clustering on data_mat. As a reminder, K-Means clustering is a quick and simple method to determine the types of spectral responses present in the data and their spatial occurance.\n",
    "\n",
    "Let us assume that we have a  `P x S` dataset with `P` positions each with spectra that are `S` long. When K-Means is asked to identify `k` clusters, it will produce two results:\n",
    "* cluster_centers: This contains the different kinds of spectral responses and is represented as a two dimensional array of the form [cluster number, representative spectra for this cluster]. Thus this dataset will have a shape of `k x S`\n",
    "* labels: This provides the information about which spatial pixel belongs to which group. It will be a 1 dimensional array of size `P` wherein the value for each element in the array (cluster id for each pixel) will be within `[0, k)`\n",
    "\n",
    "__Our goal is to write back these two datasets to the H5 file__"
   ]
  },
  {
   "cell_type": "code",
   "execution_count": null,
   "metadata": {
    "collapsed": true
   },
   "outputs": [],
   "source": [
    "num_clusters = 9\n",
    "\n",
    "# Now, we can perform k-Means clustering:\n",
    "estimators = KMeans(num_clusters)\n",
    "results = estimators.fit(data_mat)\n",
    "\n",
    "print('K-Means Clustering performed on the dataset of shape', data_mat.shape, \n",
    "      'resulted in a cluster centers matrix of shape', results.cluster_centers_.shape,\n",
    "      'and a labels array of shape', results.labels_.shape)\n",
    "\n",
    "\"\"\"\n",
    "By default, the clusters identified by K-Means are NOT arranged according to their relative \n",
    "distances to each other. Visualizing and interpreting this data is challenging. We will sort the \n",
    "results using a handy function already in pycroscopy:\n",
    "\"\"\"\n",
    "labels, centroids = px.processing.cluster.reorder_clusters(results.labels_, results.cluster_centers_)"
   ]
  },
  {
   "cell_type": "markdown",
   "metadata": {},
   "source": [
    "## Visualize the results:\n",
    "\n",
    "We will visualize both the raw results from k-Means as well as the distance-sorted results from pycroscopy. You will notice that the sorted results are easier to understand and interpret. This is an example of the kind of additional value that can be packed into pycroscopy wrappers on existing data analysis / processing functions. \n",
    "\n",
    "A second example of value addition - The pycroscopy wrapper for Clustering handles real, complex, and compound valued datasets seamlessly in the background. "
   ]
  },
  {
   "cell_type": "code",
   "execution_count": null,
   "metadata": {
    "collapsed": true
   },
   "outputs": [],
   "source": [
    "px.plot_utils.plot_cluster_results_together(np.reshape(results.labels_, (num_rows, num_cols)), \n",
    "                                            results.cluster_centers_, spec_val=volt_vec, cmap=plt.cm.inferno, \n",
    "                                            spec_label=x_label, resp_label=y_label);\n",
    "\n",
    "px.plot_utils.plot_cluster_results_together(np.reshape(labels, (num_rows, num_cols)), \n",
    "                                            centroids, spec_val=volt_vec, cmap=plt.cm.inferno, \n",
    "                                            spec_label=x_label, resp_label=y_label);"
   ]
  },
  {
   "cell_type": "markdown",
   "metadata": {},
   "source": [
    "## Preparing to write results\n",
    "\n",
    "The two datasets we need to write back to the H5 file are the `centroids` and `labels` matrices. Both the `centroids` and `labels` matrices satisfy the condition to be elevated to the status of __`main`__ datasets. However, in order to be recognized as __`main`__ datasets, they need the four ancillary datasets to go along with them. Recall that the main datasets only need to store references to the ancillary datasets and that we do not need to store copies of the same ancillary datasets if multiple main datasets use them. \n",
    "\n",
    "Here, we will refer to the dataset on which K-means was performed as the __`source`__ dataset.\n",
    "\n",
    "### Identifying the ancillary datasets:\n",
    "* `centroids`: \n",
    "    * Spectroscopic Indices and Values: Since the `source` dataset and the `centroids` datasets both contain the same spectral information, the `centroids` dataset can simply reuse the ancillary spectroscopic datasets used by the `source` dataset.\n",
    "    * Position Indices and Values: The `centroids` dataset has `k` instances while the `source` dataset has `P`, so we need to create a new position indicies and a new position values dataset for `centroids`\n",
    "* `labels`: \n",
    "    * Spectroscopic Indices and Values: Unlike the `source` dataset that has spectra of length `S`, this dataset only has a single value (cluster index) at each location. Consequently, `labels` needs two new ancilary datasets\n",
    "    * Position Indices and Values: Since both `source` and `labels` have the same number of positions and the positions mean the same quantities for both datasets, we can simply reuse the ancillary dataset from `source` for `labels`\n",
    "    \n",
    "## Preparing the missing ancillary arrays"
   ]
  },
  {
   "cell_type": "code",
   "execution_count": null,
   "metadata": {
    "collapsed": true
   },
   "outputs": [],
   "source": [
    "labels_spec_mat = np.arange(1, dtype=np.uint32)\n",
    "centroids_pos_mat = np.arange(num_clusters, dtype=np.uint32)\n",
    "\n",
    "print('Spectroscopic Dataset for Labels', labels_spec_mat.shape)\n",
    "print('Position Dataset for Centroids', centroids_pos_mat.shape)\n",
    "print('Centroids',centroids.shape)\n",
    "print('Labels', labels.shape)"
   ]
  },
  {
   "cell_type": "markdown",
   "metadata": {},
   "source": [
    "## Reshape the matricies to the correct dimensions\n",
    "\n",
    "1. Since `labels` is a main dataset, it needs to be two dimensional matrix of size `P x 1`\n",
    "2. The `Spectroscopic` ancillary datasets for `labels` need to be of the form `dimension x points`. Since the spectroscopic axis of `labels` is only one deep, `labels` has only one spectroscopic dimension which itself has just one point. Thus the `Spectroscopic` matrix should be of size `1 x 1`\n",
    "3. The `centroids` matrix is already of the form: `position x spectra`, so it does not need any reshaping\n",
    "4. The `Position` ancillary datasets for `centroids` need to be of the form `points x dimensions` as well. In this case, `centroids` has `k` positions all in one dimension. Thus the matrix needs to be reshaped to `k x 1`"
   ]
  },
  {
   "cell_type": "code",
   "execution_count": null,
   "metadata": {
    "collapsed": true
   },
   "outputs": [],
   "source": [
    "labels_spec_mat = np.atleast_2d(labels_spec_mat)\n",
    "centroids_pos_mat = np.atleast_2d(centroids_pos_mat).T\n",
    "labels_mat = np.uint32(labels.reshape([-1, 1]))\n",
    "\n",
    "print('Spectroscopic Dataset for Labels', labels_spec_mat.shape)\n",
    "print('Position Dataset for Centroids', centroids_pos_mat.shape)\n",
    "print('Centroids',centroids.shape)\n",
    "print('Labels', labels_mat.shape)"
   ]
  },
  {
   "cell_type": "markdown",
   "metadata": {},
   "source": [
    "## Create the Main MicroDataset objects\n",
    "Remember that it is important to either inherit or add the `quantity` and `units` attributes to each __main__ dataset"
   ]
  },
  {
   "cell_type": "code",
   "execution_count": null,
   "metadata": {
    "collapsed": true
   },
   "outputs": [],
   "source": [
    "# The two main datasets\n",
    "ds_label_mat = px.MicroDataset('Labels', labels_mat, dtype=np.uint32)\n",
    "# Adding the mandatory attributes\n",
    "ds_label_mat.attrs = {'quantity': 'Cluster ID', 'units': 'a. u.'}\n",
    "\n",
    "ds_cluster_centroids = px.MicroDataset('Mean_Response', centroids, dtype=h5_main.dtype)\n",
    "# Inhereting / copying the mandatory attributes\n",
    "px.hdf_utils.copy_main_attributes(h5_main, ds_cluster_centroids)"
   ]
  },
  {
   "cell_type": "markdown",
   "metadata": {},
   "source": [
    "## Create the ancillary MicroDataset objects"
   ]
  },
  {
   "cell_type": "code",
   "execution_count": null,
   "metadata": {
    "collapsed": true
   },
   "outputs": [],
   "source": [
    "# Ancillary datasets\n",
    "ds_cluster_inds = px.MicroDataset('Cluster_Indices', centroids_pos_mat, dtype=np.uint32)\n",
    "ds_cluster_vals = px.MicroDataset('Cluster_Values', centroids_pos_mat, dtype=np.float32)\n",
    "ds_label_inds = px.MicroDataset('Label_Spectroscopic_Indices', labels_spec_mat, dtype=np.uint32)\n",
    "ds_label_vals = px.MicroDataset('Label_Spectroscopic_Values', labels_spec_mat, dtype=np.float32)\n",
    "\n",
    "# Creating region references:\n",
    "clust_slices = {'Cluster': (slice(None), slice(0, 1))}\n",
    "ds_cluster_inds.attrs['labels'] = clust_slices\n",
    "ds_cluster_inds.attrs['units'] = ['']\n",
    "ds_cluster_vals.attrs['labels'] = clust_slices\n",
    "ds_cluster_vals.attrs['units'] = ['']"
   ]
  },
  {
   "cell_type": "markdown",
   "metadata": {},
   "source": [
    "## Create the group that will contain these datasets\n",
    "We will be appending data to the existing h5 file and since HDF5 uses a tree structure to store information, we would need to specify where to add the sub-tree that we are building.\n",
    "\n",
    "Recall that the name of the DataGroup provides information of the operation that has been performed on the `source` dataset. Therefore, we need to be careful about naming the group. \n",
    "\n",
    "It is also important to add relevant information about the operation. For example, the name of our operation is `Cluster` analogous to the `SkLearn` package organization. Thus, the name of the algorithm - `k-Means` needs to be written as an attribute of the group as well.\n",
    "\n",
    "Occasionaly, the same operation may be performed multiple times on the same dataset with different parameters. In the case of K-means it may be the number of clusters. pycroscopy allows all these results to be stored instead of being overwritten by appending an index number to the end of the group name. Thus, one could have a tree that contains the following groups:\n",
    "* Raw_Data-Cluster_000 <--- K-means with 9 clusters\n",
    "* Raw_Data-Cluster_001 <--- Agglomerative clustering\n",
    "* Raw_Data-Cluster_002 <--- K-means again with 4 clusters\n",
    "\n",
    "Leaving a '_' at the end of the group name will instruct ioHDF5 to look for the last instance of the same operation being performed on the same dataset. The index will then be updated accordingly"
   ]
  },
  {
   "cell_type": "code",
   "execution_count": null,
   "metadata": {
    "collapsed": true
   },
   "outputs": [],
   "source": [
    "source_dset_name = h5_main.name.split('/')[-1]\n",
    "operation_name = 'Cluster'\n",
    "\n",
    "subtree_root_path = h5_main.parent.name[1:]\n",
    "\n",
    "cluster_grp = px.MicroDataGroup(source_dset_name + '-' + operation_name +'_', \n",
    "                             subtree_root_path)\n",
    "print('New group to be created with name:', cluster_grp.name)\n",
    "print('This group (subtree) will be appended to the H5 file under the group:', subtree_root_path)\n",
    "\n",
    "# Making a tree structure by adding the MicroDataset objects as children of this group\n",
    "cluster_grp.addChildren([ds_label_mat, ds_cluster_centroids, ds_cluster_inds, ds_cluster_vals, ds_label_inds,\n",
    "                         ds_label_vals])\n",
    "\n",
    "print('\\nWill write the following tree:')\n",
    "cluster_grp.showTree()\n",
    "\n",
    "cluster_grp.attrs['num_clusters'] = num_clusters\n",
    "cluster_grp.attrs['num_samples'] = h5_main.shape[0]\n",
    "cluster_grp.attrs['cluster_algorithm'] = 'KMeans'\n",
    "\n",
    "# Get the parameters of the KMeans object that was used and write them as attributes of the group\n",
    "for parm in estimators.get_params().keys():\n",
    "    cluster_grp.attrs[parm] = estimators.get_params()[parm]\n",
    "    \n",
    "print('\\nWriting the following attrbutes to the group:')\n",
    "for at_name in cluster_grp.attrs:\n",
    "    print(at_name,':',cluster_grp.attrs[at_name])"
   ]
  },
  {
   "cell_type": "markdown",
   "metadata": {},
   "source": [
    "## Write to H5 and access the written objects\n",
    "\n",
    "Once the tree is prepared (previous cell), ioHDF5 will handle all the file writing."
   ]
  },
  {
   "cell_type": "code",
   "execution_count": null,
   "metadata": {
    "collapsed": true
   },
   "outputs": [],
   "source": [
    "h5_clust_refs = hdf.writeData(cluster_grp)\n",
    "\n",
    "h5_labels = px.hdf_utils.getH5DsetRefs(['Labels'], h5_clust_refs)[0]\n",
    "h5_centroids = px.hdf_utils.getH5DsetRefs(['Mean_Response'], h5_clust_refs)[0]\n",
    "h5_clust_inds = px.hdf_utils.getH5DsetRefs(['Cluster_Indices'], h5_clust_refs)[0]\n",
    "h5_clust_vals = px.hdf_utils.getH5DsetRefs(['Cluster_Values'], h5_clust_refs)[0]\n",
    "h5_label_inds = px.hdf_utils.getH5DsetRefs(['Label_Spectroscopic_Indices'], h5_clust_refs)[0]\n",
    "h5_label_vals = px.hdf_utils.getH5DsetRefs(['Label_Spectroscopic_Values'], h5_clust_refs)[0]"
   ]
  },
  {
   "cell_type": "markdown",
   "metadata": {},
   "source": [
    "## Look at the H5 file contents now \n",
    "Compare this tree with the one printed earlier. The new group and datasets should be apparent"
   ]
  },
  {
   "cell_type": "code",
   "execution_count": null,
   "metadata": {
    "collapsed": true
   },
   "outputs": [],
   "source": [
    "px.hdf_utils.print_tree(h5_file)"
   ]
  },
  {
   "cell_type": "markdown",
   "metadata": {},
   "source": [
    "## Make `centroids` and `labels` -> `main` datasets\n",
    "We elevate the status of these datasets by linking them to the four ancillary datasets. This part is also made rather easy by a few pycroscopy functions. "
   ]
  },
  {
   "cell_type": "code",
   "execution_count": null,
   "metadata": {
    "collapsed": true
   },
   "outputs": [],
   "source": [
    "# we already got the reference to the spectroscopic values in the first few cells\n",
    "h5_spec_inds = px.hdf_utils.getAuxData(h5_main, 'Spectroscopic_Indices')[0]\n",
    "\n",
    "px.hdf_utils.checkAndLinkAncillary(h5_labels,\n",
    "                      ['Position_Indices', 'Position_Values'],\n",
    "                      h5_main=h5_main)\n",
    "px.hdf_utils.checkAndLinkAncillary(h5_labels,\n",
    "                      ['Spectroscopic_Indices', 'Spectroscopic_Values'],\n",
    "                      anc_refs=[h5_label_inds, h5_label_vals])\n",
    "\n",
    "px.hdf_utils.checkAndLinkAncillary(h5_centroids,\n",
    "                      ['Spectroscopic_Indices', 'Spectroscopic_Values'],\n",
    "                      anc_refs=[h5_spec_inds, h5_spec_vals])\n",
    "\n",
    "px.hdf_utils.checkAndLinkAncillary(h5_centroids,\n",
    "                      ['Position_Indices', 'Position_Values'],\n",
    "                      anc_refs=[h5_clust_inds, h5_clust_vals])"
   ]
  },
  {
   "cell_type": "markdown",
   "metadata": {},
   "source": [
    "## Why bother with all this?\n",
    "* Though long, this simple file writing procedure needs to be written once for a given data analysis / processing tool\n",
    "* The general nature of this Clustering algorithm facilitates the application to several other datasets regardless of their origin \n",
    "* Once the data is written in the pycroscopy format, it is possible to apply other data analytics operations to the datasets with a single line\n",
    "* Generalized versions of visualization algorithms can be written to visualize clustering results quickly.\n",
    "    \n",
    "Here is an example of very quick visualization with effectively just a single parameter - the group containing clustering results. The ancillary datasets linked to `labels` and `centroids` instructed the code about the spatial and spectroscopic dimensionality and enabled it to automatically render the plots below"
   ]
  },
  {
   "cell_type": "code",
   "execution_count": null,
   "metadata": {
    "collapsed": true
   },
   "outputs": [],
   "source": [
    "px.plot_utils.plot_cluster_h5_group(h5_labels.parent, '');"
   ]
  },
  {
   "cell_type": "markdown",
   "metadata": {},
   "source": [
    "## Cleanup\n",
    "Deletes the temporary files created in the example"
   ]
  },
  {
   "cell_type": "code",
   "execution_count": null,
   "metadata": {
    "collapsed": true
   },
   "outputs": [],
   "source": [
    "os.remove(data_file_path)\n",
    "hdf.close()\n",
    "os.remove(h5_path)"
   ]
  },
  {
   "cell_type": "code",
   "execution_count": null,
   "metadata": {
    "collapsed": true
   },
   "outputs": [],
   "source": []
  }
 ],
 "metadata": {
  "anaconda-cloud": {},
  "kernelspec": {
   "display_name": "Python 3",
   "language": "python",
   "name": "python3"
  },
  "language_info": {
   "codemirror_mode": {
    "name": "ipython",
    "version": 3
   },
   "file_extension": ".py",
   "mimetype": "text/x-python",
   "name": "python",
   "nbconvert_exporter": "python",
   "pygments_lexer": "ipython3",
   "version": "3.5.2"
  }
 },
 "nbformat": 4,
 "nbformat_minor": 2
}
