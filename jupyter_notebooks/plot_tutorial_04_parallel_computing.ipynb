{
 "cells": [
  {
   "cell_type": "code",
   "execution_count": 1,
   "metadata": {
    "collapsed": true
   },
   "outputs": [],
   "source": [
    "%matplotlib inline"
   ]
  },
  {
   "cell_type": "markdown",
   "metadata": {},
   "source": [
    "Parallel Computing\n",
    "==============\n",
    "\n",
    "**Suhas Somnath, Chris R. Smith**\n",
    "\n",
    "9/8/2017\n",
    "\n",
    "Introduction\n",
    "-------------\n",
    "Quite often, we need to perform the same operation on every single component in our data. One of the most popular\n",
    "examples is functional fitting applied to spectra collected at each location on a grid. While, the operation itself\n",
    "may not take very long, computing this operation thousands of times, once per location, using a single CPU core can\n",
    "take a long time to complete. Most personal computers today come with at least two cores, and in many cases, each of\n",
    "these cores is represented via two logical cores, thereby summing to a total of at least four cores. Thus, it is\n",
    "prudent to make use of these unused cores whenever possible. Fortunately, there are a few python packages that\n",
    "facilitate the efficient use of all CPU cores with minimal modifications to the existing code.\n",
    "\n",
    "**pycroscopy.parallel_compute()** simplifies parallel computing by ensuring that appropriate number of CPU cores are used for the requested computation.\n",
    "\n",
    "Example scientific problem\n",
    "---------------------------\n",
    "For this example, we will be working with a Band Excitation Piezoresponse Force Microscopy (BE-PFM) imaging dataset\n",
    "acquired from advanced atomic force microscopes. In this dataset, a spectra was collected for each position in a two\n",
    "dimensional grid of spatial locations. Thus, this is a three dimensional dataset that has been flattened to a two\n",
    "dimensional matrix in accordance with the pycroscopy data format.\n",
    "\n",
    "Each spectra in this dataset is expected to have a single peak. The goal is to find the positions of the peaks in each spectra. Clearly, the operation of finding the peak in one spectra is independent of the same operation on another spectra. Thus, we could in theory divide the dataset in to N parts and use N CPU cores to compute the results much faster than it would take a single core to compute the results. There is an important caveat to this statement and it will be discussed at the end of this document. \n",
    "\n",
    "**Here, we will learn how to fit the thousands of spectra using all available cores on a computer.** \n",
    "Note, that this is applicable only for a single CPU. Please refer to another advanced example for multi-CPU computing."
   ]
  },
  {
   "cell_type": "code",
   "execution_count": 2,
   "metadata": {},
   "outputs": [
    {
     "name": "stderr",
     "output_type": "stream",
     "text": [
      "//anaconda/lib/python3.5/site-packages/h5py/__init__.py:36: FutureWarning: Conversion of the second argument of issubdtype from `float` to `np.floating` is deprecated. In future, it will be treated as `np.float64 == np.dtype(float).type`.\n",
      "  from ._conv import register_converters as _register_converters\n",
      "/Users/syz/PycharmProjects/pycroscopy/pycroscopy/__init__.py:25: UserWarning: You are using the unity_dev branch, which is aimed at a 1.0 release for pycroscopy. Be advised - this branch changes very significantly and frequently. Use the master or dev branches for regular purposes.\n",
      "  warn('You are using the unity_dev branch, which is aimed at a 1.0 release for pycroscopy. '\n"
     ]
    }
   ],
   "source": [
    "# Ensure python 3 compatibility:\n",
    "from __future__ import division, print_function, absolute_import, unicode_literals\n",
    "\n",
    "# The package for accessing files in directories, etc.:\n",
    "import os\n",
    "\n",
    "# Warning package in case something goes wrong\n",
    "from warnings import warn\n",
    "\n",
    "# Package for downloading online files:\n",
    "try:\n",
    "    # This package is not part of anaconda and may need to be installed.\n",
    "    import wget\n",
    "except ImportError:\n",
    "    warn('wget not found.  Will install with pip.')\n",
    "    import pip\n",
    "    pip.main(['install', 'wget'])\n",
    "    import wget\n",
    "\n",
    "# The mathematical computation package:\n",
    "import numpy as np\n",
    "\n",
    "# The package used for creating and manipulating HDF5 files:\n",
    "import h5py\n",
    "\n",
    "# Packages for plotting:\n",
    "import matplotlib.pyplot as plt\n",
    "\n",
    "# Parallel computation library:\n",
    "try:\n",
    "    import joblib\n",
    "except ImportError:\n",
    "    warn('joblib not found.  Will install with pip.')\n",
    "    import pip\n",
    "    pip.main(['install', 'joblib'])\n",
    "    import joblib\n",
    "\n",
    "# Timing\n",
    "import time\n",
    "\n",
    "# A handy python utility that allows us to preconfigure parts of a function\n",
    "from functools import partial\n",
    "\n",
    "# Function for reading the number of CPU cores on this computer:\n",
    "from multiprocessing import cpu_count\n",
    "\n",
    "# Finally import pycroscopy for certain scientific analysis:\n",
    "if True:\n",
    "    import sys\n",
    "    sys.path.append(os.path.split(os.path.abspath('.'))[0])\n",
    "    import pycroscopy as px\n",
    "else:\n",
    "    try:\n",
    "        import pycroscopy as px\n",
    "    except ImportError:\n",
    "        warn('pycroscopy not found.  Will install with pip.')\n",
    "        import pip\n",
    "        pip.main(['install', 'pycroscopy'])\n",
    "        import pycroscopy as px"
   ]
  },
  {
   "cell_type": "markdown",
   "metadata": {},
   "source": [
    "Load the dataset\n",
    "--------------------\n",
    "In order to demonstrate parallel computing, we will be using a real experimental dataset that is available on the pycroscopy GitHub project. First, lets download this file from Github:"
   ]
  },
  {
   "cell_type": "code",
   "execution_count": 3,
   "metadata": {
    "collapsed": true
   },
   "outputs": [],
   "source": [
    "# download the raw data file from Github:\n",
    "h5_path = 'temp.h5'\n",
    "url = 'https://raw.githubusercontent.com/pycroscopy/pycroscopy/master/data/BELine_0004.h5'\n",
    "if os.path.exists(h5_path):\n",
    "    os.remove(h5_path)\n",
    "_ = wget.download(url, h5_path)"
   ]
  },
  {
   "cell_type": "markdown",
   "metadata": {},
   "source": [
    "Now, lets open this HDF5 file and see its contents:"
   ]
  },
  {
   "cell_type": "code",
   "execution_count": 4,
   "metadata": {},
   "outputs": [
    {
     "name": "stdout",
     "output_type": "stream",
     "text": [
      "/\n",
      "├ Measurement_000\n",
      "  ---------------\n",
      "  ├ Channel_000\n",
      "    -----------\n",
      "    ├ Bin_FFT\n",
      "    ├ Bin_Frequencies\n",
      "    ├ Bin_Indices\n",
      "    ├ Bin_Step\n",
      "    ├ Bin_Wfm_Type\n",
      "    ├ Excitation_Waveform\n",
      "    ├ Noise_Floor\n",
      "    ├ Position_Indices\n",
      "    ├ Position_Values\n",
      "    ├ Raw_Data\n",
      "    ├ Spatially_Averaged_Plot_Group_000\n",
      "      ---------------------------------\n",
      "      ├ Bin_Frequencies\n",
      "      ├ Mean_Spectrogram\n",
      "      ├ Spectroscopic_Parameter\n",
      "      ├ Step_Averaged_Response\n",
      "    ├ Spectroscopic_Indices\n",
      "    ├ Spectroscopic_Values\n",
      "    ├ UDVS\n",
      "    ├ UDVS_Indices\n"
     ]
    }
   ],
   "source": [
    "# Open the file in read-only mode\n",
    "h5_file = h5py.File(h5_path, mode='r')\n",
    "px.hdf_utils.print_tree(h5_file)"
   ]
  },
  {
   "cell_type": "markdown",
   "metadata": {},
   "source": [
    "The focus of this example is not on the data storage or arrangement but rather on demonstrating parallel computation so lets dive straight into the main dataset that requires fitting of the spectra:"
   ]
  },
  {
   "cell_type": "code",
   "execution_count": 5,
   "metadata": {},
   "outputs": [
    {
     "name": "stdout",
     "output_type": "stream",
     "text": [
      "\n",
      "The main dataset:\n",
      "------------------------------------\n",
      "<HDF5 dataset \"Raw_Data\": shape (16384, 119), type \"<c8\">\n",
      "located at: \n",
      "/Measurement_000/Channel_000/Raw_Data \n",
      "Data contains: \n",
      "[''] (['a']) \n",
      "Data dimensions and original shape: \n",
      "Position Dimensions: \n",
      "X - size: 128 \n",
      "Y - size: 128 \n",
      "Spectroscopic Dimensions: \n",
      "Frequency - size: 119\n"
     ]
    }
   ],
   "source": [
    "# Get handles to the the raw data along with other datasets and datagroups that contain necessary parameters\n",
    "h5_meas_grp = h5_file['Measurement_000']\n",
    "\n",
    "# Accessing the dataset of interest:\n",
    "h5_main = px.PycroDataset(h5_meas_grp['Channel_000/Raw_Data'])\n",
    "print('\\nThe main dataset:\\n------------------------------------')\n",
    "print(h5_main)\n",
    "\n",
    "num_rows, num_cols = h5_main.pos_dim_sizes"
   ]
  },
  {
   "cell_type": "markdown",
   "metadata": {},
   "source": [
    "The operation\n",
    "-------------\n",
    "Pycroscopy already has a function called wavelet_peaks() that facilitates the seach for one or more peaks in a spectra located in pycroscopy.analysis.guess_methods. For the purposes of this example, we do not be concerned with how this function works. All we need to know is that this function takes 3 inputs:\n",
    "* **vector** - a 1D array containing the spectra at a single location\n",
    "* **peak_widths** - something like [20, 50] that instructs the function to look for peaks that are 20-50 units wide. The function will look for a peak with width of 20, then again for a peak of width - 21 and so on.\n",
    "* **peak_step** - The number of steps within the possiple widths [20, 50], that the search must be performed\n",
    "\n",
    "The function has one output:\n",
    "* **peak_indices** - an array of the positions at which peaks were found. \n",
    "\n",
    ".. code-block:: python\n",
    "\n",
    "    @staticmethod\n",
    "    def wavelet_peaks(vector, *args, **kwargs):\n",
    "        \"\"\"\n",
    "        This is the function that will be mapped by multiprocess. This is a wrapper around the scipy function.\n",
    "        It uses a parameter - wavelet_widths that is configured outside this function.\n",
    "\n",
    "        Parameters\n",
    "        ----------\n",
    "        vector : 1D numpy array\n",
    "            Feature vector containing peaks\n",
    "\n",
    "        Returns\n",
    "        -------\n",
    "        peak_indices : list\n",
    "            List of indices of peaks within the prescribed peak widths\n",
    "        \"\"\"\n",
    "        try:\n",
    "            peak_width_bounds = kwargs.get('peak_widths')\n",
    "            kwargs.pop('peak_widths')\n",
    "            peak_width_step = kwargs.get('peak_step', 20)\n",
    "            kwargs.pop('peak_step')\n",
    "            # The below numpy array is used to configure the returned function wpeaks\n",
    "            wavelet_widths = np.linspace(peak_width_bounds[0], peak_width_bounds[1], peak_width_step)\n",
    "\n",
    "            peak_indices = find_peaks_cwt(np.abs(vector), wavelet_widths, **kwargs)\n",
    "\n",
    "            return peak_indices\n",
    "\n",
    "        except KeyError:\n",
    "            warn('Error: Please specify \"peak_widths\" kwarg to use this method')\n",
    "            \n",
    "For simplicity, lets get a shortcut to this function:"
   ]
  },
  {
   "cell_type": "code",
   "execution_count": 6,
   "metadata": {
    "collapsed": true
   },
   "outputs": [],
   "source": [
    "wavelet_peaks = px.analysis.guess_methods.GuessMethods.wavelet_peaks"
   ]
  },
  {
   "cell_type": "markdown",
   "metadata": {},
   "source": [
    "Testing the function\n",
    "-------------------\n",
    "Let’s see what the operation on an example spectra returns. "
   ]
  },
  {
   "cell_type": "code",
   "execution_count": 8,
   "metadata": {},
   "outputs": [
    {
     "data": {
      "text/plain": [
       "Text(0.5,1,'wavelet_peaks found peaks at index: [62]')"
      ]
     },
     "execution_count": 8,
     "metadata": {},
     "output_type": "execute_result"
    },
    {
     "data": {
      "image/png": "[encoded data removed]",
      "text/plain": [
       "<Figure size 432x288 with 1 Axes>"
      ]
     },
     "metadata": {},
     "output_type": "display_data"
    }
   ],
   "source": [
    "row_ind, col_ind = 103, 19\n",
    "pixel_ind = col_ind + row_ind * num_cols\n",
    "spectra = h5_main[pixel_ind]\n",
    "\n",
    "peak_inds = wavelet_peaks(spectra, peak_widths=[20, 60], peak_step=30)\n",
    "\n",
    "fig, axis = plt.subplots()\n",
    "axis.scatter(np.arange(len(spectra)), np.abs(spectra), c='black')\n",
    "axis.axvline(peak_inds[0], color='r', linewidth=2)\n",
    "axis.set_ylim([0, 1.1 * np.max(np.abs(spectra))]);\n",
    "axis.set_title('wavelet_peaks found peaks at index: {}'.format(peak_inds), fontsize=16)"
   ]
  },
  {
   "cell_type": "markdown",
   "metadata": {},
   "source": [
    "Before we apply the function to the entire dataset, lets load the dataset to memory so that file-loading time is not a factor when comparing the times for serial and parallel computing times:"
   ]
  },
  {
   "cell_type": "code",
   "execution_count": 9,
   "metadata": {
    "collapsed": true
   },
   "outputs": [],
   "source": [
    "raw_data = h5_main[()]"
   ]
  },
  {
   "cell_type": "markdown",
   "metadata": {},
   "source": [
    "Serial computing\n",
    "----------------\n",
    "A single call to the function does not take substantial time. However, performing the same operation on each of the 16,384 pixels sequentially can take substantial time. The simplest way to find all peak positions is to simply loop over each position in the dataset:"
   ]
  },
  {
   "cell_type": "code",
   "execution_count": 10,
   "metadata": {},
   "outputs": [
    {
     "name": "stdout",
     "output_type": "stream",
     "text": [
      "Serial computation took 65.11  seconds\n"
     ]
    }
   ],
   "source": [
    "serial_results = list()\n",
    "\n",
    "t_0 = time.time()\n",
    "for ind, vector in enumerate(raw_data):\n",
    "    serial_results.append(wavelet_peaks(vector, peak_widths=[20, 60], peak_step=30))\n",
    "print('Serial computation took', np.round(time.time()-t_0, 2), ' seconds')"
   ]
  },
  {
   "cell_type": "markdown",
   "metadata": {},
   "source": [
    "Parallel Computation\n",
    "-------------------\n",
    "\n",
    "There are several libraries that can utilize multiple CPU cores to perform the same computation in parallel. Popular\n",
    "examples are **Multiprocessing**, **Mutiprocess**, **Dask**, **Joblib** etc. Each of these has their own\n",
    "strengths and weaknesses. An installation of **Anaconda** comes with **Multiprocessing** by default and could be\n",
    "the example of choice. However, in our experience we found **Joblib** to offer the best balance of efficiency,\n",
    "simplicity, portabiity, and ease of installation.\n",
    "\n",
    "For illustrative purposes, we will only be demonstrating how the above serial computation can be made parallel using\n",
    "**Joblib**. We only need two lines to perform the parallel computation. The first line sets up the computational\n",
    "jobs while the second performs the computation.\n",
    "\n",
    "Note that the first argument to the function **MUST** be the data vector itself. The other arguments (parameters),\n",
    "such as the frequency vector in this case, must come after the data argument. This approach allows the specification\n",
    "of both required arguments and optional (keyword) arguments.\n",
    "\n",
    "Parallel computing has been made more accessible via the **parallel_compute()** function in **pycroscopy.process**. The below parallel computation is reduced to a **single line** with this function."
   ]
  },
  {
   "cell_type": "code",
   "execution_count": 11,
   "metadata": {},
   "outputs": [
    {
     "name": "stdout",
     "output_type": "stream",
     "text": [
      "Parallel computation took 37.38  seconds\n"
     ]
    }
   ],
   "source": [
    "cpu_cores = 2\n",
    "kwargs = {'peak_widths': [20, 60], 'peak_step': 30}\n",
    "\n",
    "t_0 = time.time()\n",
    "\n",
    "# Set up the parallel computation using joblib.delayed\n",
    "values = [joblib.delayed(wavelet_peaks)(x, **kwargs) for x in raw_data]\n",
    "# Execute the parallel computation\n",
    "parallel_results = joblib.Parallel(n_jobs=cpu_cores)(values)\n",
    "\n",
    "print('Parallel computation took', np.round(time.time()-t_0, 2), ' seconds')"
   ]
  },
  {
   "cell_type": "markdown",
   "metadata": {},
   "source": [
    "Compare the results\n",
    "-------------------\n",
    "\n",
    "By comparing the run-times for the two approaches, we see that the parallel computation is substantially faster than\n",
    "the serial computation. Note that the numbers will differ between computers. Also, the computation was performed on\n",
    "a relatively small dataset for illustrative purposes. The benefits of using such parallel computation will be far\n",
    "more apparent for much larger datasets.\n",
    "\n",
    "Let's compare the results from both the serial and parallel methods to ensure they give the same results:\n",
    "\n"
   ]
  },
  {
   "cell_type": "code",
   "execution_count": 12,
   "metadata": {},
   "outputs": [
    {
     "name": "stdout",
     "output_type": "stream",
     "text": [
      "Result from serial computation: [62]\n",
      "Result from parallel computation: [62]\n"
     ]
    }
   ],
   "source": [
    "print('Result from serial computation: {}'.format(serial_results[pixel_ind]))\n",
    "print('Result from parallel computation: {}'.format(serial_results[pixel_ind]))"
   ]
  },
  {
   "cell_type": "markdown",
   "metadata": {},
   "source": [
    "Simplifying the function\n",
    "-----------------------\n",
    "Note that the **peak_widths** and **peak_step** arguments will not be changed from one pixel to another. It would be great if we didn't have to keep track of these constant arguments. We can use a very handy python tool called **partial()** to do just this. Below, all we are doing is creating a new function that always pases our prefered values for **peak_widths** and **peak_step** arguments to wavelet_peaks. While it may seem like this is unimportant, it is very convenient when setting up the parallel computing:"
   ]
  },
  {
   "cell_type": "code",
   "execution_count": 13,
   "metadata": {
    "collapsed": true
   },
   "outputs": [],
   "source": [
    "find_peaks = partial(wavelet_peaks, peak_widths=[20, 60], peak_step=30)"
   ]
  },
  {
   "cell_type": "markdown",
   "metadata": {},
   "source": [
    "Let's try calling our simplified function, **find_peak()** to make sure that it results in the same peak index for the aforementioned chosen spectra:"
   ]
  },
  {
   "cell_type": "code",
   "execution_count": 14,
   "metadata": {},
   "outputs": [
    {
     "name": "stdout",
     "output_type": "stream",
     "text": [
      "find_peaks found peaks at index: [62]\n"
     ]
    }
   ],
   "source": [
    "print('find_peaks found peaks at index: {}'.format(find_peaks(h5_main[pixel_ind])))"
   ]
  },
  {
   "cell_type": "markdown",
   "metadata": {},
   "source": [
    "Best practices for parallel computing\n",
    "====================\n",
    "While it may seem tempting to do everything in parallel, it is important to be aware of some of the trade-offs and\n",
    "best-practices for parallel computing (multiple CPU cores) when compared to traditional serial computing (single\n",
    "CPU core):\n",
    "* There is noticable time overhead involved with setting up each parallel computing job. For very simple or small computations, this overhead may outweigh the speed-up gained with using multiple cores.\n",
    "* Parallelizing computations that read and write to files at each iteration may be actually be noticably __slower__\n",
    "than serial computation since each core will compete with all other cores for rights to read and write to the file(s)\n",
    "and these input/output operations are by far the slowest components of the computation. Instead, it makes sense to\n",
    "read large amounts of data from the necessary files once, perform the computation, and then write to the files once\n",
    "after all the computation is complete. In fact, this is what we automatically do in the **Fitter** and\n",
    "**Process** classes in **pycroscopy**\n",
    "\n",
    "Scalability\n",
    "-----------\n",
    "Lets see how the computation time decreases as the number of CPU cores is increased. This time lets use the find_peaks function instead of wavelet_peaks. The benefit of **partial** will be clearly evident in the set up of the parallel computation - we would not need to specify the keyword arguments (kwargs) at all! Note that this is a very simple function and the benefits of partial will be greater for more complex problems:"
   ]
  },
  {
   "cell_type": "code",
   "execution_count": 15,
   "metadata": {},
   "outputs": [
    {
     "name": "stdout",
     "output_type": "stream",
     "text": [
      "Now we will test the speed up for different numbers of CPU cores:\n"
     ]
    }
   ],
   "source": [
    "def my_parallel_compute(data, func, cpu_cores):\n",
    "    t_0 = time.time() \n",
    "    \n",
    "    values = [joblib.delayed(func)(x) for x in data]\n",
    "    # Execute the parallel computation\n",
    "    parallel_results = joblib.Parallel(n_jobs=cpu_cores)(values)\n",
    "    # Return only the time difference\n",
    "    \n",
    "    return time.time()-t_0\n",
    "\n",
    "print('Now we will test the speed up for different numbers of CPU cores.\\nThis will take some time:')\n",
    "core_vec = np.arange(1, max(4, cpu_count())+1)\n",
    "time_vec = []\n",
    "for cpu_cores in core_vec:\n",
    "    time_vec.append(my_parallel_compute(raw_data, find_peaks, cpu_cores))"
   ]
  },
  {
   "cell_type": "markdown",
   "metadata": {},
   "source": [
    "Depending on your computer (and what was running on your computer along with this computation), you are likely to see diminishing benefits of additional cores beyond 2 cores for this specific problem in the plot below. This is because the dataet is relatively small and each peak-finding operation is relatively quick. The overhead of adding additional cores quickly outweighs the speedup in distributing the work among multiple CPU cores."
   ]
  },
  {
   "cell_type": "code",
   "execution_count": 16,
   "metadata": {},
   "outputs": [
    {
     "data": {
      "image/png": "[encoded data removed]",
      "text/plain": [
       "<Figure size 252x252 with 1 Axes>"
      ]
     },
     "metadata": {},
     "output_type": "display_data"
    }
   ],
   "source": [
    "fig, axis = plt.subplots(figsize=(3.5, 3.5))\n",
    "axis.scatter(core_vec, time_vec)\n",
    "axis.set_xlabel('CPU cores', fontsize=14)\n",
    "axis.set_ylabel('Compute time (sec)', fontsize=14)\n",
    "fig.tight_layout()"
   ]
  },
  {
   "cell_type": "markdown",
   "metadata": {},
   "source": [
    "Formalizing data processing and pycroscopy.Process\n",
    "-----------------------------------------------\n",
    "\n",
    "Data processing / analysis typically involves a few basic operations:\n",
    "1. Reading data from file\n",
    "2. Parallel computation\n",
    "3. Writing results to disk\n",
    "\n",
    "The Process class in pycroscopy has modularized these operations for simpler and faster development of standardized,\n",
    "easy-to-debug code. In the case of this example, one would only need to write the wavelet_peaks() function along with the appropriate data reading and data writing functions. Otherc common operations can be inherited from pycroscopy.Process.\n",
    "\n",
    "Please see another example on how to write a Process class for Pycroscopy based on this example"
   ]
  },
  {
   "cell_type": "markdown",
   "metadata": {},
   "source": [
    "Lets not forget to close and delete the temporarily downloaded file:"
   ]
  },
  {
   "cell_type": "code",
   "execution_count": 17,
   "metadata": {
    "collapsed": true
   },
   "outputs": [],
   "source": [
    "h5_file.close()\n",
    "os.remove(h5_path)"
   ]
  }
 ],
 "metadata": {
  "kernelspec": {
   "display_name": "Python [default]",
   "language": "python",
   "name": "python3"
  },
  "language_info": {
   "codemirror_mode": {
    "name": "ipython",
    "version": 3
   },
   "file_extension": ".py",
   "mimetype": "text/x-python",
   "name": "python",
   "nbconvert_exporter": "python",
   "pygments_lexer": "ipython3",
   "version": "3.5.2"
  }
 },
 "nbformat": 4,
 "nbformat_minor": 1
}
