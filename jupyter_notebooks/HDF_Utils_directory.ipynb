{
 "cells": [
  {
   "cell_type": "markdown",
   "metadata": {},
   "source": [
    "## HDF_Utils Functions organized by purpose:\n",
    "\n",
    "* Other:\n",
    "    * print_tree <-- done\n",
    "* Searching / Lookup:\n",
    "    * find_dataset\n",
    "    * find_results_groups\n",
    "    * get_all_main\n",
    "    * get_auxillary_datasets\n",
    "    * get_group_refs\n",
    "    * get_h5_obj_refs\n",
    "    * get_source_dataset\n",
    "    * check_for_matching_attrs\n",
    "    * check_for_old\n",
    "* Main dataset - Reading:\n",
    "    * check_if_main <-- done\n",
    "    * get_data_descriptor <-- done\n",
    "    * reshape_to_n_dims\n",
    "    * reshape_to_2d\n",
    "* Ancillary datasets related:\n",
    "    * get_formatted_labels\n",
    "    * get_dimensionality\n",
    "    * get_sort_order\n",
    "    * get_unit_values\n",
    "* Attributes - Reading <------- DONE\n",
    "    * get_attr <-- done\n",
    "    * get_attributes <-- done\n",
    "    \n",
    "\n",
    "* Attributes - Writing\n",
    "    * write_simple_attrs <-- done\n",
    "    * write_book_keeping_attrs <-- done\n",
    "    * copy_attributes <-- done\n",
    "    * copy_main_attributes\n",
    "* Creating main datasets\n",
    "    * write_main_dataset <--- done\n",
    "    * create_empty_dataset <-- done\n",
    "* Automated writing of ancillary matrices\n",
    "    * write_ind_val_dsets <-- done\n",
    "    * write_reduced_spec_dsets <--- done\n",
    "* Low-end functions <----- DONE\n",
    "    * is_editable_h5 <---- done\n",
    "* Group creation: <--------- DONE\n",
    "    * assign_group_index <-- done\n",
    "    * create_indexed_group <-- done\n",
    "    * create_results_group <-- done\n",
    "* Linking\n",
    "    * link_as_main\n",
    "    * link_h5_objects_as_attrs <-- DONE\n",
    "    * link_h5_obj_as_alias <-- DONE\n",
    "    * check_and_link_ancillary <---------------------------------------------------- ?\n",
    "    \n",
    "    \n",
    "* Region references (ADVANCED section)\n",
    "    * create_region_reference\n",
    "    * copy_region_refs\n",
    "    * copy_reg_ref_reduced_dim\n",
    "    * simple_region_ref_copy\n",
    "    * attempt_reg_ref_build\n",
    "    * clean_reg_ref\n",
    "    * get_region\n",
    "    * write_region_references\n",
    "    * get_indices_for_region_ref"
   ]
  },
  {
   "cell_type": "code",
   "execution_count": null,
   "metadata": {
    "collapsed": true
   },
   "outputs": [],
   "source": []
  }
 ],
 "metadata": {
  "anaconda-cloud": {},
  "kernelspec": {
   "display_name": "Python [default]",
   "language": "python",
   "name": "python3"
  },
  "language_info": {
   "codemirror_mode": {
    "name": "ipython",
    "version": 3
   },
   "file_extension": ".py",
   "mimetype": "text/x-python",
   "name": "python",
   "nbconvert_exporter": "python",
   "pygments_lexer": "ipython3",
   "version": "3.5.2"
  }
 },
 "nbformat": 4,
 "nbformat_minor": 1
}
