{
 "cells": [
  {
   "cell_type": "code",
   "execution_count": 1,
   "metadata": {
    "collapsed": true
   },
   "outputs": [],
   "source": [
    "# fake BEPS generator\n",
    "from __future__ import division, print_function, unicode_literals, absolute_import\n",
    "import os\n",
    "import matplotlib.pyplot as plt\n",
    "% matplotlib inline\n",
    "import numpy as np\n",
    "import pandas as pd\n",
    "import sys\n",
    "from PIL import Image\n",
    "from scipy.special import erf\n",
    "\n",
    "import pycroscopy as px"
   ]
  },
  {
   "cell_type": "code",
   "execution_count": 2,
   "metadata": {
    "collapsed": true
   },
   "outputs": [],
   "source": [
    "max_mem         = 1024*8  # Maximum memory to use, in Mbs. Default = 1024\n",
    "max_cores       = None    # Number of logical cores to use in fitting.  None uses all but 2 available cores."
   ]
  },
  {
   "cell_type": "code",
   "execution_count": 3,
   "metadata": {
    "collapsed": true
   },
   "outputs": [],
   "source": [
    "# Set-up parameters and file paths\n",
    "data_type = 'BEPSData'\n",
    "mode = 'DC modulation mode'\n",
    "field_mode = 'in and out-of-field'\n",
    "\n",
    "cwd = os.getcwd()\n",
    "image_folder = px.io.translators.df_utils.beps_gen_utils.beps_image_folder\n",
    "\n",
    "# Define the dimensions\n",
    "binning_factor = 4    # Factor by which to downsample the images\n",
    "n_steps = 64          # Number of UDVS steps per cycle\n",
    "n_bins = 77           # Number of frequency bins\n",
    "w1 = 250E3            # Starting frequency\n",
    "w2 = 325E3            # Ending frequency\n",
    "FORC_cycles = 3\n",
    "FORC_repeats = 2\n",
    "n_cycles = 2\n",
    "\n",
    "# Define the loop coefficients\n",
    "a = 1\n",
    "b = 4\n",
    "\n",
    "# Path to the HDF5 file that will be created\n",
    "h5_path = os.path.join(cwd, 'fake.h5')"
   ]
  },
  {
   "cell_type": "code",
   "execution_count": 6,
   "metadata": {},
   "outputs": [
    {
     "name": "stdout",
     "output_type": "stream",
     "text": [
      "Working on:\n",
      "/home/challtdow/workspace/pycroscopy_data/fake.h5\n"
     ]
    }
   ],
   "source": [
    "# Generate the data using the input parameters\n",
    "fdg = px.FakeDataGenerator(max_mem)\n",
    "h5_path = fdg.translate(h5_path, n_steps, n_bins, w1, w2,\n",
    "                        n_cycles=n_cycles, FORC_cycles=FORC_cycles,\n",
    "                        FORC_repeats=FORC_repeats, loop_a=a, loop_b=b, data_type=data_type,\n",
    "                        mode=mode, field_mode=field_mode, image_folder=image_folder, \n",
    "                        bin_factor=binning_factor)\n"
   ]
  },
  {
   "cell_type": "code",
   "execution_count": 4,
   "metadata": {},
   "outputs": [
    {
     "name": "stdout",
     "output_type": "stream",
     "text": [
      "Working on:\n",
      "/home/challtdow/workspace/pycroscopy_data/fake.h5\n"
     ]
    }
   ],
   "source": [
    "# Open the H5 file and find the Raw_Data dataset\n",
    "hdf = px.ioHDF5(h5_path)\n",
    "print('Working on:\\n' + h5_path)\n",
    "h5_main = px.hdf_utils.getDataSet(hdf.file, 'Raw_Data')[-1]"
   ]
  },
  {
   "cell_type": "markdown",
   "metadata": {},
   "source": [
    "##### Inspect the contents of this h5 data file\n",
    "The file contents are stored in a tree structure, just like files on a conventional computer.\n",
    "The data is stored as a 2D matrix (position, spectroscopic value) regardless of the dimensionality of the data. Thus, the positions will be arranged as row0-col0, row0-col1.... row0-colN, row1-col0.... and the data for each position is stored as it was chronologically collected  \n",
    "\n",
    "The main dataset is always accompanied by four ancillary datasets that explain the position and spectroscopic value of any given element in the dataset."
   ]
  },
  {
   "cell_type": "code",
   "execution_count": 5,
   "metadata": {},
   "outputs": [
    {
     "name": "stdout",
     "output_type": "stream",
     "text": [
      "Datasets and datagroups within the file:\n",
      "------------------------------------\n",
      "/\n",
      "Measurement_000\n",
      "Measurement_000/Channel_000\n",
      "Measurement_000/Channel_000/Position_Indices\n",
      "Measurement_000/Channel_000/Position_Values\n",
      "Measurement_000/Channel_000/Raw_Data\n",
      "Measurement_000/Channel_000/Raw_Data-SHO_Fit_000\n",
      "Measurement_000/Channel_000/Raw_Data-SHO_Fit_000/Fit\n",
      "Measurement_000/Channel_000/Raw_Data-SHO_Fit_000/Fit-Loop_Fit_000\n",
      "Measurement_000/Channel_000/Raw_Data-SHO_Fit_000/Fit-Loop_Fit_000/Fit\n",
      "Measurement_000/Channel_000/Raw_Data-SHO_Fit_000/Fit-Loop_Fit_000/Guess\n",
      "Measurement_000/Channel_000/Raw_Data-SHO_Fit_000/Fit-Loop_Fit_000/Spectroscopic_Indices\n",
      "Measurement_000/Channel_000/Raw_Data-SHO_Fit_000/Fit-Loop_Fit_000/Spectroscopic_Values\n",
      "Measurement_000/Channel_000/Raw_Data-SHO_Fit_000/Guess\n",
      "Measurement_000/Channel_000/Raw_Data-SHO_Fit_000/Spectroscopic_Indices\n",
      "Measurement_000/Channel_000/Raw_Data-SHO_Fit_000/Spectroscopic_Values\n",
      "Measurement_000/Channel_000/Spectroscopic_Indices\n",
      "Measurement_000/Channel_000/Spectroscopic_Values\n",
      "\n",
      "The main dataset:\n",
      "------------------------------------\n",
      "<HDF5 dataset \"Raw_Data\": shape (1024, 118272), type \"<c8\">\n",
      "\n",
      "The ancillary datasets:\n",
      "------------------------------------\n",
      "<HDF5 dataset \"Position_Indices\": shape (1024, 2), type \"<u4\">\n",
      "<HDF5 dataset \"Position_Values\": shape (1024, 2), type \"<f4\">\n",
      "<HDF5 dataset \"Spectroscopic_Indices\": shape (6, 118272), type \"<u4\">\n",
      "<HDF5 dataset \"Spectroscopic_Values\": shape (6, 118272), type \"<f4\">\n",
      "\n",
      "Metadata or attributes in a datagroup\n",
      "------------------------------------\n",
      "num_udvs_steps : 118272\n",
      "n_steps;: : 64\n",
      "data_type : b'BEPSData'\n",
      "forc_repeats : 2\n",
      "N_x : 32\n",
      "loop_a : 1\n",
      "start_freq : 250000.0\n",
      "timestamp : b'2017_07_25-09_57_35'\n",
      "n_cycles : 2\n",
      "VS_mode : b'DC modulation mode'\n",
      "field_mode : b'in and out-of-field'\n",
      "end_freq : 325000.0\n",
      "forc_cycles : 3\n",
      "N_y : 32\n",
      "VS_cycle_fraction : b'full'\n",
      "n_bins : 77\n",
      "machine_id : b'challtdow-ThinkPad-T530'\n",
      "loop_b : 4\n"
     ]
    }
   ],
   "source": [
    "print('Datasets and datagroups within the file:\\n------------------------------------')\n",
    "px.io.hdf_utils.print_tree(hdf.file)\n",
    " \n",
    "print('\\nThe main dataset:\\n------------------------------------')\n",
    "print(h5_main)\n",
    "print('\\nThe ancillary datasets:\\n------------------------------------')\n",
    "print(hdf.file['/Measurement_000/Channel_000/Position_Indices'])\n",
    "print(hdf.file['/Measurement_000/Channel_000/Position_Values'])\n",
    "print(hdf.file['/Measurement_000/Channel_000/Spectroscopic_Indices'])\n",
    "print(hdf.file['/Measurement_000/Channel_000/Spectroscopic_Values'])\n",
    "\n",
    "print('\\nMetadata or attributes in a datagroup\\n------------------------------------')\n",
    "for key in hdf.file['/Measurement_000'].attrs:\n",
    "    print('{} : {}'.format(key, hdf.file['/Measurement_000'].attrs[key]))"
   ]
  },
  {
   "cell_type": "code",
   "execution_count": 6,
   "metadata": {},
   "outputs": [
    {
     "name": "stdout",
     "output_type": "stream",
     "text": [
      "[b'X' b'Y'] [32, 32]\n"
     ]
    }
   ],
   "source": [
    "h5_pos_inds = px.hdf_utils.getAuxData(h5_main, auxDataName='Position_Indices')[-1]\n",
    "pos_sort = px.hdf_utils.get_sort_order(np.transpose(h5_pos_inds))\n",
    "pos_dims = px.hdf_utils.get_dimensionality(np.transpose(h5_pos_inds), pos_sort)\n",
    "pos_labels = np.array(h5_pos_inds.attrs['labels'])[pos_sort]\n",
    "print(pos_labels, pos_dims)\n",
    "\n",
    "parm_dict = hdf.file['/Measurement_000'].attrs\n",
    "is_ckpfm = hdf.file.attrs['data_type'] == 'cKPFMData'\n",
    "if is_ckpfm:\n",
    "    num_write_steps = parm_dict['VS_num_DC_write_steps']\n",
    "    num_read_steps = parm_dict['VS_num_read_steps']\n",
    "    num_fields = 2"
   ]
  },
  {
   "cell_type": "code",
   "execution_count": 7,
   "metadata": {},
   "outputs": [
    {
     "name": "stdout",
     "output_type": "stream",
     "text": [
      "No position datasets found as attributes of /Measurement_000/Channel_000/Spectroscopic_Values\n"
     ]
    },
    {
     "data": {
      "application/vnd.jupyter.widget-view+json": {
       "model_id": "c090c48ca365471396ea423d60706a55"
      }
     },
     "metadata": {},
     "output_type": "display_data"
    },
    {
     "data": {
      "image/png": "[encoded data removed]",
      "text/plain": [
       "<matplotlib.figure.Figure at 0x7f3edaa9f0f0>"
      ]
     },
     "metadata": {},
     "output_type": "display_data"
    }
   ],
   "source": [
    "px.be_viz_utils.jupyter_visualize_be_spectrograms(h5_main)"
   ]
  },
  {
   "cell_type": "code",
   "execution_count": 8,
   "metadata": {},
   "outputs": [
    {
     "name": "stdout",
     "output_type": "stream",
     "text": [
      "Using complex_gaussian to find guesses...\n",
      "\n",
      "Computing Jobs In parallel ... launching 2 kernels...\n",
      "Extracted Results...\n",
      "closing 2 kernels...\n",
      "Completed computing guess. Writing to file.\n",
      "Finished writing guess results to file!\n",
      "Using solver least_squares and objective function SHO to fit your data\n",
      "\n",
      "Computing Jobs In parallel ... launching 2 kernels...\n",
      "closing 2 kernels...\n",
      "Finished writing fit results to file!\n"
     ]
    }
   ],
   "source": [
    "# Get the generated SHO guess and fit\n",
    "h5_sho_gen_group = px.hdf_utils.findH5group(h5_main, 'SHO_Fit')\n",
    "h5_sho_gen_guess = h5_sho_gen_group[-1]['Guess']\n",
    "h5_sho_gen_fit = h5_sho_gen_group[-1]['Fit']\n",
    "\n",
    "# Do the fit on the generated Raw_Data\n",
    "sho_fitter = px.BESHOmodel(h5_main, parallel=True)\n",
    "h5_sho_guess = sho_fitter.do_guess(strategy='complex_gaussian', processors=max_cores)\n",
    "h5_sho_fit = sho_fitter.do_fit(processors=max_cores)\n",
    "h5_sho_group = h5_sho_guess.parent"
   ]
  },
  {
   "cell_type": "code",
   "execution_count": 9,
   "metadata": {},
   "outputs": [
    {
     "name": "stdout",
     "output_type": "stream",
     "text": [
      "Reshape Success: True\n",
      "['X' 'Y' 'Field' 'DC_Offset' 'Cycle' 'FORC' 'FORC_repeat']\n",
      "(32, 32, 2, 64, 2, 3, 2)\n"
     ]
    }
   ],
   "source": [
    "h5_sho_spec_inds = px.hdf_utils.getAuxData(h5_sho_fit, auxDataName='Spectroscopic_Indices')[0]\n",
    "sho_spec_labels = px.io.hdf_utils.get_attr(h5_sho_spec_inds,'labels')\n",
    "\n",
    "if is_ckpfm:\n",
    "    # It turns out that the read voltage index starts from 1 instead of 0\n",
    "    # Also the VDC indices are NOT repeating. They are just rising monotonically\n",
    "    write_volt_index = np.argwhere(sho_spec_labels == 'write_bias')[0][0]\n",
    "    read_volt_index = np.argwhere(sho_spec_labels == 'read_bias')[0][0]\n",
    "    h5_sho_spec_inds[read_volt_index, :] -= 1\n",
    "    h5_sho_spec_inds[write_volt_index, :] = np.tile(np.repeat(np.arange(num_write_steps), num_fields), num_read_steps)\n",
    "\n",
    "(Nd_mat, success) = px.io.hdf_utils.reshape_to_Ndims(h5_sho_fit)\n",
    "print('Reshape Success: ' + str(success))\n",
    "\n",
    "sho_spec_sort_order = px.hdf_utils.get_sort_order(h5_sho_spec_inds)\n",
    "sho_spec_labels_sorted = sho_spec_labels[sho_spec_sort_order]\n",
    "\n",
    "nd_labels = np.hstack((pos_labels, sho_spec_labels_sorted))\n",
    "print(nd_labels)\n",
    "print(Nd_mat.shape)"
   ]
  },
  {
   "cell_type": "code",
   "execution_count": 10,
   "metadata": {},
   "outputs": [
    {
     "name": "stdout",
     "output_type": "stream",
     "text": [
      "No position datasets found as attributes of /Measurement_000/Channel_000/Raw_Data-SHO_Fit_000/Spectroscopic_Indices\n",
      "No spectroscopic datasets found as attributes of /Measurement_000/Channel_000/Position_Indices\n"
     ]
    },
    {
     "ename": "IndexError",
     "evalue": "index 0 is out of bounds for axis 0 with size 0",
     "output_type": "error",
     "traceback": [
      "\u001b[0;31m---------------------------------------------------------------------------\u001b[0m",
      "\u001b[0;31mIndexError\u001b[0m                                Traceback (most recent call last)",
      "\u001b[0;32m<ipython-input-10-30530fe69cf8>\u001b[0m in \u001b[0;36m<module>\u001b[0;34m()\u001b[0m\n\u001b[0;32m----> 1\u001b[0;31m \u001b[0mpx\u001b[0m\u001b[0;34m.\u001b[0m\u001b[0mbe_viz_utils\u001b[0m\u001b[0;34m.\u001b[0m\u001b[0mjupyter_visualize_beps_sho\u001b[0m\u001b[0;34m(\u001b[0m\u001b[0mh5_sho_gen_fit\u001b[0m\u001b[0;34m,\u001b[0m \u001b[0;34m'AC_Amplitude'\u001b[0m\u001b[0;34m)\u001b[0m\u001b[0;34m\u001b[0m\u001b[0m\n\u001b[0m",
      "\u001b[0;32m~/workspace/pycroscopy/pycroscopy/viz/be_viz_utils.py\u001b[0m in \u001b[0;36mjupyter_visualize_beps_sho\u001b[0;34m(h5_sho_dset, step_chan, resp_func, resp_label)\u001b[0m\n\u001b[1;32m    238\u001b[0m \u001b[0;34m\u001b[0m\u001b[0m\n\u001b[1;32m    239\u001b[0m     \u001b[0;31m# reshape to X, Y, step, all others\u001b[0m\u001b[0;34m\u001b[0m\u001b[0;34m\u001b[0m\u001b[0m\n\u001b[0;32m--> 240\u001b[0;31m     \u001b[0mspec_step_dim_ind\u001b[0m \u001b[0;34m=\u001b[0m \u001b[0mnp\u001b[0m\u001b[0;34m.\u001b[0m\u001b[0mwhere\u001b[0m\u001b[0;34m(\u001b[0m\u001b[0msho_spec_labels\u001b[0m \u001b[0;34m==\u001b[0m \u001b[0mstep_chan\u001b[0m\u001b[0;34m)\u001b[0m\u001b[0;34m[\u001b[0m\u001b[0;36m0\u001b[0m\u001b[0;34m]\u001b[0m\u001b[0;34m[\u001b[0m\u001b[0;36m0\u001b[0m\u001b[0;34m]\u001b[0m\u001b[0;34m\u001b[0m\u001b[0m\n\u001b[0m\u001b[1;32m    241\u001b[0m     \u001b[0mstep_dim_ind\u001b[0m \u001b[0;34m=\u001b[0m \u001b[0mlen\u001b[0m\u001b[0;34m(\u001b[0m\u001b[0mpos_dims\u001b[0m\u001b[0;34m)\u001b[0m \u001b[0;34m+\u001b[0m \u001b[0mspec_step_dim_ind\u001b[0m\u001b[0;34m\u001b[0m\u001b[0m\n\u001b[1;32m    242\u001b[0m \u001b[0;34m\u001b[0m\u001b[0m\n",
      "\u001b[0;31mIndexError\u001b[0m: index 0 is out of bounds for axis 0 with size 0"
     ]
    }
   ],
   "source": [
    "px.be_viz_utils.jupyter_visualize_beps_sho(h5_sho_gen_fit, 'AC_Amplitude')"
   ]
  },
  {
   "cell_type": "code",
   "execution_count": null,
   "metadata": {
    "collapsed": true
   },
   "outputs": [],
   "source": [
    "px.be_viz_utils.jupyter_visualize_beps_sho(h5_sho_fit, 'AC_Amplitude')"
   ]
  },
  {
   "cell_type": "code",
   "execution_count": null,
   "metadata": {
    "collapsed": true
   },
   "outputs": [],
   "source": [
    "# Do the Loop Fitting on the SHO Fit dataset\n",
    "loop_success = False\n",
    "h5_loop_group = px.hdf_utils.findH5group(h5_sho_fit, 'Loop_Fit')\n",
    "if len(h5_loop_group) == 0:\n",
    "    try:\n",
    "        loop_fitter = px.BELoopModel(h5_sho_fit, parallel=True)\n",
    "        print('No loop fits found. Fitting now....')\n",
    "        h5_loop_guess = loop_fitter.do_guess(processors=max_cores, max_mem=max_mem)\n",
    "        h5_loop_fit = loop_fitter.do_fit(processors=max_cores, max_mem=max_mem)\n",
    "        loop_success = True\n",
    "    except ValueError:\n",
    "        print('Loop fitting is applicable only to DC spectroscopy datasets!')\n",
    "else:\n",
    "    loop_success = True\n",
    "    print('Taking previously computed loop fits')\n",
    "    h5_loop_guess = h5_loop_group[-1]['Guess']\n",
    "    h5_loop_fit = h5_loop_group[-1]['Fit']"
   ]
  },
  {
   "cell_type": "code",
   "execution_count": null,
   "metadata": {
    "collapsed": true
   },
   "outputs": [],
   "source": [
    "# Prepare some variables for plotting loops fits and guesses\n",
    "# Plot the Loop Guess and Fit Results\n",
    "if loop_success:\n",
    "    h5_projected_loops = px.analysis.utils.be_loop.projectLoop()\n",
    "    h5_proj_spec_inds = px.hdf_utils.getAuxData(h5_projected_loops, \n",
    "                                                auxDataName='Spectroscopic_Indices')[-1]\n",
    "    h5_proj_spec_vals = px.hdf_utils.getAuxData(h5_projected_loops, \n",
    "                                                auxDataName='Spectroscopic_Values')[-1]\n",
    "\n",
    "    # reshape the vdc_vec into DC_step by Loop\n",
    "    sort_order = px.hdf_utils.get_sort_order(h5_proj_spec_inds)\n",
    "    dims = px.hdf_utils.get_dimensionality(h5_proj_spec_inds[()], \n",
    "                                           sort_order[::-1])\n",
    "    vdc_vec = np.reshape(h5_proj_spec_vals[h5_proj_spec_vals.attrs['DC_Offset']], dims).T\n",
    "\n",
    "    #Also reshape the projected loops to Positions-DC_Step-Loop\n",
    "    # Also reshape the projected loops to Positions-DC_Step-Loop\n",
    "    proj_nd, _ = px.hdf_utils.reshape_to_Ndims(h5_projected_loops)\n",
    "    proj_3d = np.reshape(proj_nd, [h5_projected_loops.shape[0], \n",
    "                                   proj_nd.shape[2], -1])"
   ]
  },
  {
   "cell_type": "code",
   "execution_count": null,
   "metadata": {
    "collapsed": true
   },
   "outputs": [],
   "source": [
    "use_static_plots = False\n",
    "if loop_success:\n",
    "    if not use_static_plots:\n",
    "        try:\n",
    "            px.be_viz_utils.jupyter_visualize_beps_loops(h5_projected_loops, h5_loop_guess, h5_loop_fit)\n",
    "        except:\n",
    "            print('There was a problem with the interactive visualizer')\n",
    "            use_static_plots = True\n",
    "    if use_static_plots:\n",
    "        for iloop in range(h5_loop_guess.shape[1]):\n",
    "            fig, ax = px.be_viz_utils.plot_loop_guess_fit(vdc_vec[:, iloop], proj_3d[:, :, iloop], \n",
    "                                          h5_loop_guess[:, iloop], h5_loop_fit[:, iloop],\n",
    "                                          title='Loop {} - All Positions'.format(iloop))"
   ]
  },
  {
   "cell_type": "code",
   "execution_count": null,
   "metadata": {
    "collapsed": true
   },
   "outputs": [],
   "source": []
  }
 ],
 "metadata": {
  "kernelspec": {
   "display_name": "Python 3",
   "language": "python",
   "name": "python3"
  },
  "language_info": {
   "codemirror_mode": {
    "name": "ipython",
    "version": 3
   },
   "file_extension": ".py",
   "mimetype": "text/x-python",
   "name": "python",
   "nbconvert_exporter": "python",
   "pygments_lexer": "ipython3",
   "version": "3.5.2"
  }
 },
 "nbformat": 4,
 "nbformat_minor": 2
}
