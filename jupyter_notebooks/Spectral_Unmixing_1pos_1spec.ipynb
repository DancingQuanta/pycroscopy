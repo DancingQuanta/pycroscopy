{
 "cells": [
  {
   "cell_type": "markdown",
   "metadata": {},
   "source": [
    "# Basic data analysis - Spectral Unmixing, KMeans, PCA, NFINDR etc.\n",
    "\n",
    "R. K. Vasudevan<sup>1,2</sup>, S. Somnath<sup>3</sup>\n",
    "\n",
    "* <sup>1</sup>Center for Nanophase Materials Sciences\n",
    "* <sup>2</sup>Institute for Functional Imaging of Materials \n",
    "* <sup>3</sup>Advanced Data and Workflows Group\n",
    "\n",
    "Oak Ridge National Laboratory, Oak Ridge TN 37831, USA\n",
    "\n",
    "#### In this notebook we load some spectral data, and perform basic data analysis, including:\n",
    "* KMeans Clustering\n",
    "* Non-negative Matrix Factorization\n",
    "* Principal Component Analysis\n",
    "* NFINDR"
   ]
  },
  {
   "cell_type": "markdown",
   "metadata": {},
   "source": [
    "## Software Prerequisites:\n",
    "* Standard distribution of ___Anaconda__ (includes numpy, scipy, matplotlib and sci-kit learn)\n",
    "* __pysptools__ (will automatically be installed in the next step)\n",
    "* __cvxopt__ for fully constrained least squares fitting\n",
    "    * install in a terminal via __`conda install -c https://conda.anaconda.org/omnia cvxopt`__\n",
    "* __pycroscopy__ : Though pycroscopy is mainly used here for plotting purposes only, it's true capabilities are realized through the ability to seamlessly perform these analyses on any imaging dataset (regardless of origin, size, complexity) and storing the results back into the same dataset among other things"
   ]
  },
  {
   "cell_type": "code",
   "execution_count": null,
   "metadata": {},
   "outputs": [],
   "source": [
    "# Installing sotware prerequisites via the python package index:\n",
    "!pip install -U numpy matplotlib sklearn pysptools wget\n",
    "\n",
    "#Import packages\n",
    "\n",
    "# Ensure that this code works on both python 2 and python 3\n",
    "from __future__ import division, print_function, absolute_import, unicode_literals\n",
    "\n",
    "# basic numeric computation:\n",
    "import numpy as np\n",
    "\n",
    "# The package used for creating and manipulating HDF5 files:\n",
    "import h5py\n",
    "\n",
    "# Plotting and visualization:\n",
    "import matplotlib.pyplot as plt\n",
    "from mpl_toolkits.axes_grid1 import make_axes_locatable\n",
    "\n",
    "# for downloading files:\n",
    "import wget\n",
    "import os\n",
    "\n",
    "# multivariate analysis:\n",
    "from sklearn.decomposition import NMF\n",
    "from pysptools import eea\n",
    "import pysptools.abundance_maps as amp\n",
    "from pysptools.eea import nfindr\n",
    "\n",
    "# finally import pycroscopy:\n",
    "import pycroscopy as px\n",
    "\n",
    "# configure the notebook to place plots after code cells within the notebook:\n",
    "%matplotlib inline"
   ]
  },
  {
   "cell_type": "markdown",
   "metadata": {},
   "source": [
    "## The Data\n",
    "\n",
    "In this example, we will work on __Infrared (IR) Spectra__ data obtained from an Anasys Instruments Nano IR as one of the simplest examples of data. This dataset contains a single IR spectra collected at each position on a single line of spatial points. Thus, this two dimensional dataset has one position dimension (lets say X) and one spectral dimension (wavelength). \n",
    "\n",
    "In the event that the spectra were collected on a 2D grid of spatial locations (two spatial dimensions - X, Y), the resultant three dimensional dataset (X, Y, wavelength) would need to be reshaped to a two dimensional dataset of (position, wavelength) since this is the standard format that is accepted by all statistical analysis, machine learning, spectral unmixing algorithms. The same reshaping of data would need to be performed if there are more than two spectroscopic dimensions.\n",
    "\n",
    "#### Working with the specific Nano IR dataset:\n",
    "We will begin by downloading the data file from Github, followed by reshaping and decimation of the dataset"
   ]
  },
  {
   "cell_type": "code",
   "execution_count": null,
   "metadata": {},
   "outputs": [],
   "source": [
    "# download the data file from Github:\n",
    "url = 'https://raw.githubusercontent.com/pycroscopy/pycroscopy/master/data/NanoIR.txt'\n",
    "data_file_path = 'temp.txt'\n",
    "_ = wget.download(url, data_file_path)\n",
    "#data_file_path = px.io.uiGetFile(filter='Anasys NanoIR text export (*.txt)')\n",
    "\n",
    "# Load the data from file to memory\n",
    "data_mat = np.loadtxt(data_file_path, delimiter ='\\t', skiprows =1 )\n",
    "print('Data currently of shape:', data_mat.shape)\n",
    "\n",
    "# Only every fifth column is of interest (position)\n",
    "data_mat =  data_mat[:, 1::5]\n",
    "\n",
    "# The data is structured as [wavelength, position]\n",
    "\n",
    "# nans cannot be handled in most of these decompositions. So set them to be zero.\n",
    "data_mat[np.isnan(data_mat)]=0 \n",
    "\n",
    "# Finally, taking the transpose of the matrix to match [position, wavelength]\n",
    "data_mat = data_mat.T\n",
    "\n",
    "num_pos = data_mat.shape[0]\n",
    "spec_pts = data_mat.shape[1]\n",
    "print('Data currently of shape:', data_mat.shape)\n",
    "\n",
    "x_label = 'Spectral dimension'\n",
    "y_label = 'Intensity (a.u.)'"
   ]
  },
  {
   "cell_type": "markdown",
   "metadata": {},
   "source": [
    "## Convert to H5\n",
    "Now we will take our numpy array holding the data and use the NumpyTranslator in pycroscopy to write it to an h5 file."
   ]
  },
  {
   "cell_type": "code",
   "execution_count": null,
   "metadata": {},
   "outputs": [],
   "source": [
    "folder_path, file_name = os.path.split(data_file_path)\n",
    "file_name = file_name[:-4] + '_'\n",
    "\n",
    "h5_path = os.path.join(folder_path, file_name + '.h5')\n",
    "\n",
    "# Use NumpyTranslator to convert the data to h5\n",
    "tran = px.io.NumpyTranslator()\n",
    "h5_path = tran.translate(h5_path, data_mat, num_pos, 1, scan_height=spec_pts, scan_width=1,\n",
    "                         qty_name='Intensity', data_unit='a.u', spec_name=x_label, \n",
    "                         spatial_unit='a.u.', data_type='NanoIR')\n",
    "\n",
    "h5_file = h5py.File(h5_path, mode='r+')\n",
    "\n",
    "# See if a tree has been created within the hdf5 file:\n",
    "px.hdf_utils.print_tree(h5_file)"
   ]
  },
  {
   "cell_type": "markdown",
   "metadata": {},
   "source": [
    "## Extracting the data and parameters\n",
    "All necessary information to understand, plot, analyze, and process the data is present in the H5 file now. Here, we show how to extract some basic parameters to plot the data"
   ]
  },
  {
   "cell_type": "code",
   "execution_count": null,
   "metadata": {},
   "outputs": [],
   "source": [
    "h5_main = h5_file['Measurement_000/Channel_000/Raw_Data']\n",
    "h5_spec_vals = px.hdf_utils.getAuxData(h5_main,'Spectroscopic_Values')[0]\n",
    "h5_pos_vals = px.hdf_utils.getAuxData(h5_main,'Position_Values')[0]\n",
    "x_label = px.hdf_utils.get_formatted_labels(h5_spec_vals)[0]\n",
    "y_label = px.hdf_utils.get_formatted_labels(h5_pos_vals)[0]\n",
    "descriptor = px.hdf_utils.get_data_descriptor(h5_main)"
   ]
  },
  {
   "cell_type": "markdown",
   "metadata": {},
   "source": [
    "## Visualize the Amplitude Data\n",
    "Note that we are not hard-coding / writing any tick labels / axis labels by hand. All the necessary information was present in the H5 file"
   ]
  },
  {
   "cell_type": "code",
   "execution_count": null,
   "metadata": {},
   "outputs": [],
   "source": [
    "fig, axis = plt.subplots(figsize=(8,5))\n",
    "px.plot_utils.plot_map(axis, h5_main, cmap='inferno')\n",
    "axis.set_title('Raw data - ' + descriptor)\n",
    "axis.set_xlabel(x_label)\n",
    "axis.set_ylabel(y_label)\n",
    "vec = h5_spec_vals[0]\n",
    "cur_x_ticks = axis.get_xticks()\n",
    "for ind in range(1,len(cur_x_ticks)-1):\n",
    "    cur_x_ticks[ind] = h5_spec_vals[0, ind]\n",
    "axis.set_xticklabels([str(val) for val in cur_x_ticks]);"
   ]
  },
  {
   "cell_type": "markdown",
   "metadata": {},
   "source": [
    "## 1. Singular Value Decomposition (SVD)\n",
    "\n",
    "SVD is an eigenvector decomposition that is defined statistically, and therefore typically produces non-physical eigenvectors. Consequently, the interpretation of eigenvectors and abundance maps from SVD requires care and caution in interpretation. Nontheless, it is a good method for quickly visualizing the major trends in the dataset since the resultant eigenvectors are sorted in descending order of variance or importance. Furthermore, SVD is also very well suited for data cleaning through the reconstruction of the dataset using only the first N (most significant) components. \n",
    "\n",
    "SVD results in three matrices:\n",
    "* V - Eigenvectors sorted by variance in descending order\n",
    "* U - corresponding bundance maps\n",
    "* S - Variance or importance of each of these components"
   ]
  },
  {
   "cell_type": "code",
   "execution_count": null,
   "metadata": {},
   "outputs": [],
   "source": [
    "h5_svd_grp = px.processing.doSVD(h5_main)\n",
    "\n",
    "U = h5_svd_grp['U']\n",
    "S = h5_svd_grp['S']\n",
    "V = h5_svd_grp['V']\n",
    "\n",
    "# Visualize the variance / statistical importance of each component:\n",
    "px.plot_utils.plotScree(S, title='Note the exponential drop of variance with number of components')\n",
    "\n",
    "# Visualize the eigenvectors:\n",
    "px.plot_utils.plot_loops(np.arange(spec_pts), V, x_label=x_label, y_label=y_label, plots_on_side=3, \n",
    "                         subtitles='Component', title='SVD Eigenvectors', evenly_spaced=False);\n",
    "\n",
    "# Visualize the abundance maps:\n",
    "px.plot_utils.plot_loops(np.arange(num_pos), np.transpose(U), plots_on_side=3, \n",
    "                         subtitles='Component', title='SVD Abundances', evenly_spaced=False);"
   ]
  },
  {
   "cell_type": "markdown",
   "metadata": {},
   "source": [
    "## 2. KMeans Clustering\n",
    "\n",
    "KMeans clustering is a quick and easy method to determine the types of spectral responses present in the data. It is not a decomposition method, but a basic clustering method. The user inputs the number of clusters (sets) to partition the data into. The algorithm proceeds to find the optimal labeling (ie., assignment of each spectra as belonging to the k<sup>th</sup> set) such that the within-cluster sum of squares is minimized.\n",
    "\n",
    "Set the number of clusters below"
   ]
  },
  {
   "cell_type": "code",
   "execution_count": null,
   "metadata": {},
   "outputs": [],
   "source": [
    "num_comps = 4\n",
    "\n",
    "estimators = px.Cluster(h5_main, 'KMeans', num_comps=num_comps)\n",
    "h5_kmeans_grp = estimators.do_cluster(h5_main)\n",
    "h5_kmeans_labels = h5_kmeans_grp['Labels']\n",
    "h5_kmeans_mean_resp = h5_kmeans_grp['Mean_Response']\n",
    "\n",
    "fig, axes = plt.subplots(ncols=2,figsize=(18,8))\n",
    "for clust_ind, end_member in enumerate(h5_kmeans_mean_resp):\n",
    "    axes[0].plot(end_member+(500*clust_ind), label = 'Cluster #' + str(clust_ind))\n",
    "axes[0].legend(bbox_to_anchor = [1.05,1.0], fontsize=12)\n",
    "axes[0].set_title('K-Means Cluster Centers', fontsize=14)\n",
    "axes[0].set_xlabel(x_label, fontsize=14)\n",
    "axes[0].set_ylabel(y_label, fontsize=14)\n",
    "\n",
    "axes[1].plot(h5_kmeans_labels)\n",
    "axes[1].set_title('KMeans Labels', fontsize=14)\n",
    "axes[1].set_xlabel('Position', fontsize=14)\n",
    "axes[1].set_ylabel('Label');"
   ]
  },
  {
   "cell_type": "markdown",
   "metadata": {},
   "source": [
    "## 3. Non-negative Maxtrix Factorization (NMF)\n",
    "\n",
    "NMF, or non-negative matrix factorization, is a method that is useful towards unmixing of spectral data. It only works on data with positive real values. It operates by approximate determination of factors (matrices) W and H, given a matrix V, as shown below\n",
    "\n",
    "![NMF](https://upload.wikimedia.org/wikipedia/commons/f/f9/NMF.png)"
   ]
  },
  {
   "cell_type": "code",
   "execution_count": null,
   "metadata": {},
   "outputs": [],
   "source": [
    "num_comps = 4\n",
    "\n",
    "# Make sure the data is non-negative:\n",
    "data_mat[h5_main[()] < 0] = 0 \n",
    "\n",
    "model = NMF(n_components=num_comps, init='random', random_state=0)\n",
    "model.fit(data_mat) \n",
    "\n",
    "fig, axis = plt.subplots()\n",
    "for comp_ind, end_member in enumerate(model.components_):\n",
    "    axis.plot(end_member + comp_ind * 50, \n",
    "              label = 'NMF Component #' + str(comp_ind))\n",
    "axis.set_xlabel(x_label, fontsize=12)\n",
    "axis.set_ylabel(y_label, fontsize=12)\n",
    "axis.set_title('NMF Components', fontsize=14)\n",
    "axis.legend(bbox_to_anchor=[1.0,1.0], fontsize=12);"
   ]
  },
  {
   "cell_type": "markdown",
   "metadata": {},
   "source": [
    "## 4. NFINDR\n",
    "\n",
    "NFINDR is a geometric decomposition technique that can aid in determination of constitent spectra in data. The basic idea is as follows. Assume that at any point <i>x</i>, the spectra measured <i>A(w,x)</i> is a linear superposition of <i>k</i> 'pure' spectra, i.e.\n",
    "\n",
    "<i>A(w,x)</i> = c<sub>0</sub>(x)a<sub>0</sub> + c<sub>1</sub>(x)a<sub>1</sub> + ... + c<sub>k</sub>(x)a<sub>k</sub>\n",
    "\n",
    "In this case, our task consists of first determining the pure spectra {a<sub>0</sub>,...,a<sub>k</sub>}, and then determining the coefficients {c<sub>0</sub>,...,c<sub>k</sub>}. NFINDR determines the 'pure' spectra by first projecting the data into a low-dimensional sub-space (typically using PCA), and then taking the convex hull of the points in this space. Then, points are picked at random along the convex hull and the volume of the simplex that the points form is determined. If (k+1) pure spectra are needed, the data is reduced to (k) dimensions for this purpose. The points that maximize the volume of the simples are taken as the most representative pure spectra available in the dataset. One way to think of this is that any spectra that lie within the given volume can be represented as a superposition of these constituent spectra; thus maximizing this volume allows the purest spectra to be determined. \n",
    "\n",
    "The second task is to determine the coefficients. This is done usign the fully constrained least squares optimization, and involves the sum-to-one constraint, to allow quantitative comparisons to be made. More information can be found in the paper below:\n",
    "\n",
    "[Winter, Michael E. \"N-FINDR: An algorithm for fast autonomous spectral end-member determination in hyperspectral data.\" SPIE's International Symposium on Optical Science, Engineering, and Instrumentation. International Society for Optics and Photonics, 1999.](http://proceedings.spiedigitallibrary.org/proceeding.aspx?articleid=994814)"
   ]
  },
  {
   "cell_type": "code",
   "execution_count": null,
   "metadata": {},
   "outputs": [],
   "source": [
    "num_comps = 4\n",
    "\n",
    "nfindr_results = eea.nfindr.NFINDR(data_mat, num_comps) #Find endmembers\n",
    "end_members = nfindr_results[0]\n",
    "\n",
    "fig, axis = plt.subplots()\n",
    "for comp_ind, end_member in enumerate(end_members):\n",
    "    axis.plot(end_member + comp_ind * 1000, \n",
    "              label = 'NFINDR Component #' + str(comp_ind))\n",
    "axis.set_title('NFINDR Endmembers', fontsize=14)\n",
    "axis.set_xlabel(x_label, fontsize=12)\n",
    "axis.set_ylabel(y_label, fontsize=12)\n",
    "axis.legend(bbox_to_anchor=[1.0,1.0], fontsize=12)\n",
    "\n",
    "# fully constrained least squares model:\n",
    "fcls = amp.FCLS() \n",
    "# Find abundances:\n",
    "amap = fcls.map(data_mat[np.newaxis, :, :], end_members) \n",
    "\n",
    "# Reshaping amap to match those of conventional endmembers\n",
    "amap = np.squeeze(amap).T\n",
    "\n",
    "fig2, axis2 = plt.subplots()\n",
    "for comp_ind, abundance in enumerate(amap):\n",
    "    axis2.plot(abundance, label = 'NFIND R Component #' + str(comp_ind) )\n",
    "axis2.set_title('Abundances', fontsize=14)\n",
    "axis2.set_xlabel(x_label, fontsize=12)\n",
    "axis2.set_ylabel('Abundance (a. u.)', fontsize=12)\n",
    "axis2.legend(bbox_to_anchor=[1.0,1.0], fontsize=12);"
   ]
  },
  {
   "cell_type": "code",
   "execution_count": null,
   "metadata": {
    "collapsed": true
   },
   "outputs": [],
   "source": [
    "# Delete the temporarily downloaded file\n",
    "os.remove(data_file_path)\n",
    "# Close and delete the h5_file\n",
    "h5_file.close()\n",
    "os.remove(h5_path)"
   ]
  },
  {
   "cell_type": "code",
   "execution_count": null,
   "metadata": {
    "collapsed": true
   },
   "outputs": [],
   "source": []
  }
 ],
 "metadata": {
  "anaconda-cloud": {},
  "kernelspec": {
   "display_name": "Python 3",
   "language": "python",
   "name": "python3"
  },
  "language_info": {
   "codemirror_mode": {
    "name": "ipython",
    "version": 3
   },
   "file_extension": ".py",
   "mimetype": "text/x-python",
   "name": "python",
   "nbconvert_exporter": "python",
   "pygments_lexer": "ipython3",
   "version": "3.5.2"
  }
 },
 "nbformat": 4,
 "nbformat_minor": 1
}
