{
 "cells": [
  {
   "cell_type": "code",
   "execution_count": 1,
   "metadata": {
    "collapsed": true
   },
   "outputs": [],
   "source": [
    "%matplotlib inline"
   ]
  },
  {
   "cell_type": "markdown",
   "metadata": {},
   "source": [
    "Formalizing Data Processing\n",
    "=======================================\n",
    "\n",
    "**Suhas Somnath**\n",
    "\n",
    "4/26/2018\n",
    "\n",
    "**In this example, we will learn how to write a simple yet formal pycroscopy class for processing data.**\n",
    "\n",
    "Introduction\n",
    "------------\n",
    "Most of code written for scientific research is in the form of single-use / one-off scripts due to a few common reasons:\n",
    "* the author feels that it is the fastest mode to accomplishing a research task \n",
    "* the author feels that they are unlikely to perform the same operation again \n",
    "* the author does not anticipate the possibility that others may need to run their code\n",
    "\n",
    "However, more often than not, nearly all researchers have found that one or more of these assumptions fail and a lot of time is spent on fixing bugs and generalizing / formalizing code such that it can be shared or reused. Moreover, we live in an era of open science where the scientific community and an ever-increasing number of scientific journals are moving towards a paradigm where the data and code need to be made available with journal papers. Therefore, in the interest of saving time, energy, and reputation (you do not want to show ugly code / data. Instead you want to be the paragon of clean intellgible data and code), it makes a lot more sense to formalize (parts of) one's data analysis code.  \n",
    "\n",
    "For many researchers, formalizing data processing or analysis may seem like a daunting task due to the complexity of and the number of sub-operations that need to performed. **pycroscopy.Process** greatly simplifies the process of formalizing code by lifting or reducing the burden of implementing important, yet tedious tasks and considerations such as:\n",
    "* **memory management** - reading chunks of datasets that can be processed with the available memory, something very crcuial for very large datasets that cannot entirely fit into the computer's memory \n",
    "* **considerate CPU usage for parallel computing** - using all but one or two CPU cores for the (parallel) computation , which allows the user to continue using the computer for other activities such as reading mail, etc.\n",
    "* **pausing and resuming computation** - interrupting and resuming the computation at a more convenient time, something that is especially valuable for lengthy computations.\n",
    "* **avoiding repeated computation and returning existing results** - pycroscopy.Process will return existing results computed using the exact same parameters instead of re-computing and storing duplicate copies of the same results.\n",
    "* **testing before computation** - checking the processing / analysis on a single unit (typically a single pixel) of data before the entire data is processed. This is particularly useful for lengthy computations.\n",
    "\n",
    "Using **pycroscopy.Process**, the user only needs to address the following basic operations:\n",
    "1. Reading data from file\n",
    "2. Computation on a single unit of data\n",
    "3. Writing results to disk\n",
    "\n",
    "\n",
    "Components of pycroscopy.Process\n",
    "-----------------------------------\n",
    "The most important functions in the Process class are:\n",
    "* **__init__()** - instantiates a 'Process' object of this class after validating the inputs.\n",
    "* **_create_results_datasets()** - creates the HDF5 datasets and Group(s) to store the results.\n",
    "* **_map_function()** - the operation that will per be performed on each element in the dataset.\n",
    "* **test()** - This simple function lets the user test the **map_function** on a unit of data (a single pixel / spectra in this case) to see if it returns the desired results. It saves a lot of computational time by allowing the user to spot-check results before computing on the entire dataset\n",
    "* **_read_data_chunk()** - reads the input data from one or more datasets.\n",
    "* **_write_results_chunk()** - writes the computed results back to the file\n",
    "* **_unit_computation()** - Defines how to process a chunk (multiple units) of data. This allows room for pre-processing of input data and post-processing of results if necessary. If neither are required, this function essentially appliest parallel computation on _map_function().\n",
    "* **compute()** - this does the bulk of the work of (iteratively) reading a chunk of data >> processing in parallel via _unit_computation() >> calling write_results_chunk() to write data. Most sub-classes, including the one below, do not need to extend / modify this function.\n",
    "\n",
    "Recommended pre-requisite reading\n",
    "---------------------------------\n",
    "* pycroscopy data format - https://pycroscopy.github.io/pycroscopy/data_format.html.\n",
    "* Crash course on HDF5 and h5py - \n",
    "* Utilities for reading and writing HDF5 files in pycroscopy.hdf_utils\n",
    "* Crash course on Parallel processing\n",
    "\n",
    "Example problem\n",
    "---------------\n",
    "For this example, we will be working with a Band Excitation Piezoresponse Force Microscopy (BE-PFM) imaging dataset\n",
    "acquired from advanced atomic force microscopes. In this dataset, a spectra was collected for each position in a two\n",
    "dimensional grid of spatial locations. Thus, this is a three dimensional dataset that has been flattened to a two\n",
    "dimensional matrix in accordance with the pycroscopy data format.\n",
    "\n",
    "This example is based on the parallel computing primer where we searched for the peak of each spectra in a dataset. While that example focused on comparing serial and parallel computing, we will focus on demonstrating the simplicity with which such a data analysis algorithm can be formalized. \n",
    "\n",
    "This example is a simplification of the pycroscopy.analysis.BESHOFitter class. \n",
    "\n",
    "Import necessary packages\n",
    "-------------------------"
   ]
  },
  {
   "cell_type": "code",
   "execution_count": 2,
   "metadata": {},
   "outputs": [
    {
     "name": "stderr",
     "output_type": "stream",
     "text": [
      "//anaconda/lib/python3.5/site-packages/h5py/__init__.py:36: FutureWarning: Conversion of the second argument of issubdtype from `float` to `np.floating` is deprecated. In future, it will be treated as `np.float64 == np.dtype(float).type`.\n",
      "  from ._conv import register_converters as _register_converters\n",
      "/Users/syz/PycharmProjects/pycroscopy/pycroscopy/__init__.py:25: UserWarning: You are using the unity_dev branch, which is aimed at a 1.0 release for pycroscopy. Be advised - this branch changes very significantly and frequently. Use the master or dev branches for regular purposes.\n",
      "  warn('You are using the unity_dev branch, which is aimed at a 1.0 release for pycroscopy. '\n"
     ]
    }
   ],
   "source": [
    "from __future__ import division, print_function, absolute_import, unicode_literals\n",
    "\n",
    "# The package for accessing files in directories, etc.:\n",
    "import os\n",
    "\n",
    "# Warning package in case something goes wrong\n",
    "from warnings import warn\n",
    "\n",
    "# Package for downloading online files:\n",
    "try:\n",
    "    # This package is not part of anaconda and may need to be installed.\n",
    "    import wget\n",
    "except ImportError:\n",
    "    warn('wget not found.  Will install with pip.')\n",
    "    import pip\n",
    "    pip.main(['install', 'wget'])\n",
    "    import wget\n",
    "\n",
    "# The mathematical computation package:\n",
    "import numpy as np\n",
    "from numpy import exp, abs, sqrt, sum, real, imag, arctan2, append\n",
    "\n",
    "# The package used for creating and manipulating HDF5 files:\n",
    "import h5py\n",
    "\n",
    "# Packages for plotting:\n",
    "import matplotlib.pyplot as plt\n",
    "\n",
    "# Finally import pycroscopy for certain scientific analysis:\n",
    "if True:\n",
    "    import sys\n",
    "    sys.path.append(os.path.split(os.path.abspath('.'))[0])\n",
    "    import pycroscopy as px\n",
    "else:\n",
    "    try:\n",
    "        import pycroscopy as px\n",
    "    except ImportError:\n",
    "        warn('pycroscopy not found.  Will install with pip.')\n",
    "        import pip\n",
    "        pip.main(['install', 'pycroscopy'])\n",
    "        import pycroscopy as px"
   ]
  },
  {
   "cell_type": "markdown",
   "metadata": {},
   "source": [
    "The goal is to **find the amplitude at the peak in each spectra**. Clearly, the operation of finding the peak in one spectra is independent of the same operation on another spectra. Thus, we could divide the dataset in to N parts and use N CPU cores to compute the results much faster than it would take a single core to compute the results. Such problems are ideally suited for making use of all the advanced functionalities in the Process class.\n",
    "\n",
    "Defining the Process class\n",
    "===============\n",
    "In order to solve our problem, we would need to implement a **sub-class** of pycroscopy.Process or in other words - **extend pycroscopy.Process**. As mentioned above, the pycroscopy.Process class already generalizes several important components of data processing. We only need to extend this class by implementing the science-specific functionality. The rest of the capabilities will be **inherited** from pycroscopy.Process.  \n",
    "\n",
    "Lets think about what operations need be performed for each of the core Process functions listed above.\n",
    "\n",
    "map_function()\n",
    "--------------\n",
    "The most important component in our new Process class is the unit computation that needs to be performed on each spectra. **map_function()** needs to take as input a single spectra and return the amplitude at the peak (a single value). The **compute()** and **unit_computation()** will handle the parallelization.\n",
    "\n",
    "Pycroscopy already has a function called wavelet_peaks() that facilitates the seach for one or more peaks in a spectra located in pycroscopy.analysis.guess_methods. The exact methodolody for finding the peaks is not of interest for this particular example. However, this function only finds the index of one or more peaks in the spectra. We only expect one peak at the center of the spectra. Therefore, we can use the wavelet_peaks() function to find the peaks and address those situations when too few or too many (> 1) peaks are found in a single spectra. Finally, we need to use the index of the peak to find the amplitude from the spectra.\n",
    "\n",
    "test()\n",
    "------\n",
    "A useful test function should be able to find the peak amplitude for any single spectra in the dataset. So, given the index of a pixel (provided by the user), we should perform two operations:\n",
    "* read the spectra corresponding to that index from the HDF5 dataset\n",
    "* apply the **map_function()** to this spectra and return the result.\n",
    "\n",
    "create_results_datasets()\n",
    "------------------------\n",
    "Every Process involves a few tasks for this function:\n",
    "* the creation of a HDF5 group to hold the datasets containing the results - pycroscopy.hdf_utils has a handy function that takes care of this.\n",
    "* storing any relevant metadata regarding this processing as attributes of the HDF5 group for provenance, traceability, and reproducability.\n",
    "    * 'last_pixel' is a reserved attribute that serves as a flag indicating the last pixel that was successfully processed and written to the results dataset. This attribute is key for resuming partial computations.\n",
    "* the creation of HDF5 dataset(s) to hold the results. **map_function()** takes a spectra (1D array) and returns the amplitude (a single value). Thus the input dataset (position, spectra) will be reduced to (position, 1). So, we only need to create a single empty dataset to hold the results.\n",
    "We just need to ensure that we have a reference to the results dataset so that we can populate it with the results.\n",
    "\n",
    "write_results_chunk()\n",
    "--------------------\n",
    "The result of **compute()** will be a list of amplitude values. All we need to do is:\n",
    "* write the results into the HDF5 dataset\n",
    "* Set the **last_pixel** attribute to the value of the **end_pos** internal variable to indicate that pixels upto **end_pos** were succesfully processed. Should the computation be interrupted after this point, we could resume from **end_pos** instead of starting from **0** again. \n",
    "* update the **start_pos** internal variable to guide compute() to process the next batch of positions / pixels"
   ]
  },
  {
   "cell_type": "code",
   "execution_count": 3,
   "metadata": {
    "collapsed": true
   },
   "outputs": [],
   "source": [
    "class PeakFinder(px.Process):\n",
    "        \n",
    "    def test(self, pixel_ind):\n",
    "        \"\"\"\n",
    "        Test the algorithm on a single pixel\n",
    "        \n",
    "        Parameters\n",
    "        ----------\n",
    "        pixel_ind : uint\n",
    "            Index of the pixel in the dataset that the process needs to be tested on.\n",
    "        \"\"\"\n",
    "        # First read the HDF5 dataset to get the spectra for this pixel\n",
    "        spectra = self.h5_main[pixel_ind]\n",
    "        # Next, apply the map function to the spectra. done!\n",
    "        return self._map_function(spectra)\n",
    "\n",
    "    def _create_results_datasets(self):\n",
    "        \"\"\"\n",
    "        Creates the datasets an Groups necessary to store the results.\n",
    "        There are only THREE operations happening in this function:\n",
    "        1. Creation of HDF5 group to hold results\n",
    "        2. Writing relevant metadata to this HDF5 group\n",
    "        3. Creation of a HDF5 dataset to hold results\n",
    "        \n",
    "        Please see examples on utilities for writing pycroscopy HDF5 files for more information\n",
    "        \"\"\"\n",
    "        self.process_name = 'Peak_Finding'\n",
    "        \n",
    "        # 1. create a HDF5 group to hold the results\n",
    "        self.h5_results_grp = px.hdf_utils.create_results_group(self.h5_main, self.process_name)\n",
    "        \n",
    "        # 2. Write relevant metadata to the group\n",
    "        px.hdf_utils.write_simple_attrs(self.h5_results_grp, \n",
    "                                        {'last_pixel': 0, 'algorithm': 'wavelet_peaks'})       \n",
    "        \n",
    "        # Explicitely stating all the inputs to write_main_dataset\n",
    "        # The process will reduce the spectra at each position to a single value\n",
    "        # Therefore, the result is a 2D dataset with the same number of positions as self.h5_main\n",
    "        results_shape = (self.h5_main.shape[0], 1)\n",
    "        results_dset_name = 'Peak_Response'\n",
    "        results_quantity = 'Amplitude'\n",
    "        results_units = 'V'\n",
    "        pos_dims = None # Reusing those linked to self.h5_main\n",
    "        spec_dims = px.write_utils.Dimension('Empty', 'a. u.', 1)\n",
    "        \n",
    "        \n",
    "        # 3. Create an empty results dataset that will hold all the results\n",
    "        self.h5_results = px.hdf_utils.write_main_dataset(self.h5_results_grp, results_shape, results_dset_name, \n",
    "                                                          results_quantity, results_units, pos_dims, spec_dims, \n",
    "                                                          dtype=np.float32,\n",
    "                                                          h5_pos_inds=self.h5_main.h5_pos_inds,\n",
    "                                                          h5_pos_vals=self.h5_main.h5_pos_vals)\n",
    "        # Note that this function automatically creates the ancillary datasets and links them.\n",
    "        \n",
    "        print('Finshed creating datasets')\n",
    "    \n",
    "    def _write_results_chunk(self):\n",
    "        \"\"\"\n",
    "        Write the computed results back to the H5\n",
    "        In this case, there isn't any more additional post-processing required\n",
    "        \"\"\"            \n",
    "        # write the results to the file \n",
    "        self.h5_results[:, 0] = np.array(self._results)\n",
    "        \n",
    "        # Flush the results to ensure that they have indeed been written to the file\n",
    "        self.h5_main.file.flush()\n",
    "        \n",
    "        # update the 'last_pixel' to indicate that the process was succesfully completed on this many positions:\n",
    "        self.h5_results_grp.attrs['last_pixel'] = self._end_pos\n",
    "\n",
    "        # Now update the start position\n",
    "        self._start_pos = self._end_pos       \n",
    "\n",
    "    @staticmethod\n",
    "    def _map_function(spectra, *args, **kwargs):\n",
    "        \"\"\"\n",
    "        This is the function that will be applied to each pixel in the dataset.\n",
    "        It's job is to demonstrate what needs to be done for each pixel in the dataset.\n",
    "        pycroscopy.Process will handle the parallel computation and memory management\n",
    "        \n",
    "        As in typical scientific problems, the results from wavelet_peaks() need to be\n",
    "        post-processed\n",
    "        \n",
    "        In this case, the wavelet_peaks() function can sometimes return 0 or more than one peak\n",
    "        for spectra that are very noisy\n",
    "        \n",
    "        Knowing that the peak is typically at the center of the spectra,\n",
    "        we return the central index when no peaks were found\n",
    "        Or the index closest to the center when multiple peaks are found\n",
    "        \n",
    "        Finally once we have a single index, we need to index the spectra by that index\n",
    "        in order to get the amplitude at that frequency.\n",
    "        \"\"\"\n",
    "        \n",
    "        peak_inds = px.analysis.guess_methods.GuessMethods.wavelet_peaks(spectra, peak_widths=[20, 60], peak_step=30)\n",
    "        \n",
    "        central_ind = len(spectra) // 2\n",
    "        if len(peak_inds) == 0: \n",
    "            # too few peaks\n",
    "            # set peak to center of spectra\n",
    "            val = central_ind\n",
    "        elif len(peak_inds) > 1:\n",
    "            # too many peaks\n",
    "            # set to peak closest to center of spectra\n",
    "            dist = np.abs(peak_inds - central_ind)\n",
    "            val = peak_inds[np.argmin(dist)]\n",
    "        else:\n",
    "            # normal situation\n",
    "            val = peak_inds[0]\n",
    "        return np.abs(spectra[val])"
   ]
  },
  {
   "cell_type": "markdown",
   "metadata": {},
   "source": [
    "Comments\n",
    "---------\n",
    "* The class appears to be large mainly because of comments that explain what each line of code is doing.\n",
    "* Several functions of pycroscopy.Process such as __init__() and **compute()** were inherited from the pycroscopy.Process class.\n",
    "* In simple cases such as this, we don't even have to implement a function to read the data from the dataset since pycroscopy.Process automatically calculates how much of the data iss safe to load into memory. In this case, the dataset is far smaller than the computer memory, so the entire dataset can be loaded and processed at once.\n",
    "* In this example, we did not need any pre-processing or post-processing of results but those can be implemented too if necessary\n",
    "* The majority of the code in this class would have to be written regardless of whether the intention is formalize the data processing or not. In fact, we would argue that **more** code may need to be written than what is shown below if one were **not** formalizing the data processing (data reading, parallel computing, memory management, etc.)\n",
    "* This is the simplest possible implementation of Process. Certain features such as checking for existing results and resuming partial computations have not been shown in this example.\n",
    "\n",
    "Using this Process class\n",
    "================\n",
    "Now that the class has been written, it can be applied to an actual dataset.\n",
    "\n",
    "Load the dataset\n",
    "----------------\n",
    "In order to demonstrate this Process class, we will be using a real experimental dataset that is available on the pycroscopy GitHub project. First, lets download this file from Github:"
   ]
  },
  {
   "cell_type": "code",
   "execution_count": 4,
   "metadata": {
    "collapsed": true
   },
   "outputs": [],
   "source": [
    "# download the raw data file from Github:\n",
    "h5_path = 'temp.h5'\n",
    "url = 'https://raw.githubusercontent.com/pycroscopy/pycroscopy/master/data/BELine_0004.h5'\n",
    "if os.path.exists(h5_path):\n",
    "    os.remove(h5_path)\n",
    "_ = wget.download(url, h5_path, bar=None)"
   ]
  },
  {
   "cell_type": "markdown",
   "metadata": {},
   "source": [
    "Lets open the file in an editable (r+) mode and look at the contents:"
   ]
  },
  {
   "cell_type": "code",
   "execution_count": 10,
   "metadata": {},
   "outputs": [
    {
     "name": "stdout",
     "output_type": "stream",
     "text": [
      "File contents:\n",
      "\n",
      "/\n",
      "├ Measurement_000\n",
      "  ---------------\n",
      "  ├ Channel_000\n",
      "    -----------\n",
      "    ├ Bin_FFT\n",
      "    ├ Bin_Frequencies\n",
      "    ├ Bin_Indices\n",
      "    ├ Bin_Step\n",
      "    ├ Bin_Wfm_Type\n",
      "    ├ Excitation_Waveform\n",
      "    ├ Noise_Floor\n",
      "    ├ Position_Indices\n",
      "    ├ Position_Values\n",
      "    ├ Raw_Data\n",
      "    ├ Raw_Data-Peak_Finding_000\n",
      "      -------------------------\n",
      "      ├ Peak_Response\n",
      "      ├ Spectroscopic_Indices\n",
      "      ├ Spectroscopic_Values\n",
      "    ├ Spatially_Averaged_Plot_Group_000\n",
      "      ---------------------------------\n",
      "      ├ Bin_Frequencies\n",
      "      ├ Mean_Spectrogram\n",
      "      ├ Spectroscopic_Parameter\n",
      "      ├ Step_Averaged_Response\n",
      "    ├ Spectroscopic_Indices\n",
      "    ├ Spectroscopic_Values\n",
      "    ├ UDVS\n",
      "    ├ UDVS_Indices\n"
     ]
    }
   ],
   "source": [
    "# Open the file in editable mode\n",
    "#h5_file = h5py.File(h5_path, mode='r+')\n",
    "print('File contents:\\n')\n",
    "px.hdf_utils.print_tree(h5_file)"
   ]
  },
  {
   "cell_type": "markdown",
   "metadata": {},
   "source": [
    "The focus of this example is not on the data storage or formatting but rather on demonstrating our new Process class so lets dive straight into the main dataset that requires analysis of the spectra:"
   ]
  },
  {
   "cell_type": "code",
   "execution_count": 5,
   "metadata": {},
   "outputs": [
    {
     "name": "stdout",
     "output_type": "stream",
     "text": [
      "\n",
      "The main dataset:\n",
      "------------------------------------\n",
      "<HDF5 dataset \"Raw_Data\": shape (16384, 119), type \"<c8\">\n",
      "located at: \n",
      "/Measurement_000/Channel_000/Raw_Data \n",
      "Data contains: \n",
      "[''] (['a']) \n",
      "Data dimensions and original shape: \n",
      "Position Dimensions: \n",
      "X - size: 128 \n",
      "Y - size: 128 \n",
      "Spectroscopic Dimensions: \n",
      "Frequency - size: 119\n"
     ]
    }
   ],
   "source": [
    "\n",
    "\n",
    "h5_chan_grp = h5_file['Measurement_000/Channel_000']\n",
    "\n",
    "# Accessing the dataset of interest:\n",
    "h5_main = px.PycroDataset(h5_chan_grp['Raw_Data'])\n",
    "print('\\nThe main dataset:\\n------------------------------------')\n",
    "print(h5_main)\n",
    "\n",
    "# Extract some metadata:\n",
    "num_rows, num_cols = h5_main.pos_dim_sizes\n",
    "freq_vec = h5_main.get_spec_values('Frequency') * 1E-3"
   ]
  },
  {
   "cell_type": "markdown",
   "metadata": {},
   "source": [
    "Use the Process class\n",
    "============\n",
    "\n",
    "Instantiation\n",
    "-------------\n",
    "Note that the instantiation of the new PeakFinder Process class only requires that we supply the main dataset on which the computation will be performed:"
   ]
  },
  {
   "cell_type": "code",
   "execution_count": 6,
   "metadata": {},
   "outputs": [
    {
     "name": "stdout",
     "output_type": "stream",
     "text": [
      "Consider calling test() to check results before calling compute() which computes on the entire dataset and writes back to the HDF5 file\n"
     ]
    }
   ],
   "source": [
    "fitter = PeakFinder(h5_main)"
   ]
  },
  {
   "cell_type": "markdown",
   "metadata": {},
   "source": [
    "test()\n",
    "------\n",
    "As advised, lets test the PeakFinder on an example pixel:"
   ]
  },
  {
   "cell_type": "code",
   "execution_count": 7,
   "metadata": {},
   "outputs": [],
   "source": [
    "row_ind, col_ind = 103, 19\n",
    "pixel_ind = col_ind + row_ind * num_cols\n",
    "\n",
    "# Testing is as simple as supplying a pixel index\n",
    "amplitude = fitter.test(pixel_ind)"
   ]
  },
  {
   "cell_type": "markdown",
   "metadata": {},
   "source": [
    "Now, let's visualize the results of the test:"
   ]
  },
  {
   "cell_type": "code",
   "execution_count": 8,
   "metadata": {},
   "outputs": [
    {
     "data": {
      "image/png": "[encoded data removed]",
      "text/plain": [
       "<Figure size 288x288 with 1 Axes>"
      ]
     },
     "metadata": {},
     "output_type": "display_data"
    }
   ],
   "source": [
    "spectra = h5_main[pixel_ind]\n",
    "\n",
    "fig, axis = plt.subplots(figsize=(4, 4))\n",
    "axis.scatter(freq_vec, np.abs(spectra), c='black')\n",
    "axis.axhline(amplitude, color='r', linewidth=2)\n",
    "axis.set_xlabel('Frequency (kHz)', fontsize=14)\n",
    "axis.set_ylabel('Amplitude (V)')\n",
    "axis.set_ylim([0, 1.1 * np.max(np.abs(spectra))])\n",
    "axis.set_title('PeakFinder applied to pixel\\nat row: {}, col: {}'.format(row_ind, col_ind), fontsize=16);"
   ]
  },
  {
   "cell_type": "markdown",
   "metadata": {},
   "source": [
    "If we weren't happy with the results, we could tweak some parameters when initializing the PeakFinder object and try again. However, for the sake of simplicity, we don't have any parameters we can / want to adjust in this case. So, lets proceed.\n",
    "\n",
    "compute()\n",
    "---------\n",
    "Now that we know that the PeakFitter appears to be performing as expected, we can apply the amplitude finding operation to the entire dataset using the compute() function. The result is the HDF5 dataset containing the results."
   ]
  },
  {
   "cell_type": "code",
   "execution_count": 9,
   "metadata": {
    "scrolled": false
   },
   "outputs": [
    {
     "name": "stdout",
     "output_type": "stream",
     "text": [
      "Finshed creating datasets\n",
      "You maybe able to abort this computation at any time and resume at a later time!\n",
      "\tIf you are operating in a python console, press Ctrl+C or Cmd+C to abort\n",
      "\tIf you are in a Jupyter notebook, click on \"Kernel\">>\"Interrupt\"\n",
      "Finished parallel computation\n",
      "Completed computation on chunk. Writing to file.\n",
      "<HDF5 group \"/Measurement_000/Channel_000/Raw_Data-Peak_Finding_000\" (3 members)>\n"
     ]
    }
   ],
   "source": [
    "h5_results_grp = fitter.compute()\n",
    "print(h5_results_grp)"
   ]
  },
  {
   "cell_type": "markdown",
   "metadata": {},
   "source": [
    "Lets take a look again at the file contents. We should be seeing a new group called Raw_Data-Peak_Finding_000 and three datasets within the group. Among the datasets is 'Peak_Response' that contains the peak amplitudes we are interested in."
   ]
  },
  {
   "cell_type": "code",
   "execution_count": 11,
   "metadata": {},
   "outputs": [
    {
     "name": "stdout",
     "output_type": "stream",
     "text": [
      "/\n",
      "├ Measurement_000\n",
      "  ---------------\n",
      "  ├ Channel_000\n",
      "    -----------\n",
      "    ├ Bin_FFT\n",
      "    ├ Bin_Frequencies\n",
      "    ├ Bin_Indices\n",
      "    ├ Bin_Step\n",
      "    ├ Bin_Wfm_Type\n",
      "    ├ Excitation_Waveform\n",
      "    ├ Noise_Floor\n",
      "    ├ Position_Indices\n",
      "    ├ Position_Values\n",
      "    ├ Raw_Data\n",
      "    ├ Raw_Data-Peak_Finding_000\n",
      "      -------------------------\n",
      "      ├ Peak_Response\n",
      "      ├ Spectroscopic_Indices\n",
      "      ├ Spectroscopic_Values\n",
      "    ├ Spatially_Averaged_Plot_Group_000\n",
      "      ---------------------------------\n",
      "      ├ Bin_Frequencies\n",
      "      ├ Mean_Spectrogram\n",
      "      ├ Spectroscopic_Parameter\n",
      "      ├ Step_Averaged_Response\n",
      "    ├ Spectroscopic_Indices\n",
      "    ├ Spectroscopic_Values\n",
      "    ├ UDVS\n",
      "    ├ UDVS_Indices\n"
     ]
    }
   ],
   "source": [
    "px.hdf_utils.print_tree(h5_file)"
   ]
  },
  {
   "cell_type": "markdown",
   "metadata": {},
   "source": [
    "Lets look at this 'Peak_Response' dataset:"
   ]
  },
  {
   "cell_type": "code",
   "execution_count": 14,
   "metadata": {},
   "outputs": [
    {
     "name": "stdout",
     "output_type": "stream",
     "text": [
      "<HDF5 dataset \"Peak_Response\": shape (16384, 1), type \"<f4\">\n",
      "located at: \n",
      "/Measurement_000/Channel_000/Raw_Data-Peak_Finding_000/Peak_Response \n",
      "Data contains: \n",
      "Amplitude (V) \n",
      "Data dimensions and original shape: \n",
      "Position Dimensions: \n",
      "X - size: 128 \n",
      "Y - size: 128 \n",
      "Spectroscopic Dimensions: \n",
      "Empty - size: 1\n"
     ]
    }
   ],
   "source": [
    "h5_peak_amps = px.PycroDataset(h5_results_grp['Peak_Response'])\n",
    "print(h5_peak_amps)"
   ]
  },
  {
   "cell_type": "markdown",
   "metadata": {},
   "source": [
    "Visualize\n",
    "---------\n",
    "Since 'Peak_Response' is a PycroDataset, we could use its ability to provide its own N dimensional form:"
   ]
  },
  {
   "cell_type": "code",
   "execution_count": 16,
   "metadata": {},
   "outputs": [
    {
     "name": "stdout",
     "output_type": "stream",
     "text": [
      "N dimensional shape of Peak_Response: (128, 128)\n"
     ]
    }
   ],
   "source": [
    "amplitudes = np.squeeze(h5_peak_amps.get_n_dim_form())\n",
    "print('N dimensional shape of Peak_Response: {}'.format(amplitudes.shape))"
   ]
  },
  {
   "cell_type": "markdown",
   "metadata": {},
   "source": [
    "Finally, we can look at a map of the peak amplitude for the entire dataset:"
   ]
  },
  {
   "cell_type": "code",
   "execution_count": 17,
   "metadata": {},
   "outputs": [
    {
     "data": {
      "text/plain": [
       "Text(0.5,1,'Peak Amplitudes')"
      ]
     },
     "execution_count": 17,
     "metadata": {},
     "output_type": "execute_result"
    },
    {
     "data": {
      "image/png": "[encoded data removed]",
      "text/plain": [
       "<Figure size 288x288 with 1 Axes>"
      ]
     },
     "metadata": {},
     "output_type": "display_data"
    }
   ],
   "source": [
    "fig, axis = plt.subplots(figsize=(4, 4))\n",
    "axis.imshow(amplitudes)\n",
    "axis.set_title('Peak Amplitudes', fontsize=16)"
   ]
  },
  {
   "cell_type": "markdown",
   "metadata": {},
   "source": [
    "Clean up\n",
    "--------\n",
    "Finally lets close and delete the example HDF5 file"
   ]
  },
  {
   "cell_type": "code",
   "execution_count": 18,
   "metadata": {
    "collapsed": true
   },
   "outputs": [],
   "source": [
    "h5_file.close()\n",
    "os.remove(h5_path)"
   ]
  },
  {
   "cell_type": "markdown",
   "metadata": {},
   "source": [
    "Advanced examples\n",
    "-----------------\n",
    "Please see the following pycroscopy classes to learn more about the advanced functionalities such as resuming computations, checking of existing results, etc.:\n",
    "* pycroscopy.prcessing.SignalFilter\n",
    "* pycroscopy.analysis.GIVBayesian"
   ]
  }
 ],
 "metadata": {
  "kernelspec": {
   "display_name": "Python [default]",
   "language": "python",
   "name": "python3"
  },
  "language_info": {
   "codemirror_mode": {
    "name": "ipython",
    "version": 3
   },
   "file_extension": ".py",
   "mimetype": "text/x-python",
   "name": "python",
   "nbconvert_exporter": "python",
   "pygments_lexer": "ipython3",
   "version": "3.5.2"
  }
 },
 "nbformat": 4,
 "nbformat_minor": 1
}
