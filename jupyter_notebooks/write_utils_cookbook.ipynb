{
 "cells": [
  {
   "cell_type": "code",
   "execution_count": 2,
   "metadata": {},
   "outputs": [
    {
     "name": "stderr",
     "output_type": "stream",
     "text": [
      "//anaconda/lib/python3.5/site-packages/h5py/__init__.py:36: FutureWarning: Conversion of the second argument of issubdtype from `float` to `np.floating` is deprecated. In future, it will be treated as `np.float64 == np.dtype(float).type`.\n",
      "  from ._conv import register_converters as _register_converters\n",
      "/Users/syz/PycharmProjects/pycroscopy/pycroscopy/__init__.py:25: UserWarning: You are using the unity_dev branch, which is aimed at a 1.0 release for pycroscopy. Be advised - this branch changes very significantly and frequently. Use the master or dev branches for regular purposes.\n",
      "  warn('You are using the unity_dev branch, which is aimed at a 1.0 release for pycroscopy. '\n"
     ]
    }
   ],
   "source": [
    "import os\n",
    "import sys\n",
    "import numpy as np\n",
    "sys.path.append(os.path.split(os.path.abspath('.'))[0])\n",
    "import pycroscopy as px"
   ]
  },
  {
   "cell_type": "markdown",
   "metadata": {},
   "source": [
    "Introduction\n",
    "=========\n",
    "\n",
    "* Building ancillary datasets\n",
    "    * build_ind_val_matrices()\n",
    "    * make_indices_matrix\n",
    "    * create_spec_inds_from_vals\n",
    "    * get_aux_dset_slicing\n",
    "* Misc writing utilities\n",
    "    * calc_chunks\n",
    "    * clean_string_att"
   ]
  },
  {
   "cell_type": "code",
   "execution_count": 4,
   "metadata": {},
   "outputs": [
    {
     "data": {
      "text/plain": [
       "array([[0, 0, 0],\n",
       "       [1, 0, 0],\n",
       "       [0, 1, 0],\n",
       "       [1, 1, 0],\n",
       "       [0, 2, 0],\n",
       "       [1, 2, 0],\n",
       "       [0, 0, 1],\n",
       "       [1, 0, 1],\n",
       "       [0, 1, 1],\n",
       "       [1, 1, 1],\n",
       "       [0, 2, 1],\n",
       "       [1, 2, 1],\n",
       "       [0, 0, 2],\n",
       "       [1, 0, 2],\n",
       "       [0, 1, 2],\n",
       "       [1, 1, 2],\n",
       "       [0, 2, 2],\n",
       "       [1, 2, 2],\n",
       "       [0, 0, 3],\n",
       "       [1, 0, 3],\n",
       "       [0, 1, 3],\n",
       "       [1, 1, 3],\n",
       "       [0, 2, 3],\n",
       "       [1, 2, 3],\n",
       "       [0, 0, 4],\n",
       "       [1, 0, 4],\n",
       "       [0, 1, 4],\n",
       "       [1, 1, 4],\n",
       "       [0, 2, 4],\n",
       "       [1, 2, 4]], dtype=uint32)"
      ]
     },
     "execution_count": 4,
     "metadata": {},
     "output_type": "execute_result"
    }
   ],
   "source": [
    "px.write_utils.make_indices_matrix([2, 3, 5])"
   ]
  },
  {
   "cell_type": "code",
   "execution_count": null,
   "metadata": {
    "collapsed": true
   },
   "outputs": [],
   "source": [
    "max_v = 4\n",
    "half_pts = 8\n",
    "bi_triang = np.roll(np.hstack((np.linspace(-max_v, max_v, half_pts, endpoint=False),\n",
    "                               np.linspace(max_v, -max_v, half_pts, endpoint=False))), -half_pts // 2)\n",
    "cycles = [0, 1, 2]\n",
    "fields = [0, 1]\n",
    "exp_vals = np.vstack((np.tile(bi_triang, 6), np.tile(np.repeat(fields, 2 * half_pts), 3),\n",
    "                      np.repeat(cycles, 2 * 2 * half_pts)))\n",
    "exp_inds = np.vstack((np.tile(np.arange(2 * half_pts), 6), np.tile(np.repeat(fields, 2 * half_pts), 3),\n",
    "                      np.repeat(cycles, 2 * 2 * half_pts)))\n",
    "inds, vals = write_utils.build_ind_val_matrices([bi_triang, fields, cycles])\n",
    "self.assertTrue(np.allclose(exp_inds, inds))\n",
    "self.assertTrue(np.allclose(exp_vals, vals))"
   ]
  },
  {
   "cell_type": "code",
   "execution_count": null,
   "metadata": {
    "collapsed": true
   },
   "outputs": [],
   "source": [
    "max_v = 4\n",
    "half_pts = 8\n",
    "bi_triang = np.roll(np.hstack((np.linspace(-max_v, max_v, half_pts, endpoint=False),\n",
    "                               np.linspace(max_v, -max_v, half_pts, endpoint=False))), -half_pts // 2)\n",
    "cycles = [0, 1, 2]\n",
    "fields = [0, 1]\n",
    "exp_vals = np.vstack((np.tile(bi_triang, 6), np.tile(np.repeat(fields, 2 * half_pts), 3),\n",
    "                      np.repeat(cycles, 2 * 2 * half_pts)))\n",
    "exp_inds = np.vstack((np.tile(np.arange(2 * half_pts), 6), np.tile(np.repeat(fields, 2 * half_pts), 3),\n",
    "                      np.repeat(cycles, 2 * 2 * half_pts)))\n",
    "\n",
    "inds = write_utils.create_spec_inds_from_vals(exp_vals)\n",
    "self.assertTrue(np.allclose(inds, exp_inds))"
   ]
  },
  {
   "cell_type": "code",
   "execution_count": null,
   "metadata": {
    "collapsed": true
   },
   "outputs": [],
   "source": [
    "ret_val = write_utils.get_aux_dset_slicing(['X', 'Y'], is_spectroscopic=True)\n",
    "expected = {'X': (slice(0, 1), slice(None)), 'Y': (slice(1, 2), slice(None))}\n",
    "self.assertEqual(ret_val, expected)\n",
    "\n",
    "ret_val = write_utils.get_aux_dset_slicing(['X', 'Y'], is_spectroscopic=False)\n",
    "expected = {'X': (slice(None), slice(0, 1)), 'Y': (slice(None), slice(1, 2))}\n",
    "self.assertEqual(ret_val, expected)"
   ]
  },
  {
   "cell_type": "code",
   "execution_count": null,
   "metadata": {
    "collapsed": true
   },
   "outputs": [],
   "source": [
    "dimensions = (16384, 16384 * 4)\n",
    "dtype_bytesize = 4\n",
    "unit_chunks = None\n",
    "ret_val = write_utils.calc_chunks(dimensions, dtype_bytesize, unit_chunks=unit_chunks)\n",
    "self.assertTrue(np.allclose(ret_val, (26, 100)))\n",
    "\n",
    "dimensions = (16384, 16384 * 4)\n",
    "dtype_bytesize = 4\n",
    "unit_chunks = (3, 7)\n",
    "max_mem = 50000\n",
    "ret_val = write_utils.calc_chunks(dimensions, dtype_bytesize, unit_chunks=unit_chunks, max_chunk_mem=max_mem)\n",
    "self.assertTrue(np.allclose(ret_val, (57, 224)))"
   ]
  },
  {
   "cell_type": "code",
   "execution_count": null,
   "metadata": {
    "collapsed": true
   },
   "outputs": [],
   "source": [
    "expected = ['a', 'bc', 'def']\n",
    "returned = write_utils.clean_string_att(expected)\n",
    "expected = np.array(expected, dtype='S')\n",
    "for exp, act in zip(expected, returned):\n",
    "    self.assertEqual(exp, act)\n",
    "    \n",
    "expected = [1, 2, 3.456]\n",
    "self.assertEqual(expected, write_utils.clean_string_att(expected))"
   ]
  }
 ],
 "metadata": {
  "anaconda-cloud": {},
  "kernelspec": {
   "display_name": "Python [default]",
   "language": "python",
   "name": "python3"
  },
  "language_info": {
   "codemirror_mode": {
    "name": "ipython",
    "version": 3
   },
   "file_extension": ".py",
   "mimetype": "text/x-python",
   "name": "python",
   "nbconvert_exporter": "python",
   "pygments_lexer": "ipython3",
   "version": "3.5.2"
  }
 },
 "nbformat": 4,
 "nbformat_minor": 1
}
