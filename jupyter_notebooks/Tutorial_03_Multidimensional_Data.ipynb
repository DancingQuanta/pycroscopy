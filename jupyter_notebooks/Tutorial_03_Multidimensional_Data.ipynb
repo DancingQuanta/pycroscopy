{
 "cells": [
  {
   "cell_type": "markdown",
   "metadata": {},
   "source": [
    "# Tutorials for Developing Scientific Workflows in Pycroscopy - Part 3: Handling Multidimensional datasets\n",
    "\n",
    "#### Suhas Somnath\n",
    "8/8/2017\n",
    "\n",
    "This set of notebooks will serve as examples for developing end-to-end workflows for and using pycroscopy. \n",
    "\n",
    "__In this example, we will learn how to slice multidimensional datasets.__"
   ]
  },
  {
   "cell_type": "markdown",
   "metadata": {},
   "source": [
    "## Introduction\n",
    "\n",
    "In pycroscopy, all position dimensions of a dataset are collapsed into the first dimension and all other (spectroscopic) dimensions are collapsed to the second dimension to form a two dimensional matrix. The ancillary matricies, namely the spectroscopic indices and values matrix as well as the position indicies and values matrices will be essential for reshaping the data back to its original N dimensional form and for slicing multidimensional datasets"
   ]
  },
  {
   "cell_type": "code",
   "execution_count": null,
   "metadata": {},
   "outputs": [],
   "source": [
    "# downloading packages:\n",
    "# !pip install -U wget numpy h5py matplotlib ipywidgets pycroscopy\n",
    "\n",
    "# Ensure python 3 compatibility:\n",
    "from __future__ import division, print_function, absolute_import, unicode_literals\n",
    "\n",
    "# In case some of these packages are not installed, install them\n",
    "#!pip install -U os wget numpy h5py matplotlib pycroscopy\n",
    "\n",
    "# The package for accessing files in directories, etc.:\n",
    "import os\n",
    "import wget\n",
    "\n",
    "# The mathematical computation package:\n",
    "import numpy as np\n",
    "\n",
    "# The package used for creating and manipulating HDF5 files:\n",
    "import h5py\n",
    "\n",
    "# Packages for plotting:\n",
    "import matplotlib.pyplot as plt\n",
    "\n",
    "# basic interactive widgets:\n",
    "from ipywidgets import interact\n",
    "\n",
    "# Finally import pycroscopy for certain scientific analysis:\n",
    "import pycroscopy as px\n",
    "\n",
    "# set up notebook to show plots within the notebook\n",
    "% matplotlib inline"
   ]
  },
  {
   "cell_type": "markdown",
   "metadata": {},
   "source": [
    "## Load the dataset\n",
    "\n",
    "For this example, we will be working with a Band Excitation Polarization Switching (BEPS) First Order Reversal Curve (FORC) dataset acquired from advanced atomic force microscopes. In the much simpler Band Excitation (BE) imaging datasets, a single spectra is acquired at each location in a two dimensional grid of spatial locations. Thus, BE imaging datasets have two position dimensions (X, Y) and one spectroscopic dimension (frequency - against which the spectra is recorded). The BEPS-FORC dataset used in this example has a spectra for each combination of three other paramaters (DC offset, Field, bias waveform type {FORC}). Thus, this dataset has three new spectral dimensions in addition to the spectra itself. Hence, this dataet becomes a 2+4 = 6 dimensional dataset"
   ]
  },
  {
   "cell_type": "code",
   "execution_count": null,
   "metadata": {
    "collapsed": true
   },
   "outputs": [],
   "source": [
    "# download the raw data file from Github:\n",
    "h5_path = 'temp.h5'\n",
    "url = 'https://raw.githubusercontent.com/pycroscopy/pycroscopy/master/data/FORC_BEPS.h5'\n",
    "if os.path.exists(h5_path):\n",
    "    os.remove(h5_path)\n",
    "_ = wget.download(url, h5_path)"
   ]
  },
  {
   "cell_type": "code",
   "execution_count": null,
   "metadata": {},
   "outputs": [],
   "source": [
    "# Open the file in read-only mode\n",
    "h5_file = h5py.File(h5_path, mode='r')\n",
    "\n",
    "print('Datasets and datagroups within the file:\\n------------------------------------')\n",
    "px.hdf_utils.print_tree(h5_file)"
   ]
  },
  {
   "cell_type": "code",
   "execution_count": null,
   "metadata": {},
   "outputs": [],
   "source": [
    "h5_meas_grp = h5_file['Measurement_000']\n",
    "h5_main = h5_meas_grp['Channel_000/Raw_Data']\n",
    "print('\\nThe main dataset:\\n------------------------------------')\n",
    "print(h5_main)"
   ]
  },
  {
   "cell_type": "markdown",
   "metadata": {},
   "source": [
    "The main dataset clearly does not provide the multidimensional information about the data that will be necessary to slice the data. For that we need the ancillary datasets that support this main dataset"
   ]
  },
  {
   "cell_type": "code",
   "execution_count": null,
   "metadata": {
    "collapsed": true
   },
   "outputs": [],
   "source": [
    "# pycroscopy has a convenient function to access datasets linked to a given dataset:\n",
    "h5_spec_ind = px.hdf_utils.getAuxData(h5_main, 'Spectroscopic_Indices')[0]\n",
    "h5_spec_val = px.hdf_utils.getAuxData(h5_main, 'Spectroscopic_Values')[0]\n",
    "h5_pos_ind = px.hdf_utils.getAuxData(h5_main, 'Position_Indices')[0]\n",
    "h5_pos_val = px.hdf_utils.getAuxData(h5_main, 'Position_Values')[0]"
   ]
  },
  {
   "cell_type": "markdown",
   "metadata": {},
   "source": [
    "### Understanding the ancillary datasets:\n",
    "\n",
    "The position datasets are shaped as [spatial points, dimension] while the spectroscopic datasets are shaped as [dimension, spectral points]. Clearly the first axis of the position dataset and the second axis of the spectroscopic datasets match the correponding sizes of the main dataset.\n",
    "\n",
    "Again, the sum of the position and spectroscopic dimensions results in the 6 dimensions originally described above.\n",
    "\n",
    "Essentially, there is a unique combination of position and spectroscopic parameters for each cell in the two dimensionam main dataset. The interactive widgets below illustrate this point. The first slider represents the position dimension while the second represents the spectroscopic dimension. Each position index can be decoded to a set of X and Y indices and values while each spectroscopic index can be decoded into a set of frequency, dc offset, field, and forc parameters"
   ]
  },
  {
   "cell_type": "code",
   "execution_count": null,
   "metadata": {},
   "outputs": [],
   "source": [
    "print('Main Datasets of shape:', h5_main.shape)\n",
    "print('Position Datasets of shape:', h5_pos_ind.shape)\n",
    "print('Spectroscopic Datasets of shape:', h5_spec_ind.shape)\n",
    "\n",
    "spec_labels = px.hdf_utils.get_formatted_labels(h5_spec_ind)\n",
    "pos_labels = px.hdf_utils.get_formatted_labels(h5_pos_ind)\n",
    "\n",
    "def myfun(pos_index, spec_index):\n",
    "    for dim_ind, dim_name in enumerate(pos_labels):\n",
    "        print(dim_name,':',h5_pos_ind[pos_index, dim_ind])\n",
    "    for dim_ind, dim_name in enumerate(spec_labels):\n",
    "        print(dim_name,':',h5_spec_ind[dim_ind, spec_index])\n",
    "interact(myfun, pos_index=(0,h5_main.shape[0]-1, 1), spec_index=(0,h5_main.shape[1]-1, 1));"
   ]
  },
  {
   "cell_type": "markdown",
   "metadata": {},
   "source": [
    "## Visualizing the ancillary datasets\n",
    "\n",
    "The plots below show how the position and spectrocopic dimensions vary. Due to the high dimensionality of the spectroscopic dimensions, the variation of each dimension has been plotted separately.\n",
    "\n",
    "#### How we interpret these plots:\n",
    "\n",
    "__Positions__: For each Y index, the X index ramps up from 0 to 4 and repeats. Essentially, this means that for a given Y index, there were multiple measurments (different values of X)\n",
    "\n",
    "__Spectroscopic__: The plot for `FORC` shows that the next fastest dimension - `DC offset` was varied 6 times. Correspondingly, the plot for `DC offset` plot shows that this dimension ramps up from 0 to a little less than 40 for each `FORC` index. This trend is the same for the faster varying dimensions - `Frequency` and `Field`. "
   ]
  },
  {
   "cell_type": "code",
   "execution_count": null,
   "metadata": {},
   "outputs": [],
   "source": [
    "fig_1, axes = plt.subplots(ncols=2, figsize=(10,5))\n",
    "px.plot_utils.plot_line_family(axes[0], np.arange(h5_pos_ind.shape[0]), h5_pos_ind[()].T, \n",
    "                               line_names=pos_labels)\n",
    "axes[0].set_xlabel('Position points')\n",
    "axes[0].set_ylabel('Index')\n",
    "axes[0].set_title('Position Indices')\n",
    "axes[0].legend()\n",
    "px.plot_utils.plot_line_family(axes[1], np.arange(h5_spec_ind.shape[1]), h5_spec_ind, \n",
    "                               line_names=spec_labels)\n",
    "axes[1].set_xlabel('Spectroscopic points')\n",
    "axes[1].set_title('Spectroscopic Indices')\n",
    "axes[1].legend()\n",
    "\n",
    "fig_2, axes = plt.subplots(ncols=3, nrows=2, figsize=(15,10))\n",
    "for dim_ind, axis, dim_label, dim_array in zip([0,2], [axes.flat[0], axes.flat[3]], \n",
    "                                               [spec_labels[0], spec_labels[2]], \n",
    "                                               [h5_spec_ind[0,:500], h5_spec_ind[2,:500]]):\n",
    "    axis.plot(np.arange(dim_array.size), dim_array)\n",
    "    axis.set_xlabel('Spectroscopic points')\n",
    "    axis.set_ylabel('Index')\n",
    "    axis.set_title('Dim ' + str(dim_ind) + ' - ' + dim_label)\n",
    "    \n",
    "rhs_axes = [axes.flat[ind] for ind in [1,2,4,5]]\n",
    "for dim_ind, axis, dim_label, dim_array in zip(range(h5_spec_ind.shape[0]), rhs_axes, spec_labels, h5_spec_ind):\n",
    "    axis.plot(np.arange(dim_array.size), dim_array)\n",
    "    axis.set_xlabel('Spectroscopic points')\n",
    "    axis.set_ylabel('Index')\n",
    "    axis.set_title('Dim ' + str(dim_ind) + ' - ' + dim_label)"
   ]
  },
  {
   "cell_type": "code",
   "execution_count": null,
   "metadata": {},
   "outputs": [],
   "source": [
    "# A similar version of this function is available in pycroscopy.io.hdf_utils.get_formatted_labels\n",
    "def describe_dimensions(h5_aux):\n",
    "    for name, unit in zip(px.hdf_utils.get_attr(h5_aux, 'labels'),\n",
    "                            px.hdf_utils.get_attr(h5_aux, 'units')):\n",
    "        print(name, '[', unit, ']')\n",
    "\n",
    "print('Position dimension names and units:')\n",
    "describe_dimensions(h5_pos_ind)\n",
    "\n",
    "print('\\nSpectrocopic dimension names and units:')\n",
    "describe_dimensions(h5_spec_ind)   "
   ]
  },
  {
   "cell_type": "markdown",
   "metadata": {},
   "source": [
    "## Now lets find the size in each dimension\n",
    "For now lets assume that data is sampled at each position and at each spectral step\n",
    "In other words lets assume that data was not sampled over a random subset of points within a grid of points"
   ]
  },
  {
   "cell_type": "code",
   "execution_count": null,
   "metadata": {},
   "outputs": [],
   "source": [
    "# The function below has been implemented as pycroscopy.io.hdf_utils.get_dimensionality\n",
    "def get_dim_sizes(ind_dset, is_position=False):\n",
    "    # ind_dset here is expected to be of the shape [dimension, points] like the spectroscopic indices\n",
    "    if is_position:\n",
    "        # Position dimensions will be turned from [points, dimension] to [dimension, points]\n",
    "        ind_dset = np.transpose(ind_dset[()])\n",
    "        \n",
    "    dim_size = []\n",
    "    for col in ind_dset:\n",
    "        # For each dimension array, we will find the number of unique elements in it\n",
    "        dim_size.append(len(np.unique(col)))\n",
    "    return dim_size\n",
    "\n",
    "pos_dim_sizes = get_dim_sizes(h5_pos_ind, is_position=True)\n",
    "spec_dim_sizes = get_dim_sizes(h5_spec_ind)\n",
    "\n",
    "print('Positions:',pos_dim_sizes, '\\nSpectroscopic:', spec_dim_sizes)"
   ]
  },
  {
   "cell_type": "code",
   "execution_count": null,
   "metadata": {
    "collapsed": true
   },
   "outputs": [],
   "source": []
  }
 ],
 "metadata": {
  "anaconda-cloud": {},
  "kernelspec": {
   "display_name": "Python 3",
   "language": "python",
   "name": "python3"
  },
  "language_info": {
   "codemirror_mode": {
    "name": "ipython",
    "version": 3
   },
   "file_extension": ".py",
   "mimetype": "text/x-python",
   "name": "python",
   "nbconvert_exporter": "python",
   "pygments_lexer": "ipython3",
   "version": "3.5.2"
  }
 },
 "nbformat": 4,
 "nbformat_minor": 2
}
