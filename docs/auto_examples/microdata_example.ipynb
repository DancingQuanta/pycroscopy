{
  "nbformat_minor": 0,
  "metadata": {
    "kernelspec": {
      "language": "python",
      "name": "python3",
      "display_name": "Python 3"
    },
    "language_info": {
      "version": "3.5.2",
      "mimetype": "text/x-python",
      "file_extension": ".py",
      "name": "python",
      "pygments_lexer": "ipython3",
      "nbconvert_exporter": "python",
      "codemirror_mode": {
        "version": 3,
        "name": "ipython"
      }
    }
  },
  "nbformat": 4,
  "cells": [
    {
      "cell_type": "code",
      "source": [
        "%matplotlib inline"
      ],
      "metadata": {
        "collapsed": false
      },
      "outputs": [],
      "execution_count": null
    },
    {
      "cell_type": "markdown",
      "metadata": {},
      "source": [
        "\n# Writing to hdf5 using the Microdata objects\n\n\n\n\n\n"
      ]
    },
    {
      "cell_type": "code",
      "source": [
        "# Code source: Chris Smith -- cq6@ornl.gov\n# Liscense: MIT\n\nimport numpy as np\nimport pycroscopy as px"
      ],
      "metadata": {
        "collapsed": false
      },
      "outputs": [],
      "execution_count": null
    },
    {
      "cell_type": "markdown",
      "metadata": {},
      "source": [
        "Create some MicroDatasets and MicroDataGroups that will be written to the file.\nWith h5py, groups and datasets must be created from the top down,\nbut the Microdata objects allow us to build them in any order and link them later.\n\n"
      ]
    },
    {
      "cell_type": "code",
      "source": [
        "# First create some data\ndata1 = np.random.rand(5, 7)"
      ],
      "metadata": {
        "collapsed": false
      },
      "outputs": [],
      "execution_count": null
    },
    {
      "cell_type": "markdown",
      "metadata": {},
      "source": [
        "Now use the array to build the dataset.  This dataset will live\ndirectly under the root of the file.  The MicroDataset class also implements the\ncompression and chunking parameters from h5py.Dataset.\n\n"
      ]
    },
    {
      "cell_type": "code",
      "source": [
        "ds_main = px.MicroDataset('Main_Data', data=data1, parent='/')"
      ],
      "metadata": {
        "collapsed": false
      },
      "outputs": [],
      "execution_count": null
    },
    {
      "cell_type": "markdown",
      "metadata": {},
      "source": [
        "We can also create an empty dataset and write the values in later\nWith this method, it is neccessary to specify the dtype and maxshape kwarg parameters.\n\n"
      ]
    },
    {
      "cell_type": "code",
      "source": [
        "ds_empty = px.MicroDataset('Empty_Data', data=[], dtype=np.float32, maxshape=[7, 5, 3])"
      ],
      "metadata": {
        "collapsed": false
      },
      "outputs": [],
      "execution_count": null
    },
    {
      "cell_type": "markdown",
      "metadata": {},
      "source": [
        "We can also create groups and add other MicroData objects as children.\nIf the group's parent is not given, it will be set to root.\n\n"
      ]
    },
    {
      "cell_type": "code",
      "source": [
        "data_group = px.MicroDataGroup('Data_Group', parent='/')\n\nroot_group = px.MicroDataGroup('/')\n\n# After creating the group, we then add an existing object as its child.\ndata_group.addChildren([ds_empty])\nroot_group.addChildren([ds_main, data_group])"
      ],
      "metadata": {
        "collapsed": false
      },
      "outputs": [],
      "execution_count": null
    },
    {
      "cell_type": "markdown",
      "metadata": {},
      "source": [
        "The showTree method allows us to view the data structure before the hdf5 file is\ncreated.\n\n"
      ]
    },
    {
      "cell_type": "code",
      "source": [
        "root_group.showTree()"
      ],
      "metadata": {
        "collapsed": false
      },
      "outputs": [],
      "execution_count": null
    },
    {
      "cell_type": "markdown",
      "metadata": {},
      "source": [
        "Now that we have created the objects, we can write them to an hdf5 file\n\n"
      ]
    },
    {
      "cell_type": "code",
      "source": [
        "# First we specify the path to the file\nh5_path = 'microdata_test.h5'\n\n# Then we use the ioHDF5 class to build the file from our objects.\nhdf = px.ioHDF5(h5_path)"
      ],
      "metadata": {
        "collapsed": false
      },
      "outputs": [],
      "execution_count": null
    },
    {
      "cell_type": "markdown",
      "metadata": {},
      "source": [
        "The writeData method builds the hdf5 file using the structure defined by the\nMicroData objects.  It returns a list of references to all h5py objects in the\nnew file.\n\n"
      ]
    },
    {
      "cell_type": "code",
      "source": [
        "h5_refs = hdf.writeData(root_group, print_log=True)\n\n# We can use these references to get the h5py dataset and group objects\nh5_main = px.io.hdf_utils.getH5DsetRefs(['Main_Data'], h5_refs)[0]\nh5_empty = px.io.hdf_utils.getH5DsetRefs(['Empty_Data'], h5_refs)[0]"
      ],
      "metadata": {
        "collapsed": false
      },
      "outputs": [],
      "execution_count": null
    },
    {
      "cell_type": "markdown",
      "metadata": {},
      "source": [
        "Compare the data in our dataset to the original\n\n"
      ]
    },
    {
      "cell_type": "code",
      "source": [
        "print(np.allclose(h5_main[()], data1))"
      ],
      "metadata": {
        "collapsed": false
      },
      "outputs": [],
      "execution_count": null
    },
    {
      "cell_type": "markdown",
      "metadata": {},
      "source": [
        "As mentioned above, we can now write to the Empty_Data object\n\n"
      ]
    },
    {
      "cell_type": "code",
      "source": [
        "data2 = np.random.rand(*h5_empty.shape)\nh5_empty[:] = data2[:]"
      ],
      "metadata": {
        "collapsed": false
      },
      "outputs": [],
      "execution_count": null
    },
    {
      "cell_type": "markdown",
      "metadata": {},
      "source": [
        "Now that we are using h5py objects, we must use flush to write the data to file\nafter it has been altered.\nWe need the file object to do this.  It can be accessed as an attribute of the\nhdf object.\n\n"
      ]
    },
    {
      "cell_type": "code",
      "source": [
        "h5_file = hdf.file\nh5_file.flush()"
      ],
      "metadata": {
        "collapsed": false
      },
      "outputs": [],
      "execution_count": null
    },
    {
      "cell_type": "markdown",
      "metadata": {},
      "source": [
        "Now that we are done, we should close the file so that it can be accessed elsewhere.\n\n"
      ]
    },
    {
      "cell_type": "code",
      "source": [
        "h5_file.close()"
      ],
      "metadata": {
        "collapsed": false
      },
      "outputs": [],
      "execution_count": null
    }
  ]
}