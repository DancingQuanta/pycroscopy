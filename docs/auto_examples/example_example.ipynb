{
  "metadata": {
    "language_info": {
      "codemirror_mode": {
        "version": 3,
        "name": "ipython"
      },
      "name": "python",
      "file_extension": ".py",
      "version": "3.5.2",
      "nbconvert_exporter": "python",
      "mimetype": "text/x-python",
      "pygments_lexer": "ipython3"
    },
    "kernelspec": {
      "language": "python",
      "display_name": "Python 3",
      "name": "python3"
    }
  },
  "nbformat": 4,
  "nbformat_minor": 0,
  "cells": [
    {
      "execution_count": null,
      "outputs": [],
      "source": [
        "%matplotlib inline"
      ],
      "cell_type": "code",
      "metadata": {
        "collapsed": false
      }
    },
    {
      "source": [
        "\nAn Example on writing examples\n==============================\n\nThe example docstring will be printed as text along with the code of the example.\nIt should contain the desciption of the example code.\nOnly examples that begine with plot_* will be run when generating the docs.\n\n\n"
      ],
      "cell_type": "markdown",
      "metadata": {}
    },
    {
      "execution_count": null,
      "outputs": [],
      "source": [
        "# Code source: Chris Smith\n# Liscense: MIT\nprint('I am an example')"
      ],
      "cell_type": "code",
      "metadata": {
        "collapsed": false
      }
    }
  ]
}