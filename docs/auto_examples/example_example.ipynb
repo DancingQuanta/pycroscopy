{
  "nbformat_minor": 0,
  "metadata": {
    "kernelspec": {
      "language": "python",
      "name": "python3",
      "display_name": "Python 3"
    },
    "language_info": {
      "version": "3.5.2",
      "mimetype": "text/x-python",
      "file_extension": ".py",
      "name": "python",
      "pygments_lexer": "ipython3",
      "nbconvert_exporter": "python",
      "codemirror_mode": {
        "version": 3,
        "name": "ipython"
      }
    }
  },
  "nbformat": 4,
  "cells": [
    {
      "cell_type": "code",
      "source": [
        "%matplotlib inline"
      ],
      "metadata": {
        "collapsed": false
      },
      "outputs": [],
      "execution_count": null
    },
    {
      "cell_type": "markdown",
      "metadata": {},
      "source": [
        "\nAn Example on writing examples\n==============================\n\nThe example docstring will be printed as text along with the code of the example.\nIt should contain the desciption of the example code.\nOnly examples that begine with plot_* will be run when generating the docs.\n\n\n"
      ]
    },
    {
      "cell_type": "code",
      "source": [
        "# Code source: Chris Smith\n# Liscense: MIT\nprint('I am an example')"
      ],
      "metadata": {
        "collapsed": false
      },
      "outputs": [],
      "execution_count": null
    }
  ]
}